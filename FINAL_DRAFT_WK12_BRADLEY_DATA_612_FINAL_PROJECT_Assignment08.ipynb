{
  "nbformat": 4,
  "nbformat_minor": 0,
  "metadata": {
    "colab": {
      "name": "FINAL_DRAFT_WK12_BRADLEY_DATA_612_FINAL_PROJECT_Assignment08.ipynb",
      "provenance": [],
      "collapsed_sections": []
    },
    "kernelspec": {
      "name": "python3",
      "display_name": "Python 3"
    }
  },
  "cells": [
    {
      "cell_type": "markdown",
      "metadata": {
        "id": "dtHA0E5FR3wy",
        "colab_type": "text"
      },
      "source": [
        "# Assignment for Week 8"
      ]
    },
    {
      "cell_type": "code",
      "metadata": {
        "id": "kAozi3nrgUIS",
        "colab_type": "code",
        "colab": {}
      },
      "source": [
        "from google.colab import drive\n",
        "drive.mount('/content/drive')"
      ],
      "execution_count": null,
      "outputs": []
    },
    {
      "cell_type": "markdown",
      "metadata": {
        "id": "Rh6DhpigRvSp",
        "colab_type": "text"
      },
      "source": [
        "## Final Project     \n",
        "\n",
        "Week's 8 assignment will be work towards the final project.    "
      ]
    },
    {
      "cell_type": "markdown",
      "metadata": {
        "id": "OHLcl_GnR39u",
        "colab_type": "text"
      },
      "source": [
        "### About Final Project     \n"
      ]
    },
    {
      "cell_type": "markdown",
      "metadata": {
        "id": "iIARxSvxSfef",
        "colab_type": "text"
      },
      "source": [
        "The final project will be a competition submission to any of the platforms available such as Kaggle. The competition will require to either build a Linear Regression or Logistic Regression model. \n",
        "\n",
        "The instructor will notify students by week 7 on the competition and the submissions.  This competition will include some or all the material and skills learned in the course.\n",
        "\n",
        "Students are required to submit the final version of work/codes as a Jupyter Notebook via colab as submitted to the competition along with the link to their account pointing to their score on the competition's board. This will be evaluated and graded for the entire project for the duration of week 8-12. \n",
        "\n"
      ]
    },
    {
      "cell_type": "markdown",
      "metadata": {
        "id": "v-WaBit5oAld",
        "colab_type": "text"
      },
      "source": [
        "## Tasks\n",
        "\n",
        "**Required:**    \n",
        "\n",
        "*   Open an account to the decided competition's platform and download the data sets (train, test, etc) needed to compete.    \n",
        "*   Start working with your data, get to know the data. Read all the competition information provided to the hosting platform. Try to get familiar with the data, topic, etc.      \n",
        "*   Submit the link of your competition's account via BlueQuill. "
      ]
    },
    {
      "cell_type": "markdown",
      "metadata": {
        "id": "dT8UOmgTU056",
        "colab_type": "text"
      },
      "source": [
        "**Pump-it Up Water Project - Tanzanian Ministry of Water**\n",
        "\n",
        "Competition Challenge - using data from \"Taarifa\" and the Tanzanian Ministry of Water, can you predict which pumps are functional, which need some repairs, and which don't work at all? This is an intermediate-level practice competition.\n",
        "\n",
        "Predict one of these three classes based on several variables about what kind of pump is operating, when it was installed, and how it is managed. A smart understanding of which water points will fail can improve maintenance operaations and ensure that clean, potable water is available to communities across Tanzania.\n",
        "\n",
        "A training dataset with information of nearly sixty thousand water points across Tanzania is provided its use is expected to build a model that will be able to predict which water points are functional, nonfunctional, and functional but need repair on a test dataset."
      ]
    },
    {
      "cell_type": "markdown",
      "metadata": {
        "id": "iayCjl_2jhFo",
        "colab_type": "text"
      },
      "source": [
        "**DATA DOWNLOAD SECTION FROM GITHUB ACCOUNT**"
      ]
    },
    {
      "cell_type": "code",
      "metadata": {
        "id": "8YJa6vC2bQwe",
        "colab_type": "code",
        "colab": {
          "base_uri": "https://localhost:8080/",
          "height": 411
        },
        "outputId": "e528ec85-eb2d-40a1-bbb5-1e851242b564"
      },
      "source": [
        "# Let's load pandas and see the first few rows of data of the Pump-it Up datasets (Train and Test).\n",
        "import pandas as pd\n",
        "import os\n",
        "import sys\n",
        "water = pd.read_csv('https://raw.githubusercontent.com/bradley1958/DATA612_FINAL_PROJECT/master/Well_Water_19K_Mod.csv')\n",
        "water_test = pd.read_csv('https://raw.githubusercontent.com/bradley1958/DATA612_FINAL_PROJECT/master/Well_Water_5K.csv')\n",
        "water.head()\n",
        "\n",
        "\n"
      ],
      "execution_count": 9,
      "outputs": [
        {
          "output_type": "execute_result",
          "data": {
            "text/html": [
              "<div>\n",
              "<style scoped>\n",
              "    .dataframe tbody tr th:only-of-type {\n",
              "        vertical-align: middle;\n",
              "    }\n",
              "\n",
              "    .dataframe tbody tr th {\n",
              "        vertical-align: top;\n",
              "    }\n",
              "\n",
              "    .dataframe thead th {\n",
              "        text-align: right;\n",
              "    }\n",
              "</style>\n",
              "<table border=\"1\" class=\"dataframe\">\n",
              "  <thead>\n",
              "    <tr style=\"text-align: right;\">\n",
              "      <th></th>\n",
              "      <th>id</th>\n",
              "      <th>amount_tsh</th>\n",
              "      <th>funder</th>\n",
              "      <th>gps_height</th>\n",
              "      <th>installer</th>\n",
              "      <th>longitude</th>\n",
              "      <th>latitude</th>\n",
              "      <th>wpt_name</th>\n",
              "      <th>num_private</th>\n",
              "      <th>basin</th>\n",
              "      <th>subvillage</th>\n",
              "      <th>region</th>\n",
              "      <th>region_code</th>\n",
              "      <th>district_code</th>\n",
              "      <th>lga</th>\n",
              "      <th>ward</th>\n",
              "      <th>population</th>\n",
              "      <th>public_meeting</th>\n",
              "      <th>recorded_by</th>\n",
              "      <th>permit</th>\n",
              "      <th>construction_year</th>\n",
              "      <th>extraction_type</th>\n",
              "      <th>extraction_type_group</th>\n",
              "      <th>extraction_type_class</th>\n",
              "      <th>management</th>\n",
              "      <th>management_group</th>\n",
              "      <th>payment</th>\n",
              "      <th>payment_vals</th>\n",
              "      <th>water_quality</th>\n",
              "      <th>quality_group</th>\n",
              "      <th>quantity</th>\n",
              "      <th>quantity_group</th>\n",
              "      <th>source</th>\n",
              "      <th>source_type</th>\n",
              "      <th>source_class</th>\n",
              "      <th>waterpoint_type</th>\n",
              "      <th>waterpoint_type_group</th>\n",
              "      <th>status_group</th>\n",
              "      <th>status_group_name</th>\n",
              "      <th>source_type_name</th>\n",
              "      <th>quality_group_name</th>\n",
              "    </tr>\n",
              "  </thead>\n",
              "  <tbody>\n",
              "    <tr>\n",
              "      <th>0</th>\n",
              "      <td>69572</td>\n",
              "      <td>6000.0</td>\n",
              "      <td>Roman</td>\n",
              "      <td>1390</td>\n",
              "      <td>Roman</td>\n",
              "      <td>34.938093</td>\n",
              "      <td>-9.856322</td>\n",
              "      <td>none</td>\n",
              "      <td>0</td>\n",
              "      <td>Lake Nyasa</td>\n",
              "      <td>Mnyusi B</td>\n",
              "      <td>Iringa</td>\n",
              "      <td>11</td>\n",
              "      <td>5</td>\n",
              "      <td>Ludewa</td>\n",
              "      <td>Mundindi</td>\n",
              "      <td>109</td>\n",
              "      <td>True</td>\n",
              "      <td>GeoData Consultants Ltd</td>\n",
              "      <td>False</td>\n",
              "      <td>1999</td>\n",
              "      <td>gravity</td>\n",
              "      <td>gravity</td>\n",
              "      <td>1</td>\n",
              "      <td>vwc</td>\n",
              "      <td>user-group</td>\n",
              "      <td>pay annually</td>\n",
              "      <td>3</td>\n",
              "      <td>soft</td>\n",
              "      <td>1</td>\n",
              "      <td>1</td>\n",
              "      <td>enough</td>\n",
              "      <td>spring</td>\n",
              "      <td>1</td>\n",
              "      <td>groundwater</td>\n",
              "      <td>1</td>\n",
              "      <td>communal standpipe</td>\n",
              "      <td>1</td>\n",
              "      <td>functional</td>\n",
              "      <td>spring</td>\n",
              "      <td>good</td>\n",
              "    </tr>\n",
              "    <tr>\n",
              "      <th>1</th>\n",
              "      <td>8776</td>\n",
              "      <td>0.0</td>\n",
              "      <td>Grumeti</td>\n",
              "      <td>1399</td>\n",
              "      <td>GRUMETI</td>\n",
              "      <td>34.698766</td>\n",
              "      <td>-2.147466</td>\n",
              "      <td>Zahanati</td>\n",
              "      <td>0</td>\n",
              "      <td>Lake Victoria</td>\n",
              "      <td>Nyamara</td>\n",
              "      <td>Mara</td>\n",
              "      <td>20</td>\n",
              "      <td>2</td>\n",
              "      <td>Serengeti</td>\n",
              "      <td>Natta</td>\n",
              "      <td>280</td>\n",
              "      <td>NaN</td>\n",
              "      <td>GeoData Consultants Ltd</td>\n",
              "      <td>True</td>\n",
              "      <td>2010</td>\n",
              "      <td>gravity</td>\n",
              "      <td>gravity</td>\n",
              "      <td>1</td>\n",
              "      <td>wug</td>\n",
              "      <td>user-group</td>\n",
              "      <td>never pay</td>\n",
              "      <td>1</td>\n",
              "      <td>soft</td>\n",
              "      <td>1</td>\n",
              "      <td>2</td>\n",
              "      <td>insufficient</td>\n",
              "      <td>rainwater harvesting</td>\n",
              "      <td>2</td>\n",
              "      <td>surface</td>\n",
              "      <td>1</td>\n",
              "      <td>communal standpipe</td>\n",
              "      <td>1</td>\n",
              "      <td>functional</td>\n",
              "      <td>rainwater harvesting</td>\n",
              "      <td>good</td>\n",
              "    </tr>\n",
              "    <tr>\n",
              "      <th>2</th>\n",
              "      <td>34310</td>\n",
              "      <td>25.0</td>\n",
              "      <td>Lottery Club</td>\n",
              "      <td>686</td>\n",
              "      <td>World vision</td>\n",
              "      <td>37.460664</td>\n",
              "      <td>-3.821329</td>\n",
              "      <td>Kwa Mahundi</td>\n",
              "      <td>0</td>\n",
              "      <td>Pangani</td>\n",
              "      <td>Majengo</td>\n",
              "      <td>Manyara</td>\n",
              "      <td>21</td>\n",
              "      <td>4</td>\n",
              "      <td>Simanjiro</td>\n",
              "      <td>Ngorika</td>\n",
              "      <td>250</td>\n",
              "      <td>True</td>\n",
              "      <td>GeoData Consultants Ltd</td>\n",
              "      <td>True</td>\n",
              "      <td>2009</td>\n",
              "      <td>gravity</td>\n",
              "      <td>gravity</td>\n",
              "      <td>1</td>\n",
              "      <td>vwc</td>\n",
              "      <td>user-group</td>\n",
              "      <td>pay per bucket</td>\n",
              "      <td>5</td>\n",
              "      <td>soft</td>\n",
              "      <td>1</td>\n",
              "      <td>1</td>\n",
              "      <td>enough</td>\n",
              "      <td>dam</td>\n",
              "      <td>3</td>\n",
              "      <td>surface</td>\n",
              "      <td>1</td>\n",
              "      <td>communal standpipe</td>\n",
              "      <td>1</td>\n",
              "      <td>functional</td>\n",
              "      <td>dam</td>\n",
              "      <td>good</td>\n",
              "    </tr>\n",
              "    <tr>\n",
              "      <th>3</th>\n",
              "      <td>67743</td>\n",
              "      <td>0.0</td>\n",
              "      <td>Unicef</td>\n",
              "      <td>263</td>\n",
              "      <td>UNICEF</td>\n",
              "      <td>38.486161</td>\n",
              "      <td>-11.155298</td>\n",
              "      <td>Zahanati Ya Nanyumbu</td>\n",
              "      <td>0</td>\n",
              "      <td>Ruvuma / Southern Coast</td>\n",
              "      <td>Mahakamani</td>\n",
              "      <td>Mtwara</td>\n",
              "      <td>90</td>\n",
              "      <td>63</td>\n",
              "      <td>Nanyumbu</td>\n",
              "      <td>Nanyumbu</td>\n",
              "      <td>58</td>\n",
              "      <td>True</td>\n",
              "      <td>GeoData Consultants Ltd</td>\n",
              "      <td>True</td>\n",
              "      <td>1986</td>\n",
              "      <td>submersible</td>\n",
              "      <td>submersible</td>\n",
              "      <td>6</td>\n",
              "      <td>vwc</td>\n",
              "      <td>user-group</td>\n",
              "      <td>never pay</td>\n",
              "      <td>1</td>\n",
              "      <td>soft</td>\n",
              "      <td>1</td>\n",
              "      <td>0</td>\n",
              "      <td>dry</td>\n",
              "      <td>machine dbh</td>\n",
              "      <td>4</td>\n",
              "      <td>groundwater</td>\n",
              "      <td>1</td>\n",
              "      <td>communal standpipe</td>\n",
              "      <td>0</td>\n",
              "      <td>non functional</td>\n",
              "      <td>borehole</td>\n",
              "      <td>good</td>\n",
              "    </tr>\n",
              "    <tr>\n",
              "      <th>4</th>\n",
              "      <td>19728</td>\n",
              "      <td>0.0</td>\n",
              "      <td>Action In A</td>\n",
              "      <td>0</td>\n",
              "      <td>Artisan</td>\n",
              "      <td>31.130847</td>\n",
              "      <td>-1.825359</td>\n",
              "      <td>Shuleni</td>\n",
              "      <td>0</td>\n",
              "      <td>Lake Victoria</td>\n",
              "      <td>Kyanyamisa</td>\n",
              "      <td>Kagera</td>\n",
              "      <td>18</td>\n",
              "      <td>1</td>\n",
              "      <td>Karagwe</td>\n",
              "      <td>Nyakasimbi</td>\n",
              "      <td>0</td>\n",
              "      <td>True</td>\n",
              "      <td>GeoData Consultants Ltd</td>\n",
              "      <td>True</td>\n",
              "      <td>0</td>\n",
              "      <td>gravity</td>\n",
              "      <td>gravity</td>\n",
              "      <td>1</td>\n",
              "      <td>other</td>\n",
              "      <td>other</td>\n",
              "      <td>never pay</td>\n",
              "      <td>1</td>\n",
              "      <td>soft</td>\n",
              "      <td>1</td>\n",
              "      <td>3</td>\n",
              "      <td>seasonal</td>\n",
              "      <td>rainwater harvesting</td>\n",
              "      <td>2</td>\n",
              "      <td>surface</td>\n",
              "      <td>1</td>\n",
              "      <td>communal standpipe</td>\n",
              "      <td>1</td>\n",
              "      <td>functional</td>\n",
              "      <td>rainwater harvesting</td>\n",
              "      <td>good</td>\n",
              "    </tr>\n",
              "  </tbody>\n",
              "</table>\n",
              "</div>"
            ],
            "text/plain": [
              "      id  amount_tsh  ...      source_type_name  quality_group_name\n",
              "0  69572      6000.0  ...                spring                good\n",
              "1   8776         0.0  ...  rainwater harvesting                good\n",
              "2  34310        25.0  ...                   dam                good\n",
              "3  67743         0.0  ...              borehole                good\n",
              "4  19728         0.0  ...  rainwater harvesting                good\n",
              "\n",
              "[5 rows x 41 columns]"
            ]
          },
          "metadata": {
            "tags": []
          },
          "execution_count": 9
        }
      ]
    },
    {
      "cell_type": "code",
      "metadata": {
        "id": "ZHcxX379cFc5",
        "colab_type": "code",
        "colab": {
          "base_uri": "https://localhost:8080/",
          "height": 51
        },
        "outputId": "a64d039e-8340-4bf5-dc4b-82f0f662f71b"
      },
      "source": [
        "water['status_group_name'].unique()\n"
      ],
      "execution_count": 10,
      "outputs": [
        {
          "output_type": "execute_result",
          "data": {
            "text/plain": [
              "array(['functional', 'non functional', 'functional needs repair'],\n",
              "      dtype=object)"
            ]
          },
          "metadata": {
            "tags": []
          },
          "execution_count": 10
        }
      ]
    },
    {
      "cell_type": "code",
      "metadata": {
        "id": "wyjpIL6m_PJ1",
        "colab_type": "code",
        "colab": {
          "base_uri": "https://localhost:8080/",
          "height": 34
        },
        "outputId": "258dcbc9-953f-4a72-eb03-829255eda4de"
      },
      "source": [
        "water['status_group'].unique()"
      ],
      "execution_count": 11,
      "outputs": [
        {
          "output_type": "execute_result",
          "data": {
            "text/plain": [
              "array([1, 0, 2])"
            ]
          },
          "metadata": {
            "tags": []
          },
          "execution_count": 11
        }
      ]
    },
    {
      "cell_type": "code",
      "metadata": {
        "id": "08xHRAfRcaWc",
        "colab_type": "code",
        "colab": {
          "base_uri": "https://localhost:8080/",
          "height": 428
        },
        "outputId": "066a30b7-277a-4185-e55a-c4e17e1a38ef"
      },
      "source": [
        "water_test.head()"
      ],
      "execution_count": 12,
      "outputs": [
        {
          "output_type": "execute_result",
          "data": {
            "text/html": [
              "<div>\n",
              "<style scoped>\n",
              "    .dataframe tbody tr th:only-of-type {\n",
              "        vertical-align: middle;\n",
              "    }\n",
              "\n",
              "    .dataframe tbody tr th {\n",
              "        vertical-align: top;\n",
              "    }\n",
              "\n",
              "    .dataframe thead th {\n",
              "        text-align: right;\n",
              "    }\n",
              "</style>\n",
              "<table border=\"1\" class=\"dataframe\">\n",
              "  <thead>\n",
              "    <tr style=\"text-align: right;\">\n",
              "      <th></th>\n",
              "      <th>id</th>\n",
              "      <th>amount_tsh</th>\n",
              "      <th>funder</th>\n",
              "      <th>gps_height</th>\n",
              "      <th>installer</th>\n",
              "      <th>longitude</th>\n",
              "      <th>latitude</th>\n",
              "      <th>wpt_name</th>\n",
              "      <th>num_private</th>\n",
              "      <th>basin</th>\n",
              "      <th>subvillage</th>\n",
              "      <th>region</th>\n",
              "      <th>region_code</th>\n",
              "      <th>district_code</th>\n",
              "      <th>lga</th>\n",
              "      <th>ward</th>\n",
              "      <th>population</th>\n",
              "      <th>public_meeting</th>\n",
              "      <th>recorded_by</th>\n",
              "      <th>permit</th>\n",
              "      <th>construction_year</th>\n",
              "      <th>extraction_type_group</th>\n",
              "      <th>extraction_type_class</th>\n",
              "      <th>management</th>\n",
              "      <th>management_group</th>\n",
              "      <th>payment</th>\n",
              "      <th>payment_vals</th>\n",
              "      <th>water_quality</th>\n",
              "      <th>quality_group</th>\n",
              "      <th>quantity</th>\n",
              "      <th>quantity_group</th>\n",
              "      <th>source</th>\n",
              "      <th>source_type</th>\n",
              "      <th>source_class</th>\n",
              "      <th>waterpoint_type</th>\n",
              "      <th>waterpoint_type_group</th>\n",
              "    </tr>\n",
              "  </thead>\n",
              "  <tbody>\n",
              "    <tr>\n",
              "      <th>0</th>\n",
              "      <td>50785</td>\n",
              "      <td>0.0</td>\n",
              "      <td>Dmdd</td>\n",
              "      <td>1996</td>\n",
              "      <td>DMDD</td>\n",
              "      <td>35.290799</td>\n",
              "      <td>-4.059696</td>\n",
              "      <td>Dinamu Secondary School</td>\n",
              "      <td>0</td>\n",
              "      <td>Internal</td>\n",
              "      <td>Magoma</td>\n",
              "      <td>Manyara</td>\n",
              "      <td>21</td>\n",
              "      <td>3</td>\n",
              "      <td>Mbulu</td>\n",
              "      <td>Bashay</td>\n",
              "      <td>321</td>\n",
              "      <td>True</td>\n",
              "      <td>GeoData Consultants Ltd</td>\n",
              "      <td>True</td>\n",
              "      <td>2012</td>\n",
              "      <td>other</td>\n",
              "      <td>4</td>\n",
              "      <td>parastatal</td>\n",
              "      <td>parastatal</td>\n",
              "      <td>never pay</td>\n",
              "      <td>1</td>\n",
              "      <td>soft</td>\n",
              "      <td>good</td>\n",
              "      <td>3</td>\n",
              "      <td>seasonal</td>\n",
              "      <td>rainwater harvesting</td>\n",
              "      <td>2</td>\n",
              "      <td>surface</td>\n",
              "      <td>3</td>\n",
              "      <td>other</td>\n",
              "    </tr>\n",
              "    <tr>\n",
              "      <th>1</th>\n",
              "      <td>51630</td>\n",
              "      <td>0.0</td>\n",
              "      <td>Government Of Tanzania</td>\n",
              "      <td>1569</td>\n",
              "      <td>DWE</td>\n",
              "      <td>36.656709</td>\n",
              "      <td>-3.309214</td>\n",
              "      <td>Kimnyak</td>\n",
              "      <td>0</td>\n",
              "      <td>Pangani</td>\n",
              "      <td>Kimnyak</td>\n",
              "      <td>Arusha</td>\n",
              "      <td>2</td>\n",
              "      <td>2</td>\n",
              "      <td>Arusha Rural</td>\n",
              "      <td>Kimnyaki</td>\n",
              "      <td>300</td>\n",
              "      <td>True</td>\n",
              "      <td>GeoData Consultants Ltd</td>\n",
              "      <td>True</td>\n",
              "      <td>2000</td>\n",
              "      <td>gravity</td>\n",
              "      <td>1</td>\n",
              "      <td>vwc</td>\n",
              "      <td>user-group</td>\n",
              "      <td>never pay</td>\n",
              "      <td>1</td>\n",
              "      <td>soft</td>\n",
              "      <td>good</td>\n",
              "      <td>2</td>\n",
              "      <td>insufficient</td>\n",
              "      <td>spring</td>\n",
              "      <td>1</td>\n",
              "      <td>groundwater</td>\n",
              "      <td>1</td>\n",
              "      <td>communal standpipe</td>\n",
              "    </tr>\n",
              "    <tr>\n",
              "      <th>2</th>\n",
              "      <td>17168</td>\n",
              "      <td>0.0</td>\n",
              "      <td>NaN</td>\n",
              "      <td>1567</td>\n",
              "      <td>NaN</td>\n",
              "      <td>34.767863</td>\n",
              "      <td>-5.004344</td>\n",
              "      <td>Puma Secondary</td>\n",
              "      <td>0</td>\n",
              "      <td>Internal</td>\n",
              "      <td>Msatu</td>\n",
              "      <td>Singida</td>\n",
              "      <td>13</td>\n",
              "      <td>2</td>\n",
              "      <td>Singida Rural</td>\n",
              "      <td>Puma</td>\n",
              "      <td>500</td>\n",
              "      <td>True</td>\n",
              "      <td>GeoData Consultants Ltd</td>\n",
              "      <td>NaN</td>\n",
              "      <td>2010</td>\n",
              "      <td>other</td>\n",
              "      <td>4</td>\n",
              "      <td>vwc</td>\n",
              "      <td>user-group</td>\n",
              "      <td>never pay</td>\n",
              "      <td>1</td>\n",
              "      <td>soft</td>\n",
              "      <td>good</td>\n",
              "      <td>2</td>\n",
              "      <td>insufficient</td>\n",
              "      <td>rainwater harvesting</td>\n",
              "      <td>2</td>\n",
              "      <td>surface</td>\n",
              "      <td>3</td>\n",
              "      <td>other</td>\n",
              "    </tr>\n",
              "    <tr>\n",
              "      <th>3</th>\n",
              "      <td>45559</td>\n",
              "      <td>0.0</td>\n",
              "      <td>Finn Water</td>\n",
              "      <td>267</td>\n",
              "      <td>FINN WATER</td>\n",
              "      <td>38.058046</td>\n",
              "      <td>-9.418672</td>\n",
              "      <td>Kwa Mzee Pange</td>\n",
              "      <td>0</td>\n",
              "      <td>Ruvuma / Southern Coast</td>\n",
              "      <td>Kipindimbi</td>\n",
              "      <td>Lindi</td>\n",
              "      <td>80</td>\n",
              "      <td>43</td>\n",
              "      <td>Liwale</td>\n",
              "      <td>Mkutano</td>\n",
              "      <td>250</td>\n",
              "      <td>NaN</td>\n",
              "      <td>GeoData Consultants Ltd</td>\n",
              "      <td>True</td>\n",
              "      <td>1987</td>\n",
              "      <td>other</td>\n",
              "      <td>4</td>\n",
              "      <td>vwc</td>\n",
              "      <td>user-group</td>\n",
              "      <td>unknown</td>\n",
              "      <td>7</td>\n",
              "      <td>soft</td>\n",
              "      <td>good</td>\n",
              "      <td>0</td>\n",
              "      <td>dry</td>\n",
              "      <td>shallow well</td>\n",
              "      <td>6</td>\n",
              "      <td>groundwater</td>\n",
              "      <td>3</td>\n",
              "      <td>other</td>\n",
              "    </tr>\n",
              "    <tr>\n",
              "      <th>4</th>\n",
              "      <td>49871</td>\n",
              "      <td>500.0</td>\n",
              "      <td>Bruder</td>\n",
              "      <td>1260</td>\n",
              "      <td>BRUDER</td>\n",
              "      <td>35.006123</td>\n",
              "      <td>-10.950412</td>\n",
              "      <td>Kwa Mzee Turuka</td>\n",
              "      <td>0</td>\n",
              "      <td>Ruvuma / Southern Coast</td>\n",
              "      <td>Losonga</td>\n",
              "      <td>Ruvuma</td>\n",
              "      <td>10</td>\n",
              "      <td>3</td>\n",
              "      <td>Mbinga</td>\n",
              "      <td>Mbinga Urban</td>\n",
              "      <td>60</td>\n",
              "      <td>NaN</td>\n",
              "      <td>GeoData Consultants Ltd</td>\n",
              "      <td>True</td>\n",
              "      <td>2000</td>\n",
              "      <td>gravity</td>\n",
              "      <td>1</td>\n",
              "      <td>water board</td>\n",
              "      <td>user-group</td>\n",
              "      <td>pay monthly</td>\n",
              "      <td>4</td>\n",
              "      <td>soft</td>\n",
              "      <td>good</td>\n",
              "      <td>1</td>\n",
              "      <td>enough</td>\n",
              "      <td>spring</td>\n",
              "      <td>1</td>\n",
              "      <td>groundwater</td>\n",
              "      <td>1</td>\n",
              "      <td>communal standpipe</td>\n",
              "    </tr>\n",
              "  </tbody>\n",
              "</table>\n",
              "</div>"
            ],
            "text/plain": [
              "      id  amount_tsh  ... waterpoint_type  waterpoint_type_group\n",
              "0  50785         0.0  ...               3                  other\n",
              "1  51630         0.0  ...               1     communal standpipe\n",
              "2  17168         0.0  ...               3                  other\n",
              "3  45559         0.0  ...               3                  other\n",
              "4  49871       500.0  ...               1     communal standpipe\n",
              "\n",
              "[5 rows x 36 columns]"
            ]
          },
          "metadata": {
            "tags": []
          },
          "execution_count": 12
        }
      ]
    },
    {
      "cell_type": "code",
      "metadata": {
        "id": "ou1fhLI8cgc8",
        "colab_type": "code",
        "colab": {
          "base_uri": "https://localhost:8080/",
          "height": 34
        },
        "outputId": "26e7baf3-ca0d-4085-bb41-9c9a2e77b1e8"
      },
      "source": [
        "water.shape, water_test.shape"
      ],
      "execution_count": 13,
      "outputs": [
        {
          "output_type": "execute_result",
          "data": {
            "text/plain": [
              "((59400, 41), (14850, 36))"
            ]
          },
          "metadata": {
            "tags": []
          },
          "execution_count": 13
        }
      ]
    },
    {
      "cell_type": "markdown",
      "metadata": {
        "id": "eWlY8bpEjwHE",
        "colab_type": "text"
      },
      "source": [
        "**This shows we have mis-matched data frames. We will have to take care of this later before running are models and making our prediction(s) for export to a csv file.**"
      ]
    },
    {
      "cell_type": "code",
      "metadata": {
        "id": "IAen2N6m_YjZ",
        "colab_type": "code",
        "colab": {
          "base_uri": "https://localhost:8080/",
          "height": 748
        },
        "outputId": "8a554adf-aaab-4bf9-d96f-93cb3d9e4029"
      },
      "source": [
        "water_test.info()"
      ],
      "execution_count": 14,
      "outputs": [
        {
          "output_type": "stream",
          "text": [
            "<class 'pandas.core.frame.DataFrame'>\n",
            "RangeIndex: 14850 entries, 0 to 14849\n",
            "Data columns (total 36 columns):\n",
            " #   Column                 Non-Null Count  Dtype  \n",
            "---  ------                 --------------  -----  \n",
            " 0   id                     14850 non-null  int64  \n",
            " 1   amount_tsh             14850 non-null  float64\n",
            " 2   funder                 13981 non-null  object \n",
            " 3   gps_height             14850 non-null  int64  \n",
            " 4   installer              13973 non-null  object \n",
            " 5   longitude              14850 non-null  float64\n",
            " 6   latitude               14850 non-null  float64\n",
            " 7   wpt_name               14850 non-null  object \n",
            " 8   num_private            14850 non-null  int64  \n",
            " 9   basin                  14850 non-null  object \n",
            " 10  subvillage             14751 non-null  object \n",
            " 11  region                 14850 non-null  object \n",
            " 12  region_code            14850 non-null  int64  \n",
            " 13  district_code          14850 non-null  int64  \n",
            " 14  lga                    14850 non-null  object \n",
            " 15  ward                   14850 non-null  object \n",
            " 16  population             14850 non-null  int64  \n",
            " 17  public_meeting         14029 non-null  object \n",
            " 18  recorded_by            14850 non-null  object \n",
            " 19  permit                 14113 non-null  object \n",
            " 20  construction_year      14850 non-null  int64  \n",
            " 21  extraction_type_group  14850 non-null  object \n",
            " 22  extraction_type_class  14850 non-null  int64  \n",
            " 23  management             14850 non-null  object \n",
            " 24  management_group       14850 non-null  object \n",
            " 25  payment                14850 non-null  object \n",
            " 26  payment_vals           14850 non-null  int64  \n",
            " 27  water_quality          14850 non-null  object \n",
            " 28  quality_group          14850 non-null  object \n",
            " 29  quantity               14850 non-null  int64  \n",
            " 30  quantity_group         14850 non-null  object \n",
            " 31  source                 14850 non-null  object \n",
            " 32  source_type            14850 non-null  int64  \n",
            " 33  source_class           14850 non-null  object \n",
            " 34  waterpoint_type        14850 non-null  int64  \n",
            " 35  waterpoint_type_group  14850 non-null  object \n",
            "dtypes: float64(3), int64(12), object(21)\n",
            "memory usage: 4.1+ MB\n"
          ],
          "name": "stdout"
        }
      ]
    },
    {
      "cell_type": "markdown",
      "metadata": {
        "id": "q4AgxaASkGsM",
        "colab_type": "text"
      },
      "source": [
        "**LOADING PANDAS FEATURES FOR USE IN OUR TANZANIAN WATER PROJECT**"
      ]
    },
    {
      "cell_type": "code",
      "metadata": {
        "id": "ewKPfAe-XQA3",
        "colab_type": "code",
        "colab": {}
      },
      "source": [
        "# Let's load additional pandas features\n",
        "import time\n",
        "import seaborn as sns\n",
        "import warnings\n",
        "import itertools\n",
        "import matplotlib.pyplot as plt\n",
        "import matplotlib.ticker as ticker\n",
        "from matplotlib.ticker import NullFormatter\n",
        "import matplotlib.image as mpimg\n",
        "import numpy as np\n",
        "import pydotplus\n",
        "from sklearn import preprocessing\n",
        "from sklearn.model_selection import train_test_split, GridSearchCV\n",
        "from sklearn.tree import DecisionTreeClassifier\n",
        "from sklearn.ensemble import RandomForestClassifier\n",
        "from sklearn import metrics\n",
        "from sklearn.metrics import classification_report, confusion_matrix\n",
        "from sklearn.externals.six import StringIO\n",
        "from sklearn import tree\n",
        "import scipy.stats as stats\n",
        "from pandas import set_option\n",
        "from sklearn.linear_model import LogisticRegression\n",
        "from sklearn.svm import SVC\n",
        "from sklearn.pipeline import make_pipeline\n",
        "from sklearn.model_selection import cross_val_score\n",
        "from sklearn.neighbors import KNeighborsClassifier\n",
        "from sklearn.preprocessing import StandardScaler\n",
        "import xgboost as xgb\n",
        "from xgboost import XGBClassifier\n",
        "from datetime import datetime\n",
        "from sklearn.decomposition import PCA\n",
        "%matplotlib inline\n",
        "from sklearn.ensemble import ExtraTreesClassifier\n",
        "import scipy\n",
        "\n",
        "\n",
        "\n"
      ],
      "execution_count": 15,
      "outputs": []
    },
    {
      "cell_type": "code",
      "metadata": {
        "id": "Tuw70fYW8C6G",
        "colab_type": "code",
        "colab": {
          "base_uri": "https://localhost:8080/",
          "height": 102
        },
        "outputId": "07a38673-2696-4efa-8ad3-b84c2ee71b02"
      },
      "source": [
        "# Let's take a quick look at our Well Pump counts by Region\n",
        "region = water.groupby('status_group_name')[['region']].count()\n",
        "print(region)\n"
      ],
      "execution_count": 16,
      "outputs": [
        {
          "output_type": "stream",
          "text": [
            "                         region\n",
            "status_group_name              \n",
            "functional                32259\n",
            "functional needs repair    4317\n",
            "non functional            22824\n"
          ],
          "name": "stdout"
        }
      ]
    },
    {
      "cell_type": "code",
      "metadata": {
        "id": "dKsyGiX7SLEK",
        "colab_type": "code",
        "colab": {
          "base_uri": "https://localhost:8080/",
          "height": 265
        },
        "outputId": "9d226dad-5a02-4329-c096-4fc49373794d"
      },
      "source": [
        "# Let's see a quick Bar Chart of our Target Variable (Status Group) followed by the counts for each value.\n",
        "water.status_group_name.value_counts().plot(kind='barh')\n",
        "plt.show()"
      ],
      "execution_count": 17,
      "outputs": [
        {
          "output_type": "display_data",
          "data": {
            "image/png": "[encoded data removed]",
            "text/plain": [
              "<Figure size 432x288 with 1 Axes>"
            ]
          },
          "metadata": {
            "tags": [],
            "needs_background": "light"
          }
        }
      ]
    },
    {
      "cell_type": "code",
      "metadata": {
        "id": "hUVxu3BHSnFw",
        "colab_type": "code",
        "colab": {
          "base_uri": "https://localhost:8080/",
          "height": 136
        },
        "outputId": "4ffddb5d-9334-4e7b-9196-9e62af1a1a14"
      },
      "source": [
        "# The value Counts.\n",
        "well_status = water.groupby('status_group_name').count()\n",
        "print(well_status)"
      ],
      "execution_count": 19,
      "outputs": [
        {
          "output_type": "stream",
          "text": [
            "                            id  ...  quality_group_name\n",
            "status_group_name               ...                    \n",
            "functional               32259  ...               32259\n",
            "functional needs repair   4317  ...                4317\n",
            "non functional           22824  ...               22824\n",
            "\n",
            "[3 rows x 40 columns]\n"
          ],
          "name": "stdout"
        }
      ]
    },
    {
      "cell_type": "markdown",
      "metadata": {
        "id": "C17yYtpxkc66",
        "colab_type": "text"
      },
      "source": [
        "So, from this we see that we have 32,259 functional wells in all regions, with 22,824 non functional wells throughout the regions, plus an additional 4,317 wells that need repair throughout the regions."
      ]
    },
    {
      "cell_type": "markdown",
      "metadata": {
        "id": "DiQDgOaQjZ7k",
        "colab_type": "text"
      },
      "source": [
        "**DATA CLEANING SECTION (TRAINING SET)**"
      ]
    },
    {
      "cell_type": "markdown",
      "metadata": {
        "id": "330YLjLRSx-S",
        "colab_type": "text"
      },
      "source": [
        "Next we are going to clean the data of all zero's in the \"int64\" Dtypes, basically the columns we will be using to run or predictive modeling off of. I will change the zero's to the median value in both Train/Test datasets. The columns being cleaned up are: \"construction_year\", \"population\", and \"gps_height\"."
      ]
    },
    {
      "cell_type": "code",
      "metadata": {
        "id": "aFOwUoRKFucs",
        "colab_type": "code",
        "colab": {
          "base_uri": "https://localhost:8080/",
          "height": 34
        },
        "outputId": "9d7149c0-ffd6-46f3-9bfa-bce343200852"
      },
      "source": [
        "# Let's try and replace our zero's in the Construction Year, Population, and Gps_Height Column's with the \"median value\" for each data element\n",
        "print(water['construction_year'].median())\n"
      ],
      "execution_count": 20,
      "outputs": [
        {
          "output_type": "stream",
          "text": [
            "1986.0\n"
          ],
          "name": "stdout"
        }
      ]
    },
    {
      "cell_type": "code",
      "metadata": {
        "id": "9wD6l4VaGd7G",
        "colab_type": "code",
        "colab": {
          "base_uri": "https://localhost:8080/",
          "height": 411
        },
        "outputId": "ece9f21e-08a1-4d66-f0dd-418a92a6118b"
      },
      "source": [
        "water['construction_year'] = water['construction_year'].replace(0, 1986.0)\n",
        "water.head(5)"
      ],
      "execution_count": 21,
      "outputs": [
        {
          "output_type": "execute_result",
          "data": {
            "text/html": [
              "<div>\n",
              "<style scoped>\n",
              "    .dataframe tbody tr th:only-of-type {\n",
              "        vertical-align: middle;\n",
              "    }\n",
              "\n",
              "    .dataframe tbody tr th {\n",
              "        vertical-align: top;\n",
              "    }\n",
              "\n",
              "    .dataframe thead th {\n",
              "        text-align: right;\n",
              "    }\n",
              "</style>\n",
              "<table border=\"1\" class=\"dataframe\">\n",
              "  <thead>\n",
              "    <tr style=\"text-align: right;\">\n",
              "      <th></th>\n",
              "      <th>id</th>\n",
              "      <th>amount_tsh</th>\n",
              "      <th>funder</th>\n",
              "      <th>gps_height</th>\n",
              "      <th>installer</th>\n",
              "      <th>longitude</th>\n",
              "      <th>latitude</th>\n",
              "      <th>wpt_name</th>\n",
              "      <th>num_private</th>\n",
              "      <th>basin</th>\n",
              "      <th>subvillage</th>\n",
              "      <th>region</th>\n",
              "      <th>region_code</th>\n",
              "      <th>district_code</th>\n",
              "      <th>lga</th>\n",
              "      <th>ward</th>\n",
              "      <th>population</th>\n",
              "      <th>public_meeting</th>\n",
              "      <th>recorded_by</th>\n",
              "      <th>permit</th>\n",
              "      <th>construction_year</th>\n",
              "      <th>extraction_type</th>\n",
              "      <th>extraction_type_group</th>\n",
              "      <th>extraction_type_class</th>\n",
              "      <th>management</th>\n",
              "      <th>management_group</th>\n",
              "      <th>payment</th>\n",
              "      <th>payment_vals</th>\n",
              "      <th>water_quality</th>\n",
              "      <th>quality_group</th>\n",
              "      <th>quantity</th>\n",
              "      <th>quantity_group</th>\n",
              "      <th>source</th>\n",
              "      <th>source_type</th>\n",
              "      <th>source_class</th>\n",
              "      <th>waterpoint_type</th>\n",
              "      <th>waterpoint_type_group</th>\n",
              "      <th>status_group</th>\n",
              "      <th>status_group_name</th>\n",
              "      <th>source_type_name</th>\n",
              "      <th>quality_group_name</th>\n",
              "    </tr>\n",
              "  </thead>\n",
              "  <tbody>\n",
              "    <tr>\n",
              "      <th>0</th>\n",
              "      <td>69572</td>\n",
              "      <td>6000.0</td>\n",
              "      <td>Roman</td>\n",
              "      <td>1390</td>\n",
              "      <td>Roman</td>\n",
              "      <td>34.938093</td>\n",
              "      <td>-9.856322</td>\n",
              "      <td>none</td>\n",
              "      <td>0</td>\n",
              "      <td>Lake Nyasa</td>\n",
              "      <td>Mnyusi B</td>\n",
              "      <td>Iringa</td>\n",
              "      <td>11</td>\n",
              "      <td>5</td>\n",
              "      <td>Ludewa</td>\n",
              "      <td>Mundindi</td>\n",
              "      <td>109</td>\n",
              "      <td>True</td>\n",
              "      <td>GeoData Consultants Ltd</td>\n",
              "      <td>False</td>\n",
              "      <td>1999</td>\n",
              "      <td>gravity</td>\n",
              "      <td>gravity</td>\n",
              "      <td>1</td>\n",
              "      <td>vwc</td>\n",
              "      <td>user-group</td>\n",
              "      <td>pay annually</td>\n",
              "      <td>3</td>\n",
              "      <td>soft</td>\n",
              "      <td>1</td>\n",
              "      <td>1</td>\n",
              "      <td>enough</td>\n",
              "      <td>spring</td>\n",
              "      <td>1</td>\n",
              "      <td>groundwater</td>\n",
              "      <td>1</td>\n",
              "      <td>communal standpipe</td>\n",
              "      <td>1</td>\n",
              "      <td>functional</td>\n",
              "      <td>spring</td>\n",
              "      <td>good</td>\n",
              "    </tr>\n",
              "    <tr>\n",
              "      <th>1</th>\n",
              "      <td>8776</td>\n",
              "      <td>0.0</td>\n",
              "      <td>Grumeti</td>\n",
              "      <td>1399</td>\n",
              "      <td>GRUMETI</td>\n",
              "      <td>34.698766</td>\n",
              "      <td>-2.147466</td>\n",
              "      <td>Zahanati</td>\n",
              "      <td>0</td>\n",
              "      <td>Lake Victoria</td>\n",
              "      <td>Nyamara</td>\n",
              "      <td>Mara</td>\n",
              "      <td>20</td>\n",
              "      <td>2</td>\n",
              "      <td>Serengeti</td>\n",
              "      <td>Natta</td>\n",
              "      <td>280</td>\n",
              "      <td>NaN</td>\n",
              "      <td>GeoData Consultants Ltd</td>\n",
              "      <td>True</td>\n",
              "      <td>2010</td>\n",
              "      <td>gravity</td>\n",
              "      <td>gravity</td>\n",
              "      <td>1</td>\n",
              "      <td>wug</td>\n",
              "      <td>user-group</td>\n",
              "      <td>never pay</td>\n",
              "      <td>1</td>\n",
              "      <td>soft</td>\n",
              "      <td>1</td>\n",
              "      <td>2</td>\n",
              "      <td>insufficient</td>\n",
              "      <td>rainwater harvesting</td>\n",
              "      <td>2</td>\n",
              "      <td>surface</td>\n",
              "      <td>1</td>\n",
              "      <td>communal standpipe</td>\n",
              "      <td>1</td>\n",
              "      <td>functional</td>\n",
              "      <td>rainwater harvesting</td>\n",
              "      <td>good</td>\n",
              "    </tr>\n",
              "    <tr>\n",
              "      <th>2</th>\n",
              "      <td>34310</td>\n",
              "      <td>25.0</td>\n",
              "      <td>Lottery Club</td>\n",
              "      <td>686</td>\n",
              "      <td>World vision</td>\n",
              "      <td>37.460664</td>\n",
              "      <td>-3.821329</td>\n",
              "      <td>Kwa Mahundi</td>\n",
              "      <td>0</td>\n",
              "      <td>Pangani</td>\n",
              "      <td>Majengo</td>\n",
              "      <td>Manyara</td>\n",
              "      <td>21</td>\n",
              "      <td>4</td>\n",
              "      <td>Simanjiro</td>\n",
              "      <td>Ngorika</td>\n",
              "      <td>250</td>\n",
              "      <td>True</td>\n",
              "      <td>GeoData Consultants Ltd</td>\n",
              "      <td>True</td>\n",
              "      <td>2009</td>\n",
              "      <td>gravity</td>\n",
              "      <td>gravity</td>\n",
              "      <td>1</td>\n",
              "      <td>vwc</td>\n",
              "      <td>user-group</td>\n",
              "      <td>pay per bucket</td>\n",
              "      <td>5</td>\n",
              "      <td>soft</td>\n",
              "      <td>1</td>\n",
              "      <td>1</td>\n",
              "      <td>enough</td>\n",
              "      <td>dam</td>\n",
              "      <td>3</td>\n",
              "      <td>surface</td>\n",
              "      <td>1</td>\n",
              "      <td>communal standpipe</td>\n",
              "      <td>1</td>\n",
              "      <td>functional</td>\n",
              "      <td>dam</td>\n",
              "      <td>good</td>\n",
              "    </tr>\n",
              "    <tr>\n",
              "      <th>3</th>\n",
              "      <td>67743</td>\n",
              "      <td>0.0</td>\n",
              "      <td>Unicef</td>\n",
              "      <td>263</td>\n",
              "      <td>UNICEF</td>\n",
              "      <td>38.486161</td>\n",
              "      <td>-11.155298</td>\n",
              "      <td>Zahanati Ya Nanyumbu</td>\n",
              "      <td>0</td>\n",
              "      <td>Ruvuma / Southern Coast</td>\n",
              "      <td>Mahakamani</td>\n",
              "      <td>Mtwara</td>\n",
              "      <td>90</td>\n",
              "      <td>63</td>\n",
              "      <td>Nanyumbu</td>\n",
              "      <td>Nanyumbu</td>\n",
              "      <td>58</td>\n",
              "      <td>True</td>\n",
              "      <td>GeoData Consultants Ltd</td>\n",
              "      <td>True</td>\n",
              "      <td>1986</td>\n",
              "      <td>submersible</td>\n",
              "      <td>submersible</td>\n",
              "      <td>6</td>\n",
              "      <td>vwc</td>\n",
              "      <td>user-group</td>\n",
              "      <td>never pay</td>\n",
              "      <td>1</td>\n",
              "      <td>soft</td>\n",
              "      <td>1</td>\n",
              "      <td>0</td>\n",
              "      <td>dry</td>\n",
              "      <td>machine dbh</td>\n",
              "      <td>4</td>\n",
              "      <td>groundwater</td>\n",
              "      <td>1</td>\n",
              "      <td>communal standpipe</td>\n",
              "      <td>0</td>\n",
              "      <td>non functional</td>\n",
              "      <td>borehole</td>\n",
              "      <td>good</td>\n",
              "    </tr>\n",
              "    <tr>\n",
              "      <th>4</th>\n",
              "      <td>19728</td>\n",
              "      <td>0.0</td>\n",
              "      <td>Action In A</td>\n",
              "      <td>0</td>\n",
              "      <td>Artisan</td>\n",
              "      <td>31.130847</td>\n",
              "      <td>-1.825359</td>\n",
              "      <td>Shuleni</td>\n",
              "      <td>0</td>\n",
              "      <td>Lake Victoria</td>\n",
              "      <td>Kyanyamisa</td>\n",
              "      <td>Kagera</td>\n",
              "      <td>18</td>\n",
              "      <td>1</td>\n",
              "      <td>Karagwe</td>\n",
              "      <td>Nyakasimbi</td>\n",
              "      <td>0</td>\n",
              "      <td>True</td>\n",
              "      <td>GeoData Consultants Ltd</td>\n",
              "      <td>True</td>\n",
              "      <td>1986</td>\n",
              "      <td>gravity</td>\n",
              "      <td>gravity</td>\n",
              "      <td>1</td>\n",
              "      <td>other</td>\n",
              "      <td>other</td>\n",
              "      <td>never pay</td>\n",
              "      <td>1</td>\n",
              "      <td>soft</td>\n",
              "      <td>1</td>\n",
              "      <td>3</td>\n",
              "      <td>seasonal</td>\n",
              "      <td>rainwater harvesting</td>\n",
              "      <td>2</td>\n",
              "      <td>surface</td>\n",
              "      <td>1</td>\n",
              "      <td>communal standpipe</td>\n",
              "      <td>1</td>\n",
              "      <td>functional</td>\n",
              "      <td>rainwater harvesting</td>\n",
              "      <td>good</td>\n",
              "    </tr>\n",
              "  </tbody>\n",
              "</table>\n",
              "</div>"
            ],
            "text/plain": [
              "      id  amount_tsh  ...      source_type_name  quality_group_name\n",
              "0  69572      6000.0  ...                spring                good\n",
              "1   8776         0.0  ...  rainwater harvesting                good\n",
              "2  34310        25.0  ...                   dam                good\n",
              "3  67743         0.0  ...              borehole                good\n",
              "4  19728         0.0  ...  rainwater harvesting                good\n",
              "\n",
              "[5 rows x 41 columns]"
            ]
          },
          "metadata": {
            "tags": []
          },
          "execution_count": 21
        }
      ]
    },
    {
      "cell_type": "code",
      "metadata": {
        "id": "h6zA-VJ1oi6p",
        "colab_type": "code",
        "colab": {
          "base_uri": "https://localhost:8080/",
          "height": 34
        },
        "outputId": "26a67518-99f0-4d3e-a9d3-18d8d5f4edae"
      },
      "source": [
        "print(water['population'].median())"
      ],
      "execution_count": 22,
      "outputs": [
        {
          "output_type": "stream",
          "text": [
            "25.0\n"
          ],
          "name": "stdout"
        }
      ]
    },
    {
      "cell_type": "code",
      "metadata": {
        "id": "06H8HMXhor5j",
        "colab_type": "code",
        "colab": {
          "base_uri": "https://localhost:8080/",
          "height": 411
        },
        "outputId": "2eaf3b01-c49c-475c-8803-ae92942a084e"
      },
      "source": [
        "water['population'] = water['population'].replace(0, 25.0)\n",
        "water.head(5)"
      ],
      "execution_count": null,
      "outputs": [
        {
          "output_type": "execute_result",
          "data": {
            "text/html": [
              "<div>\n",
              "<style scoped>\n",
              "    .dataframe tbody tr th:only-of-type {\n",
              "        vertical-align: middle;\n",
              "    }\n",
              "\n",
              "    .dataframe tbody tr th {\n",
              "        vertical-align: top;\n",
              "    }\n",
              "\n",
              "    .dataframe thead th {\n",
              "        text-align: right;\n",
              "    }\n",
              "</style>\n",
              "<table border=\"1\" class=\"dataframe\">\n",
              "  <thead>\n",
              "    <tr style=\"text-align: right;\">\n",
              "      <th></th>\n",
              "      <th>id</th>\n",
              "      <th>amount_tsh</th>\n",
              "      <th>funder</th>\n",
              "      <th>gps_height</th>\n",
              "      <th>installer</th>\n",
              "      <th>longitude</th>\n",
              "      <th>latitude</th>\n",
              "      <th>wpt_name</th>\n",
              "      <th>num_private</th>\n",
              "      <th>basin</th>\n",
              "      <th>subvillage</th>\n",
              "      <th>region</th>\n",
              "      <th>region_code</th>\n",
              "      <th>district_code</th>\n",
              "      <th>lga</th>\n",
              "      <th>ward</th>\n",
              "      <th>population</th>\n",
              "      <th>public_meeting</th>\n",
              "      <th>recorded_by</th>\n",
              "      <th>permit</th>\n",
              "      <th>construction_year</th>\n",
              "      <th>extraction_type</th>\n",
              "      <th>extraction_type_group</th>\n",
              "      <th>extraction_type_class</th>\n",
              "      <th>management</th>\n",
              "      <th>management_group</th>\n",
              "      <th>payment</th>\n",
              "      <th>payment_vals</th>\n",
              "      <th>water_quality</th>\n",
              "      <th>quality_group</th>\n",
              "      <th>quantity</th>\n",
              "      <th>quantity_group</th>\n",
              "      <th>source</th>\n",
              "      <th>source_type</th>\n",
              "      <th>source_class</th>\n",
              "      <th>waterpoint_type</th>\n",
              "      <th>waterpoint_type_group</th>\n",
              "      <th>status_group</th>\n",
              "      <th>status_group_name</th>\n",
              "      <th>source_type_name</th>\n",
              "      <th>quality_group_name</th>\n",
              "    </tr>\n",
              "  </thead>\n",
              "  <tbody>\n",
              "    <tr>\n",
              "      <th>0</th>\n",
              "      <td>69572</td>\n",
              "      <td>6000.0</td>\n",
              "      <td>Roman</td>\n",
              "      <td>1390</td>\n",
              "      <td>Roman</td>\n",
              "      <td>34.938093</td>\n",
              "      <td>-9.856322</td>\n",
              "      <td>none</td>\n",
              "      <td>0</td>\n",
              "      <td>Lake Nyasa</td>\n",
              "      <td>Mnyusi B</td>\n",
              "      <td>Iringa</td>\n",
              "      <td>11</td>\n",
              "      <td>5</td>\n",
              "      <td>Ludewa</td>\n",
              "      <td>Mundindi</td>\n",
              "      <td>109</td>\n",
              "      <td>True</td>\n",
              "      <td>GeoData Consultants Ltd</td>\n",
              "      <td>False</td>\n",
              "      <td>1999</td>\n",
              "      <td>gravity</td>\n",
              "      <td>gravity</td>\n",
              "      <td>1</td>\n",
              "      <td>vwc</td>\n",
              "      <td>user-group</td>\n",
              "      <td>pay annually</td>\n",
              "      <td>3</td>\n",
              "      <td>soft</td>\n",
              "      <td>1</td>\n",
              "      <td>1</td>\n",
              "      <td>enough</td>\n",
              "      <td>spring</td>\n",
              "      <td>1</td>\n",
              "      <td>groundwater</td>\n",
              "      <td>1</td>\n",
              "      <td>communal standpipe</td>\n",
              "      <td>1</td>\n",
              "      <td>functional</td>\n",
              "      <td>spring</td>\n",
              "      <td>good</td>\n",
              "    </tr>\n",
              "    <tr>\n",
              "      <th>1</th>\n",
              "      <td>8776</td>\n",
              "      <td>0.0</td>\n",
              "      <td>Grumeti</td>\n",
              "      <td>1399</td>\n",
              "      <td>GRUMETI</td>\n",
              "      <td>34.698766</td>\n",
              "      <td>-2.147466</td>\n",
              "      <td>Zahanati</td>\n",
              "      <td>0</td>\n",
              "      <td>Lake Victoria</td>\n",
              "      <td>Nyamara</td>\n",
              "      <td>Mara</td>\n",
              "      <td>20</td>\n",
              "      <td>2</td>\n",
              "      <td>Serengeti</td>\n",
              "      <td>Natta</td>\n",
              "      <td>280</td>\n",
              "      <td>NaN</td>\n",
              "      <td>GeoData Consultants Ltd</td>\n",
              "      <td>True</td>\n",
              "      <td>2010</td>\n",
              "      <td>gravity</td>\n",
              "      <td>gravity</td>\n",
              "      <td>1</td>\n",
              "      <td>wug</td>\n",
              "      <td>user-group</td>\n",
              "      <td>never pay</td>\n",
              "      <td>1</td>\n",
              "      <td>soft</td>\n",
              "      <td>1</td>\n",
              "      <td>2</td>\n",
              "      <td>insufficient</td>\n",
              "      <td>rainwater harvesting</td>\n",
              "      <td>2</td>\n",
              "      <td>surface</td>\n",
              "      <td>1</td>\n",
              "      <td>communal standpipe</td>\n",
              "      <td>1</td>\n",
              "      <td>functional</td>\n",
              "      <td>rainwater harvesting</td>\n",
              "      <td>good</td>\n",
              "    </tr>\n",
              "    <tr>\n",
              "      <th>2</th>\n",
              "      <td>34310</td>\n",
              "      <td>25.0</td>\n",
              "      <td>Lottery Club</td>\n",
              "      <td>686</td>\n",
              "      <td>World vision</td>\n",
              "      <td>37.460664</td>\n",
              "      <td>-3.821329</td>\n",
              "      <td>Kwa Mahundi</td>\n",
              "      <td>0</td>\n",
              "      <td>Pangani</td>\n",
              "      <td>Majengo</td>\n",
              "      <td>Manyara</td>\n",
              "      <td>21</td>\n",
              "      <td>4</td>\n",
              "      <td>Simanjiro</td>\n",
              "      <td>Ngorika</td>\n",
              "      <td>250</td>\n",
              "      <td>True</td>\n",
              "      <td>GeoData Consultants Ltd</td>\n",
              "      <td>True</td>\n",
              "      <td>2009</td>\n",
              "      <td>gravity</td>\n",
              "      <td>gravity</td>\n",
              "      <td>1</td>\n",
              "      <td>vwc</td>\n",
              "      <td>user-group</td>\n",
              "      <td>pay per bucket</td>\n",
              "      <td>5</td>\n",
              "      <td>soft</td>\n",
              "      <td>1</td>\n",
              "      <td>1</td>\n",
              "      <td>enough</td>\n",
              "      <td>dam</td>\n",
              "      <td>3</td>\n",
              "      <td>surface</td>\n",
              "      <td>1</td>\n",
              "      <td>communal standpipe</td>\n",
              "      <td>1</td>\n",
              "      <td>functional</td>\n",
              "      <td>dam</td>\n",
              "      <td>good</td>\n",
              "    </tr>\n",
              "    <tr>\n",
              "      <th>3</th>\n",
              "      <td>67743</td>\n",
              "      <td>0.0</td>\n",
              "      <td>Unicef</td>\n",
              "      <td>263</td>\n",
              "      <td>UNICEF</td>\n",
              "      <td>38.486161</td>\n",
              "      <td>-11.155298</td>\n",
              "      <td>Zahanati Ya Nanyumbu</td>\n",
              "      <td>0</td>\n",
              "      <td>Ruvuma / Southern Coast</td>\n",
              "      <td>Mahakamani</td>\n",
              "      <td>Mtwara</td>\n",
              "      <td>90</td>\n",
              "      <td>63</td>\n",
              "      <td>Nanyumbu</td>\n",
              "      <td>Nanyumbu</td>\n",
              "      <td>58</td>\n",
              "      <td>True</td>\n",
              "      <td>GeoData Consultants Ltd</td>\n",
              "      <td>True</td>\n",
              "      <td>1986</td>\n",
              "      <td>submersible</td>\n",
              "      <td>submersible</td>\n",
              "      <td>6</td>\n",
              "      <td>vwc</td>\n",
              "      <td>user-group</td>\n",
              "      <td>never pay</td>\n",
              "      <td>1</td>\n",
              "      <td>soft</td>\n",
              "      <td>1</td>\n",
              "      <td>0</td>\n",
              "      <td>dry</td>\n",
              "      <td>machine dbh</td>\n",
              "      <td>4</td>\n",
              "      <td>groundwater</td>\n",
              "      <td>1</td>\n",
              "      <td>communal standpipe</td>\n",
              "      <td>0</td>\n",
              "      <td>non functional</td>\n",
              "      <td>borehole</td>\n",
              "      <td>good</td>\n",
              "    </tr>\n",
              "    <tr>\n",
              "      <th>4</th>\n",
              "      <td>19728</td>\n",
              "      <td>0.0</td>\n",
              "      <td>Action In A</td>\n",
              "      <td>0</td>\n",
              "      <td>Artisan</td>\n",
              "      <td>31.130847</td>\n",
              "      <td>-1.825359</td>\n",
              "      <td>Shuleni</td>\n",
              "      <td>0</td>\n",
              "      <td>Lake Victoria</td>\n",
              "      <td>Kyanyamisa</td>\n",
              "      <td>Kagera</td>\n",
              "      <td>18</td>\n",
              "      <td>1</td>\n",
              "      <td>Karagwe</td>\n",
              "      <td>Nyakasimbi</td>\n",
              "      <td>25</td>\n",
              "      <td>True</td>\n",
              "      <td>GeoData Consultants Ltd</td>\n",
              "      <td>True</td>\n",
              "      <td>1986</td>\n",
              "      <td>gravity</td>\n",
              "      <td>gravity</td>\n",
              "      <td>1</td>\n",
              "      <td>other</td>\n",
              "      <td>other</td>\n",
              "      <td>never pay</td>\n",
              "      <td>1</td>\n",
              "      <td>soft</td>\n",
              "      <td>1</td>\n",
              "      <td>3</td>\n",
              "      <td>seasonal</td>\n",
              "      <td>rainwater harvesting</td>\n",
              "      <td>2</td>\n",
              "      <td>surface</td>\n",
              "      <td>1</td>\n",
              "      <td>communal standpipe</td>\n",
              "      <td>1</td>\n",
              "      <td>functional</td>\n",
              "      <td>rainwater harvesting</td>\n",
              "      <td>good</td>\n",
              "    </tr>\n",
              "  </tbody>\n",
              "</table>\n",
              "</div>"
            ],
            "text/plain": [
              "      id  amount_tsh  ...      source_type_name  quality_group_name\n",
              "0  69572      6000.0  ...                spring                good\n",
              "1   8776         0.0  ...  rainwater harvesting                good\n",
              "2  34310        25.0  ...                   dam                good\n",
              "3  67743         0.0  ...              borehole                good\n",
              "4  19728         0.0  ...  rainwater harvesting                good\n",
              "\n",
              "[5 rows x 41 columns]"
            ]
          },
          "metadata": {
            "tags": []
          },
          "execution_count": 142
        }
      ]
    },
    {
      "cell_type": "code",
      "metadata": {
        "id": "la1fsDadpU5X",
        "colab_type": "code",
        "colab": {
          "base_uri": "https://localhost:8080/",
          "height": 34
        },
        "outputId": "b4aadcba-2e06-4552-bb60-4b39e8f5c221"
      },
      "source": [
        "print(water['gps_height'].median())"
      ],
      "execution_count": 23,
      "outputs": [
        {
          "output_type": "stream",
          "text": [
            "369.0\n"
          ],
          "name": "stdout"
        }
      ]
    },
    {
      "cell_type": "code",
      "metadata": {
        "id": "zVMGL4WVpdA4",
        "colab_type": "code",
        "colab": {
          "base_uri": "https://localhost:8080/",
          "height": 411
        },
        "outputId": "3865a70a-f2bb-4272-ae54-fa2da791df36"
      },
      "source": [
        "water['gps_height'] = water['gps_height'].replace(0, 369.0)\n",
        "water.head(5)"
      ],
      "execution_count": 24,
      "outputs": [
        {
          "output_type": "execute_result",
          "data": {
            "text/html": [
              "<div>\n",
              "<style scoped>\n",
              "    .dataframe tbody tr th:only-of-type {\n",
              "        vertical-align: middle;\n",
              "    }\n",
              "\n",
              "    .dataframe tbody tr th {\n",
              "        vertical-align: top;\n",
              "    }\n",
              "\n",
              "    .dataframe thead th {\n",
              "        text-align: right;\n",
              "    }\n",
              "</style>\n",
              "<table border=\"1\" class=\"dataframe\">\n",
              "  <thead>\n",
              "    <tr style=\"text-align: right;\">\n",
              "      <th></th>\n",
              "      <th>id</th>\n",
              "      <th>amount_tsh</th>\n",
              "      <th>funder</th>\n",
              "      <th>gps_height</th>\n",
              "      <th>installer</th>\n",
              "      <th>longitude</th>\n",
              "      <th>latitude</th>\n",
              "      <th>wpt_name</th>\n",
              "      <th>num_private</th>\n",
              "      <th>basin</th>\n",
              "      <th>subvillage</th>\n",
              "      <th>region</th>\n",
              "      <th>region_code</th>\n",
              "      <th>district_code</th>\n",
              "      <th>lga</th>\n",
              "      <th>ward</th>\n",
              "      <th>population</th>\n",
              "      <th>public_meeting</th>\n",
              "      <th>recorded_by</th>\n",
              "      <th>permit</th>\n",
              "      <th>construction_year</th>\n",
              "      <th>extraction_type</th>\n",
              "      <th>extraction_type_group</th>\n",
              "      <th>extraction_type_class</th>\n",
              "      <th>management</th>\n",
              "      <th>management_group</th>\n",
              "      <th>payment</th>\n",
              "      <th>payment_vals</th>\n",
              "      <th>water_quality</th>\n",
              "      <th>quality_group</th>\n",
              "      <th>quantity</th>\n",
              "      <th>quantity_group</th>\n",
              "      <th>source</th>\n",
              "      <th>source_type</th>\n",
              "      <th>source_class</th>\n",
              "      <th>waterpoint_type</th>\n",
              "      <th>waterpoint_type_group</th>\n",
              "      <th>status_group</th>\n",
              "      <th>status_group_name</th>\n",
              "      <th>source_type_name</th>\n",
              "      <th>quality_group_name</th>\n",
              "    </tr>\n",
              "  </thead>\n",
              "  <tbody>\n",
              "    <tr>\n",
              "      <th>0</th>\n",
              "      <td>69572</td>\n",
              "      <td>6000.0</td>\n",
              "      <td>Roman</td>\n",
              "      <td>1390</td>\n",
              "      <td>Roman</td>\n",
              "      <td>34.938093</td>\n",
              "      <td>-9.856322</td>\n",
              "      <td>none</td>\n",
              "      <td>0</td>\n",
              "      <td>Lake Nyasa</td>\n",
              "      <td>Mnyusi B</td>\n",
              "      <td>Iringa</td>\n",
              "      <td>11</td>\n",
              "      <td>5</td>\n",
              "      <td>Ludewa</td>\n",
              "      <td>Mundindi</td>\n",
              "      <td>109</td>\n",
              "      <td>True</td>\n",
              "      <td>GeoData Consultants Ltd</td>\n",
              "      <td>False</td>\n",
              "      <td>1999</td>\n",
              "      <td>gravity</td>\n",
              "      <td>gravity</td>\n",
              "      <td>1</td>\n",
              "      <td>vwc</td>\n",
              "      <td>user-group</td>\n",
              "      <td>pay annually</td>\n",
              "      <td>3</td>\n",
              "      <td>soft</td>\n",
              "      <td>1</td>\n",
              "      <td>1</td>\n",
              "      <td>enough</td>\n",
              "      <td>spring</td>\n",
              "      <td>1</td>\n",
              "      <td>groundwater</td>\n",
              "      <td>1</td>\n",
              "      <td>communal standpipe</td>\n",
              "      <td>1</td>\n",
              "      <td>functional</td>\n",
              "      <td>spring</td>\n",
              "      <td>good</td>\n",
              "    </tr>\n",
              "    <tr>\n",
              "      <th>1</th>\n",
              "      <td>8776</td>\n",
              "      <td>0.0</td>\n",
              "      <td>Grumeti</td>\n",
              "      <td>1399</td>\n",
              "      <td>GRUMETI</td>\n",
              "      <td>34.698766</td>\n",
              "      <td>-2.147466</td>\n",
              "      <td>Zahanati</td>\n",
              "      <td>0</td>\n",
              "      <td>Lake Victoria</td>\n",
              "      <td>Nyamara</td>\n",
              "      <td>Mara</td>\n",
              "      <td>20</td>\n",
              "      <td>2</td>\n",
              "      <td>Serengeti</td>\n",
              "      <td>Natta</td>\n",
              "      <td>280</td>\n",
              "      <td>NaN</td>\n",
              "      <td>GeoData Consultants Ltd</td>\n",
              "      <td>True</td>\n",
              "      <td>2010</td>\n",
              "      <td>gravity</td>\n",
              "      <td>gravity</td>\n",
              "      <td>1</td>\n",
              "      <td>wug</td>\n",
              "      <td>user-group</td>\n",
              "      <td>never pay</td>\n",
              "      <td>1</td>\n",
              "      <td>soft</td>\n",
              "      <td>1</td>\n",
              "      <td>2</td>\n",
              "      <td>insufficient</td>\n",
              "      <td>rainwater harvesting</td>\n",
              "      <td>2</td>\n",
              "      <td>surface</td>\n",
              "      <td>1</td>\n",
              "      <td>communal standpipe</td>\n",
              "      <td>1</td>\n",
              "      <td>functional</td>\n",
              "      <td>rainwater harvesting</td>\n",
              "      <td>good</td>\n",
              "    </tr>\n",
              "    <tr>\n",
              "      <th>2</th>\n",
              "      <td>34310</td>\n",
              "      <td>25.0</td>\n",
              "      <td>Lottery Club</td>\n",
              "      <td>686</td>\n",
              "      <td>World vision</td>\n",
              "      <td>37.460664</td>\n",
              "      <td>-3.821329</td>\n",
              "      <td>Kwa Mahundi</td>\n",
              "      <td>0</td>\n",
              "      <td>Pangani</td>\n",
              "      <td>Majengo</td>\n",
              "      <td>Manyara</td>\n",
              "      <td>21</td>\n",
              "      <td>4</td>\n",
              "      <td>Simanjiro</td>\n",
              "      <td>Ngorika</td>\n",
              "      <td>250</td>\n",
              "      <td>True</td>\n",
              "      <td>GeoData Consultants Ltd</td>\n",
              "      <td>True</td>\n",
              "      <td>2009</td>\n",
              "      <td>gravity</td>\n",
              "      <td>gravity</td>\n",
              "      <td>1</td>\n",
              "      <td>vwc</td>\n",
              "      <td>user-group</td>\n",
              "      <td>pay per bucket</td>\n",
              "      <td>5</td>\n",
              "      <td>soft</td>\n",
              "      <td>1</td>\n",
              "      <td>1</td>\n",
              "      <td>enough</td>\n",
              "      <td>dam</td>\n",
              "      <td>3</td>\n",
              "      <td>surface</td>\n",
              "      <td>1</td>\n",
              "      <td>communal standpipe</td>\n",
              "      <td>1</td>\n",
              "      <td>functional</td>\n",
              "      <td>dam</td>\n",
              "      <td>good</td>\n",
              "    </tr>\n",
              "    <tr>\n",
              "      <th>3</th>\n",
              "      <td>67743</td>\n",
              "      <td>0.0</td>\n",
              "      <td>Unicef</td>\n",
              "      <td>263</td>\n",
              "      <td>UNICEF</td>\n",
              "      <td>38.486161</td>\n",
              "      <td>-11.155298</td>\n",
              "      <td>Zahanati Ya Nanyumbu</td>\n",
              "      <td>0</td>\n",
              "      <td>Ruvuma / Southern Coast</td>\n",
              "      <td>Mahakamani</td>\n",
              "      <td>Mtwara</td>\n",
              "      <td>90</td>\n",
              "      <td>63</td>\n",
              "      <td>Nanyumbu</td>\n",
              "      <td>Nanyumbu</td>\n",
              "      <td>58</td>\n",
              "      <td>True</td>\n",
              "      <td>GeoData Consultants Ltd</td>\n",
              "      <td>True</td>\n",
              "      <td>1986</td>\n",
              "      <td>submersible</td>\n",
              "      <td>submersible</td>\n",
              "      <td>6</td>\n",
              "      <td>vwc</td>\n",
              "      <td>user-group</td>\n",
              "      <td>never pay</td>\n",
              "      <td>1</td>\n",
              "      <td>soft</td>\n",
              "      <td>1</td>\n",
              "      <td>0</td>\n",
              "      <td>dry</td>\n",
              "      <td>machine dbh</td>\n",
              "      <td>4</td>\n",
              "      <td>groundwater</td>\n",
              "      <td>1</td>\n",
              "      <td>communal standpipe</td>\n",
              "      <td>0</td>\n",
              "      <td>non functional</td>\n",
              "      <td>borehole</td>\n",
              "      <td>good</td>\n",
              "    </tr>\n",
              "    <tr>\n",
              "      <th>4</th>\n",
              "      <td>19728</td>\n",
              "      <td>0.0</td>\n",
              "      <td>Action In A</td>\n",
              "      <td>369</td>\n",
              "      <td>Artisan</td>\n",
              "      <td>31.130847</td>\n",
              "      <td>-1.825359</td>\n",
              "      <td>Shuleni</td>\n",
              "      <td>0</td>\n",
              "      <td>Lake Victoria</td>\n",
              "      <td>Kyanyamisa</td>\n",
              "      <td>Kagera</td>\n",
              "      <td>18</td>\n",
              "      <td>1</td>\n",
              "      <td>Karagwe</td>\n",
              "      <td>Nyakasimbi</td>\n",
              "      <td>0</td>\n",
              "      <td>True</td>\n",
              "      <td>GeoData Consultants Ltd</td>\n",
              "      <td>True</td>\n",
              "      <td>1986</td>\n",
              "      <td>gravity</td>\n",
              "      <td>gravity</td>\n",
              "      <td>1</td>\n",
              "      <td>other</td>\n",
              "      <td>other</td>\n",
              "      <td>never pay</td>\n",
              "      <td>1</td>\n",
              "      <td>soft</td>\n",
              "      <td>1</td>\n",
              "      <td>3</td>\n",
              "      <td>seasonal</td>\n",
              "      <td>rainwater harvesting</td>\n",
              "      <td>2</td>\n",
              "      <td>surface</td>\n",
              "      <td>1</td>\n",
              "      <td>communal standpipe</td>\n",
              "      <td>1</td>\n",
              "      <td>functional</td>\n",
              "      <td>rainwater harvesting</td>\n",
              "      <td>good</td>\n",
              "    </tr>\n",
              "  </tbody>\n",
              "</table>\n",
              "</div>"
            ],
            "text/plain": [
              "      id  amount_tsh  ...      source_type_name  quality_group_name\n",
              "0  69572      6000.0  ...                spring                good\n",
              "1   8776         0.0  ...  rainwater harvesting                good\n",
              "2  34310        25.0  ...                   dam                good\n",
              "3  67743         0.0  ...              borehole                good\n",
              "4  19728         0.0  ...  rainwater harvesting                good\n",
              "\n",
              "[5 rows x 41 columns]"
            ]
          },
          "metadata": {
            "tags": []
          },
          "execution_count": 24
        }
      ]
    },
    {
      "cell_type": "code",
      "metadata": {
        "id": "n6GwVouds_Li",
        "colab_type": "code",
        "colab": {
          "base_uri": "https://localhost:8080/",
          "height": 731
        },
        "outputId": "c87b4e1d-5a5f-4a1e-b968-b51376c84c9b"
      },
      "source": [
        "# Let's check for null values\n",
        "water.apply(lambda x: sum(x.isnull()))"
      ],
      "execution_count": 25,
      "outputs": [
        {
          "output_type": "execute_result",
          "data": {
            "text/plain": [
              "id                          0\n",
              "amount_tsh                  0\n",
              "funder                   3635\n",
              "gps_height                  0\n",
              "installer                3655\n",
              "longitude                   0\n",
              "latitude                    0\n",
              "wpt_name                    0\n",
              "num_private                 0\n",
              "basin                       0\n",
              "subvillage                371\n",
              "region                      0\n",
              "region_code                 0\n",
              "district_code               0\n",
              "lga                         0\n",
              "ward                        0\n",
              "population                  0\n",
              "public_meeting           3334\n",
              "recorded_by                 0\n",
              "permit                   3056\n",
              "construction_year           0\n",
              "extraction_type             0\n",
              "extraction_type_group       0\n",
              "extraction_type_class       0\n",
              "management                  0\n",
              "management_group            0\n",
              "payment                     0\n",
              "payment_vals                0\n",
              "water_quality               0\n",
              "quality_group               0\n",
              "quantity                    0\n",
              "quantity_group              0\n",
              "source                      0\n",
              "source_type                 0\n",
              "source_class                0\n",
              "waterpoint_type             0\n",
              "waterpoint_type_group       0\n",
              "status_group                0\n",
              "status_group_name           0\n",
              "source_type_name            0\n",
              "quality_group_name          0\n",
              "dtype: int64"
            ]
          },
          "metadata": {
            "tags": []
          },
          "execution_count": 25
        }
      ]
    },
    {
      "cell_type": "markdown",
      "metadata": {
        "id": "QLogI7mPtVf5",
        "colab_type": "text"
      },
      "source": [
        "**Wow, several feature variables have huge null value counts** - permit, public_meeting, subvillage, installer, and funder. These features will not be used in our model runs. "
      ]
    },
    {
      "cell_type": "markdown",
      "metadata": {
        "id": "l3iSfYh0k4nL",
        "colab_type": "text"
      },
      "source": [
        "**DATA EXPLORATION (TRAINING SET)**"
      ]
    },
    {
      "cell_type": "code",
      "metadata": {
        "id": "b0sxHq8jb26i",
        "colab_type": "code",
        "colab": {
          "base_uri": "https://localhost:8080/",
          "height": 728
        },
        "outputId": "8ba663c4-12fb-412e-d842-1d40e6ced11d"
      },
      "source": [
        "# Let's do a Correlation Matrix \n",
        "corr = water.corr()\n",
        "f, ax = plt.subplots(figsize=(17, 17))\n",
        "sns.heatmap(corr, square=True, cbar=True, annot=True, fmt='.3f',\n",
        "            xticklabels=True, yticklabels=True, \n",
        "            cmap=\"coolwarm\", linewidth=1, ax=ax)\n",
        "plt.title('PUMP IT UP - HEATMAP', size=17);\n",
        "\n"
      ],
      "execution_count": 26,
      "outputs": [
        {
          "output_type": "display_data",
          "data": {
            "image/png": "[encoded data removed]",
            "text/plain": [
              "<Figure size 1224x1224 with 2 Axes>"
            ]
          },
          "metadata": {
            "tags": [],
            "needs_background": "light"
          }
        }
      ]
    },
    {
      "cell_type": "markdown",
      "metadata": {
        "id": "1qaLehdNk_WF",
        "colab_type": "text"
      },
      "source": [
        "From the above seaborn heat map we can see that the following features have a strong correlation to predicting functionality of any given well throughout Tanzanian. Those features are \"construction_year\", \"district_code', \"longitude\", \"latitude\", \"gps_height\", and \"region_code\". To a lesser extent we have \"extraction_type_Class\", \"quantity', and \"payment_type\"."
      ]
    },
    {
      "cell_type": "code",
      "metadata": {
        "id": "naC3welB0k8S",
        "colab_type": "code",
        "colab": {
          "base_uri": "https://localhost:8080/",
          "height": 102
        },
        "outputId": "29ebc9cf-0071-4f35-93a3-d6aaacb67203"
      },
      "source": [
        "# Let's see the Numeric Coding for the Waterpoint Type\n",
        "water_type = water.groupby('status_group_name')[['waterpoint_type']].count()\n",
        "print(water_type)"
      ],
      "execution_count": 27,
      "outputs": [
        {
          "output_type": "stream",
          "text": [
            "                         waterpoint_type\n",
            "status_group_name                       \n",
            "functional                         32259\n",
            "functional needs repair             4317\n",
            "non functional                     22824\n"
          ],
          "name": "stdout"
        }
      ]
    },
    {
      "cell_type": "code",
      "metadata": {
        "id": "5q-fTnpPv_zu",
        "colab_type": "code",
        "colab": {
          "base_uri": "https://localhost:8080/",
          "height": 51
        },
        "outputId": "d74132d1-e82c-4c77-e65a-720a11e2d9e7"
      },
      "source": [
        "# Let's see the above sum of the Waterpoint Type\n",
        "water_type = water.groupby('waterpoint_type_group')[['status_group_name']].count().sum()\n",
        "print(water_type)"
      ],
      "execution_count": 28,
      "outputs": [
        {
          "output_type": "stream",
          "text": [
            "status_group_name    59400\n",
            "dtype: int64\n"
          ],
          "name": "stdout"
        }
      ]
    },
    {
      "cell_type": "code",
      "metadata": {
        "id": "NLe0su4fyDga",
        "colab_type": "code",
        "colab": {
          "base_uri": "https://localhost:8080/",
          "height": 226
        },
        "outputId": "6bee6ab0-96cd-4c25-b606-896d28a5f5e4"
      },
      "source": [
        "# Let's look at the Top 10 Regional areas - Looking at the total Well Pump Count\n",
        "region_count = water['region'].value_counts()\n",
        "region_count = region_count[:10,]\n",
        "plt.figure(figsize=(20,5))\n",
        "sns.barplot(region_count.index, region_count.values, alpha=0.5)\n",
        "plt.title('Functional Status/Pump Count vs. Tanzaian Region')\n",
        "plt.ylabel('Pump Status Count')\n",
        "plt.xlabel('Region')\n",
        "plt.show()\n",
        "\n",
        "\n",
        "\n"
      ],
      "execution_count": 29,
      "outputs": [
        {
          "output_type": "display_data",
          "data": {
            "image/png": "[encoded data removed]",
            "text/plain": [
              "<Figure size 1440x360 with 1 Axes>"
            ]
          },
          "metadata": {
            "tags": [],
            "needs_background": "light"
          }
        }
      ]
    },
    {
      "cell_type": "code",
      "metadata": {
        "id": "0oDFtn8InbY3",
        "colab_type": "code",
        "colab": {
          "base_uri": "https://localhost:8080/",
          "height": 282
        },
        "outputId": "e9ed282d-85e8-4a25-9dc8-c4e32c6b19d4"
      },
      "source": [
        " # Let's create a count of Status Group values by Region with a Bar Chart\n",
        "region = water.groupby('region')[['status_group']].count()\n",
        "region.plot(kind='barh')\n"
      ],
      "execution_count": null,
      "outputs": [
        {
          "output_type": "execute_result",
          "data": {
            "text/plain": [
              "<matplotlib.axes._subplots.AxesSubplot at 0x7f3dafac2908>"
            ]
          },
          "metadata": {
            "tags": []
          },
          "execution_count": 150
        },
        {
          "output_type": "display_data",
          "data": {
            "image/png": "[encoded data removed]",
            "text/plain": [
              "<Figure size 432x288 with 1 Axes>"
            ]
          },
          "metadata": {
            "tags": [],
            "needs_background": "light"
          }
        }
      ]
    },
    {
      "cell_type": "code",
      "metadata": {
        "id": "SretaWFq6CSR",
        "colab_type": "code",
        "colab": {
          "base_uri": "https://localhost:8080/",
          "height": 294
        },
        "outputId": "b9561a5e-6e42-4c4a-9308-caa8f4f889ae"
      },
      "source": [
        "# let's look at the Funding vs. Number of Pumps for the Top 10 Agencys\n",
        "funder_count = water['funder'].value_counts()\n",
        "funder_count = funder_count[:10,]\n",
        "plt.figure(figsize=(20,7))\n",
        "sns.barplot(funder_count.index, funder_count.values, alpha=0.5)\n",
        "plt.title('Funder vs. Number of Pumps')\n",
        "plt.ylabel('Functional Counts')\n",
        "plt.xlabel('Funder')\n",
        "plt.show()"
      ],
      "execution_count": 30,
      "outputs": [
        {
          "output_type": "display_data",
          "data": {
            "image/png": "[encoded data removed]",
            "text/plain": [
              "<Figure size 1440x504 with 1 Axes>"
            ]
          },
          "metadata": {
            "tags": [],
            "needs_background": "light"
          }
        }
      ]
    },
    {
      "cell_type": "code",
      "metadata": {
        "id": "bBs1jVvAnKCn",
        "colab_type": "code",
        "colab": {
          "base_uri": "https://localhost:8080/",
          "height": 272
        },
        "outputId": "a485b758-539d-4329-86aa-4c5d8cc98e7b"
      },
      "source": [
        "funder =water.groupby('funder')[['status_group_name']].count()\n",
        "print(funder)"
      ],
      "execution_count": 31,
      "outputs": [
        {
          "output_type": "stream",
          "text": [
            "                     status_group_name\n",
            "funder                                \n",
            "0                                  777\n",
            "A/co Germany                        15\n",
            "Aar                                 33\n",
            "Abas Ka                              1\n",
            "Abasia                              43\n",
            "...                                ...\n",
            "Zao                                  1\n",
            "Zao Water Spring                     3\n",
            "Zao Water Spring X                   1\n",
            "Zinduka                              1\n",
            "Zingibali Secondary                  1\n",
            "\n",
            "[1897 rows x 1 columns]\n"
          ],
          "name": "stdout"
        }
      ]
    },
    {
      "cell_type": "markdown",
      "metadata": {
        "id": "SHTjdzvRmiGH",
        "colab_type": "text"
      },
      "source": [
        "This shows us that the Tanzanian Government has funded the most wells."
      ]
    },
    {
      "cell_type": "code",
      "metadata": {
        "id": "T3HbTPiSqL6X",
        "colab_type": "code",
        "colab": {
          "base_uri": "https://localhost:8080/",
          "height": 225
        },
        "outputId": "fe52c07a-2889-4b9c-e767-0164d5e5395a"
      },
      "source": [
        "# This chart gives us a Total Well Pummp count for each Waterpoint Type\n",
        "pump_count = water['waterpoint_type_group'].value_counts()\n",
        "pump_count = pump_count[:7,]\n",
        "plt.figure(figsize=(20,5))\n",
        "sns.barplot(pump_count.index, pump_count.values, alpha=0.5)\n",
        "plt.title('Functional Status/Pump Count vs. Waterpoint Type')\n",
        "plt.ylabel('Pump Count')\n",
        "plt.xlabel('Waterpoint Type')\n",
        "plt.show()"
      ],
      "execution_count": 32,
      "outputs": [
        {
          "output_type": "display_data",
          "data": {
            "image/png": "[encoded data removed]",
            "text/plain": [
              "<Figure size 1440x360 with 1 Axes>"
            ]
          },
          "metadata": {
            "tags": [],
            "needs_background": "light"
          }
        }
      ]
    },
    {
      "cell_type": "markdown",
      "metadata": {
        "id": "fNIUO3W2m1Ey",
        "colab_type": "text"
      },
      "source": [
        "This shows us that the most common type well is the \"communal standpipe\". The number grakeouts are printed below."
      ]
    },
    {
      "cell_type": "code",
      "metadata": {
        "id": "XWzUMen7aQ1y",
        "colab_type": "code",
        "colab": {
          "base_uri": "https://localhost:8080/",
          "height": 153
        },
        "outputId": "abafa13c-2c05-4245-833a-34772280e87a"
      },
      "source": [
        "# Let's show the numeric counts of the above bar chart.\n",
        "water_type = water.groupby('waterpoint_type_group')[['status_group']].count()\n",
        "print(water_type)\n",
        "\n"
      ],
      "execution_count": 33,
      "outputs": [
        {
          "output_type": "stream",
          "text": [
            "                       status_group\n",
            "waterpoint_type_group              \n",
            "cattle trough                   116\n",
            "communal standpipe            34625\n",
            "dam                               7\n",
            "hand pump                     17488\n",
            "improved spring                 784\n",
            "other                          6380\n"
          ],
          "name": "stdout"
        }
      ]
    },
    {
      "cell_type": "markdown",
      "metadata": {
        "id": "OVt1UjRPn1bd",
        "colab_type": "text"
      },
      "source": [
        "Next, let's try some pivot tables to drill down into some of this information and perhaps get a better feel for the numbers associated with some of the features of our dataset."
      ]
    },
    {
      "cell_type": "code",
      "metadata": {
        "id": "cJxOxBtLuffQ",
        "colab_type": "code",
        "colab": {
          "base_uri": "https://localhost:8080/",
          "height": 917
        },
        "outputId": "d760433f-d6ca-402b-ebf4-d9e47ebf2124"
      },
      "source": [
        "piv_table = pd.pivot_table(water,index=['basin','status_group_name'],\n",
        "                           values='status_group', aggfunc='count')\n",
        "piv_table"
      ],
      "execution_count": 34,
      "outputs": [
        {
          "output_type": "execute_result",
          "data": {
            "text/html": [
              "<div>\n",
              "<style scoped>\n",
              "    .dataframe tbody tr th:only-of-type {\n",
              "        vertical-align: middle;\n",
              "    }\n",
              "\n",
              "    .dataframe tbody tr th {\n",
              "        vertical-align: top;\n",
              "    }\n",
              "\n",
              "    .dataframe thead th {\n",
              "        text-align: right;\n",
              "    }\n",
              "</style>\n",
              "<table border=\"1\" class=\"dataframe\">\n",
              "  <thead>\n",
              "    <tr style=\"text-align: right;\">\n",
              "      <th></th>\n",
              "      <th></th>\n",
              "      <th>status_group</th>\n",
              "    </tr>\n",
              "    <tr>\n",
              "      <th>basin</th>\n",
              "      <th>status_group_name</th>\n",
              "      <th></th>\n",
              "    </tr>\n",
              "  </thead>\n",
              "  <tbody>\n",
              "    <tr>\n",
              "      <th rowspan=\"3\" valign=\"top\">Internal</th>\n",
              "      <th>functional</th>\n",
              "      <td>4482</td>\n",
              "    </tr>\n",
              "    <tr>\n",
              "      <th>functional needs repair</th>\n",
              "      <td>557</td>\n",
              "    </tr>\n",
              "    <tr>\n",
              "      <th>non functional</th>\n",
              "      <td>2746</td>\n",
              "    </tr>\n",
              "    <tr>\n",
              "      <th rowspan=\"3\" valign=\"top\">Lake Nyasa</th>\n",
              "      <th>functional</th>\n",
              "      <td>3324</td>\n",
              "    </tr>\n",
              "    <tr>\n",
              "      <th>functional needs repair</th>\n",
              "      <td>250</td>\n",
              "    </tr>\n",
              "    <tr>\n",
              "      <th>non functional</th>\n",
              "      <td>1511</td>\n",
              "    </tr>\n",
              "    <tr>\n",
              "      <th rowspan=\"3\" valign=\"top\">Lake Rukwa</th>\n",
              "      <th>functional</th>\n",
              "      <td>1000</td>\n",
              "    </tr>\n",
              "    <tr>\n",
              "      <th>functional needs repair</th>\n",
              "      <td>270</td>\n",
              "    </tr>\n",
              "    <tr>\n",
              "      <th>non functional</th>\n",
              "      <td>1184</td>\n",
              "    </tr>\n",
              "    <tr>\n",
              "      <th rowspan=\"3\" valign=\"top\">Lake Tanganyika</th>\n",
              "      <th>functional</th>\n",
              "      <td>3107</td>\n",
              "    </tr>\n",
              "    <tr>\n",
              "      <th>functional needs repair</th>\n",
              "      <td>742</td>\n",
              "    </tr>\n",
              "    <tr>\n",
              "      <th>non functional</th>\n",
              "      <td>2583</td>\n",
              "    </tr>\n",
              "    <tr>\n",
              "      <th rowspan=\"3\" valign=\"top\">Lake Victoria</th>\n",
              "      <th>functional</th>\n",
              "      <td>5100</td>\n",
              "    </tr>\n",
              "    <tr>\n",
              "      <th>functional needs repair</th>\n",
              "      <td>989</td>\n",
              "    </tr>\n",
              "    <tr>\n",
              "      <th>non functional</th>\n",
              "      <td>4159</td>\n",
              "    </tr>\n",
              "    <tr>\n",
              "      <th rowspan=\"3\" valign=\"top\">Pangani</th>\n",
              "      <th>functional</th>\n",
              "      <td>5372</td>\n",
              "    </tr>\n",
              "    <tr>\n",
              "      <th>functional needs repair</th>\n",
              "      <td>477</td>\n",
              "    </tr>\n",
              "    <tr>\n",
              "      <th>non functional</th>\n",
              "      <td>3091</td>\n",
              "    </tr>\n",
              "    <tr>\n",
              "      <th rowspan=\"3\" valign=\"top\">Rufiji</th>\n",
              "      <th>functional</th>\n",
              "      <td>5068</td>\n",
              "    </tr>\n",
              "    <tr>\n",
              "      <th>functional needs repair</th>\n",
              "      <td>437</td>\n",
              "    </tr>\n",
              "    <tr>\n",
              "      <th>non functional</th>\n",
              "      <td>2471</td>\n",
              "    </tr>\n",
              "    <tr>\n",
              "      <th rowspan=\"3\" valign=\"top\">Ruvuma / Southern Coast</th>\n",
              "      <th>functional</th>\n",
              "      <td>1670</td>\n",
              "    </tr>\n",
              "    <tr>\n",
              "      <th>functional needs repair</th>\n",
              "      <td>326</td>\n",
              "    </tr>\n",
              "    <tr>\n",
              "      <th>non functional</th>\n",
              "      <td>2497</td>\n",
              "    </tr>\n",
              "    <tr>\n",
              "      <th rowspan=\"3\" valign=\"top\">Wami / Ruvu</th>\n",
              "      <th>functional</th>\n",
              "      <td>3136</td>\n",
              "    </tr>\n",
              "    <tr>\n",
              "      <th>functional needs repair</th>\n",
              "      <td>269</td>\n",
              "    </tr>\n",
              "    <tr>\n",
              "      <th>non functional</th>\n",
              "      <td>2582</td>\n",
              "    </tr>\n",
              "  </tbody>\n",
              "</table>\n",
              "</div>"
            ],
            "text/plain": [
              "                                                 status_group\n",
              "basin                   status_group_name                    \n",
              "Internal                functional                       4482\n",
              "                        functional needs repair           557\n",
              "                        non functional                   2746\n",
              "Lake Nyasa              functional                       3324\n",
              "                        functional needs repair           250\n",
              "                        non functional                   1511\n",
              "Lake Rukwa              functional                       1000\n",
              "                        functional needs repair           270\n",
              "                        non functional                   1184\n",
              "Lake Tanganyika         functional                       3107\n",
              "                        functional needs repair           742\n",
              "                        non functional                   2583\n",
              "Lake Victoria           functional                       5100\n",
              "                        functional needs repair           989\n",
              "                        non functional                   4159\n",
              "Pangani                 functional                       5372\n",
              "                        functional needs repair           477\n",
              "                        non functional                   3091\n",
              "Rufiji                  functional                       5068\n",
              "                        functional needs repair           437\n",
              "                        non functional                   2471\n",
              "Ruvuma / Southern Coast functional                       1670\n",
              "                        functional needs repair           326\n",
              "                        non functional                   2497\n",
              "Wami / Ruvu             functional                       3136\n",
              "                        functional needs repair           269\n",
              "                        non functional                   2582"
            ]
          },
          "metadata": {
            "tags": []
          },
          "execution_count": 34
        }
      ]
    },
    {
      "cell_type": "markdown",
      "metadata": {
        "id": "0Trz-Yo2vjwW",
        "colab_type": "text"
      },
      "source": [
        "Interesting that Lake Victoria has the highest number of functioning wells, and the highest number of non functioning wells."
      ]
    },
    {
      "cell_type": "code",
      "metadata": {
        "id": "J-SY42JJv-Iw",
        "colab_type": "code",
        "colab": {
          "base_uri": "https://localhost:8080/",
          "height": 545
        },
        "outputId": "111129d4-4a11-469f-b9b5-890b867d19d9"
      },
      "source": [
        "piv_table = pd.pivot_table(water,index=['quantity_group','status_group_name'],\n",
        "                           values='status_group', aggfunc='count')\n",
        "piv_table"
      ],
      "execution_count": 35,
      "outputs": [
        {
          "output_type": "execute_result",
          "data": {
            "text/html": [
              "<div>\n",
              "<style scoped>\n",
              "    .dataframe tbody tr th:only-of-type {\n",
              "        vertical-align: middle;\n",
              "    }\n",
              "\n",
              "    .dataframe tbody tr th {\n",
              "        vertical-align: top;\n",
              "    }\n",
              "\n",
              "    .dataframe thead th {\n",
              "        text-align: right;\n",
              "    }\n",
              "</style>\n",
              "<table border=\"1\" class=\"dataframe\">\n",
              "  <thead>\n",
              "    <tr style=\"text-align: right;\">\n",
              "      <th></th>\n",
              "      <th></th>\n",
              "      <th>status_group</th>\n",
              "    </tr>\n",
              "    <tr>\n",
              "      <th>quantity_group</th>\n",
              "      <th>status_group_name</th>\n",
              "      <th></th>\n",
              "    </tr>\n",
              "  </thead>\n",
              "  <tbody>\n",
              "    <tr>\n",
              "      <th rowspan=\"3\" valign=\"top\">dry</th>\n",
              "      <th>functional</th>\n",
              "      <td>157</td>\n",
              "    </tr>\n",
              "    <tr>\n",
              "      <th>functional needs repair</th>\n",
              "      <td>37</td>\n",
              "    </tr>\n",
              "    <tr>\n",
              "      <th>non functional</th>\n",
              "      <td>6052</td>\n",
              "    </tr>\n",
              "    <tr>\n",
              "      <th rowspan=\"3\" valign=\"top\">enough</th>\n",
              "      <th>functional</th>\n",
              "      <td>21648</td>\n",
              "    </tr>\n",
              "    <tr>\n",
              "      <th>functional needs repair</th>\n",
              "      <td>2400</td>\n",
              "    </tr>\n",
              "    <tr>\n",
              "      <th>non functional</th>\n",
              "      <td>9138</td>\n",
              "    </tr>\n",
              "    <tr>\n",
              "      <th rowspan=\"3\" valign=\"top\">insufficient</th>\n",
              "      <th>functional</th>\n",
              "      <td>7916</td>\n",
              "    </tr>\n",
              "    <tr>\n",
              "      <th>functional needs repair</th>\n",
              "      <td>1450</td>\n",
              "    </tr>\n",
              "    <tr>\n",
              "      <th>non functional</th>\n",
              "      <td>5763</td>\n",
              "    </tr>\n",
              "    <tr>\n",
              "      <th rowspan=\"3\" valign=\"top\">seasonal</th>\n",
              "      <th>functional</th>\n",
              "      <td>2325</td>\n",
              "    </tr>\n",
              "    <tr>\n",
              "      <th>functional needs repair</th>\n",
              "      <td>416</td>\n",
              "    </tr>\n",
              "    <tr>\n",
              "      <th>non functional</th>\n",
              "      <td>1309</td>\n",
              "    </tr>\n",
              "    <tr>\n",
              "      <th rowspan=\"3\" valign=\"top\">unknown</th>\n",
              "      <th>functional</th>\n",
              "      <td>213</td>\n",
              "    </tr>\n",
              "    <tr>\n",
              "      <th>functional needs repair</th>\n",
              "      <td>14</td>\n",
              "    </tr>\n",
              "    <tr>\n",
              "      <th>non functional</th>\n",
              "      <td>562</td>\n",
              "    </tr>\n",
              "  </tbody>\n",
              "</table>\n",
              "</div>"
            ],
            "text/plain": [
              "                                        status_group\n",
              "quantity_group status_group_name                    \n",
              "dry            functional                        157\n",
              "               functional needs repair            37\n",
              "               non functional                   6052\n",
              "enough         functional                      21648\n",
              "               functional needs repair          2400\n",
              "               non functional                   9138\n",
              "insufficient   functional                       7916\n",
              "               functional needs repair          1450\n",
              "               non functional                   5763\n",
              "seasonal       functional                       2325\n",
              "               functional needs repair           416\n",
              "               non functional                   1309\n",
              "unknown        functional                        213\n",
              "               functional needs repair            14\n",
              "               non functional                    562"
            ]
          },
          "metadata": {
            "tags": []
          },
          "execution_count": 35
        }
      ]
    },
    {
      "cell_type": "markdown",
      "metadata": {
        "id": "GJo_PITOxRsJ",
        "colab_type": "text"
      },
      "source": [
        "I would have thought that a dry well would not be functioning, but as you can see above supposedly 157 are. Also, the \"group\" insufficient has a high number of both functional and non functional wells."
      ]
    },
    {
      "cell_type": "code",
      "metadata": {
        "id": "E_C20yuIx7Qd",
        "colab_type": "code",
        "colab": {
          "base_uri": "https://localhost:8080/",
          "height": 359
        },
        "outputId": "f2a51217-f481-41c7-a075-39c1b7777b5b"
      },
      "source": [
        "piv_table = pd.pivot_table(water,index=['source_class','status_group_name'],\n",
        "                           values='status_group', aggfunc='count')\n",
        "piv_table"
      ],
      "execution_count": 36,
      "outputs": [
        {
          "output_type": "execute_result",
          "data": {
            "text/html": [
              "<div>\n",
              "<style scoped>\n",
              "    .dataframe tbody tr th:only-of-type {\n",
              "        vertical-align: middle;\n",
              "    }\n",
              "\n",
              "    .dataframe tbody tr th {\n",
              "        vertical-align: top;\n",
              "    }\n",
              "\n",
              "    .dataframe thead th {\n",
              "        text-align: right;\n",
              "    }\n",
              "</style>\n",
              "<table border=\"1\" class=\"dataframe\">\n",
              "  <thead>\n",
              "    <tr style=\"text-align: right;\">\n",
              "      <th></th>\n",
              "      <th></th>\n",
              "      <th>status_group</th>\n",
              "    </tr>\n",
              "    <tr>\n",
              "      <th>source_class</th>\n",
              "      <th>status_group_name</th>\n",
              "      <th></th>\n",
              "    </tr>\n",
              "  </thead>\n",
              "  <tbody>\n",
              "    <tr>\n",
              "      <th rowspan=\"3\" valign=\"top\">groundwater</th>\n",
              "      <th>functional</th>\n",
              "      <td>24835</td>\n",
              "    </tr>\n",
              "    <tr>\n",
              "      <th>functional needs repair</th>\n",
              "      <td>2741</td>\n",
              "    </tr>\n",
              "    <tr>\n",
              "      <th>non functional</th>\n",
              "      <td>18218</td>\n",
              "    </tr>\n",
              "    <tr>\n",
              "      <th rowspan=\"3\" valign=\"top\">surface</th>\n",
              "      <th>functional</th>\n",
              "      <td>7266</td>\n",
              "    </tr>\n",
              "    <tr>\n",
              "      <th>functional needs repair</th>\n",
              "      <td>1571</td>\n",
              "    </tr>\n",
              "    <tr>\n",
              "      <th>non functional</th>\n",
              "      <td>4491</td>\n",
              "    </tr>\n",
              "    <tr>\n",
              "      <th rowspan=\"3\" valign=\"top\">unknown</th>\n",
              "      <th>functional</th>\n",
              "      <td>158</td>\n",
              "    </tr>\n",
              "    <tr>\n",
              "      <th>functional needs repair</th>\n",
              "      <td>5</td>\n",
              "    </tr>\n",
              "    <tr>\n",
              "      <th>non functional</th>\n",
              "      <td>115</td>\n",
              "    </tr>\n",
              "  </tbody>\n",
              "</table>\n",
              "</div>"
            ],
            "text/plain": [
              "                                      status_group\n",
              "source_class status_group_name                    \n",
              "groundwater  functional                      24835\n",
              "             functional needs repair          2741\n",
              "             non functional                  18218\n",
              "surface      functional                       7266\n",
              "             functional needs repair          1571\n",
              "             non functional                   4491\n",
              "unknown      functional                        158\n",
              "             functional needs repair             5\n",
              "             non functional                    115"
            ]
          },
          "metadata": {
            "tags": []
          },
          "execution_count": 36
        }
      ]
    },
    {
      "cell_type": "markdown",
      "metadata": {
        "id": "8E_eKEgCyWYx",
        "colab_type": "text"
      },
      "source": [
        "Interesting that groundwater has both the highest functional and non functional wells. I would have thought that surface water would have had the highest number for non functional wells with seasonal drought conditions (above and below Equatorial Afica). "
      ]
    },
    {
      "cell_type": "code",
      "metadata": {
        "id": "BjeIQ_uQzTBM",
        "colab_type": "code",
        "colab": {
          "base_uri": "https://localhost:8080/",
          "height": 1000
        },
        "outputId": "6c3ac2f3-53ae-40ed-d0ff-5ed38ca9f3dd"
      },
      "source": [
        "piv_table = pd.pivot_table(water,index=['extraction_type_group','status_group_name'],\n",
        "                           values='status_group', aggfunc='count')\n",
        "piv_table"
      ],
      "execution_count": 37,
      "outputs": [
        {
          "output_type": "execute_result",
          "data": {
            "text/html": [
              "<div>\n",
              "<style scoped>\n",
              "    .dataframe tbody tr th:only-of-type {\n",
              "        vertical-align: middle;\n",
              "    }\n",
              "\n",
              "    .dataframe tbody tr th {\n",
              "        vertical-align: top;\n",
              "    }\n",
              "\n",
              "    .dataframe thead th {\n",
              "        text-align: right;\n",
              "    }\n",
              "</style>\n",
              "<table border=\"1\" class=\"dataframe\">\n",
              "  <thead>\n",
              "    <tr style=\"text-align: right;\">\n",
              "      <th></th>\n",
              "      <th></th>\n",
              "      <th>status_group</th>\n",
              "    </tr>\n",
              "    <tr>\n",
              "      <th>extraction_type_group</th>\n",
              "      <th>status_group_name</th>\n",
              "      <th></th>\n",
              "    </tr>\n",
              "  </thead>\n",
              "  <tbody>\n",
              "    <tr>\n",
              "      <th rowspan=\"3\" valign=\"top\">afridev</th>\n",
              "      <th>functional</th>\n",
              "      <td>1200</td>\n",
              "    </tr>\n",
              "    <tr>\n",
              "      <th>functional needs repair</th>\n",
              "      <td>42</td>\n",
              "    </tr>\n",
              "    <tr>\n",
              "      <th>non functional</th>\n",
              "      <td>528</td>\n",
              "    </tr>\n",
              "    <tr>\n",
              "      <th rowspan=\"3\" valign=\"top\">gravity</th>\n",
              "      <th>functional</th>\n",
              "      <td>16048</td>\n",
              "    </tr>\n",
              "    <tr>\n",
              "      <th>functional needs repair</th>\n",
              "      <td>2701</td>\n",
              "    </tr>\n",
              "    <tr>\n",
              "      <th>non functional</th>\n",
              "      <td>8031</td>\n",
              "    </tr>\n",
              "    <tr>\n",
              "      <th rowspan=\"3\" valign=\"top\">india mark ii</th>\n",
              "      <th>functional</th>\n",
              "      <td>1448</td>\n",
              "    </tr>\n",
              "    <tr>\n",
              "      <th>functional needs repair</th>\n",
              "      <td>79</td>\n",
              "    </tr>\n",
              "    <tr>\n",
              "      <th>non functional</th>\n",
              "      <td>873</td>\n",
              "    </tr>\n",
              "    <tr>\n",
              "      <th rowspan=\"3\" valign=\"top\">india mark iii</th>\n",
              "      <th>functional</th>\n",
              "      <td>44</td>\n",
              "    </tr>\n",
              "    <tr>\n",
              "      <th>functional needs repair</th>\n",
              "      <td>1</td>\n",
              "    </tr>\n",
              "    <tr>\n",
              "      <th>non functional</th>\n",
              "      <td>53</td>\n",
              "    </tr>\n",
              "    <tr>\n",
              "      <th rowspan=\"3\" valign=\"top\">mono</th>\n",
              "      <th>functional</th>\n",
              "      <td>1082</td>\n",
              "    </tr>\n",
              "    <tr>\n",
              "      <th>functional needs repair</th>\n",
              "      <td>129</td>\n",
              "    </tr>\n",
              "    <tr>\n",
              "      <th>non functional</th>\n",
              "      <td>1654</td>\n",
              "    </tr>\n",
              "    <tr>\n",
              "      <th rowspan=\"3\" valign=\"top\">nira/tanira</th>\n",
              "      <th>functional</th>\n",
              "      <td>5421</td>\n",
              "    </tr>\n",
              "    <tr>\n",
              "      <th>functional needs repair</th>\n",
              "      <td>641</td>\n",
              "    </tr>\n",
              "    <tr>\n",
              "      <th>non functional</th>\n",
              "      <td>2092</td>\n",
              "    </tr>\n",
              "    <tr>\n",
              "      <th rowspan=\"3\" valign=\"top\">other</th>\n",
              "      <th>functional</th>\n",
              "      <td>1029</td>\n",
              "    </tr>\n",
              "    <tr>\n",
              "      <th>functional needs repair</th>\n",
              "      <td>206</td>\n",
              "    </tr>\n",
              "    <tr>\n",
              "      <th>non functional</th>\n",
              "      <td>5195</td>\n",
              "    </tr>\n",
              "    <tr>\n",
              "      <th rowspan=\"3\" valign=\"top\">other handpump</th>\n",
              "      <th>functional</th>\n",
              "      <td>172</td>\n",
              "    </tr>\n",
              "    <tr>\n",
              "      <th>functional needs repair</th>\n",
              "      <td>20</td>\n",
              "    </tr>\n",
              "    <tr>\n",
              "      <th>non functional</th>\n",
              "      <td>172</td>\n",
              "    </tr>\n",
              "    <tr>\n",
              "      <th rowspan=\"3\" valign=\"top\">other motorpump</th>\n",
              "      <th>functional</th>\n",
              "      <td>53</td>\n",
              "    </tr>\n",
              "    <tr>\n",
              "      <th>functional needs repair</th>\n",
              "      <td>9</td>\n",
              "    </tr>\n",
              "    <tr>\n",
              "      <th>non functional</th>\n",
              "      <td>60</td>\n",
              "    </tr>\n",
              "    <tr>\n",
              "      <th rowspan=\"3\" valign=\"top\">rope pump</th>\n",
              "      <th>functional</th>\n",
              "      <td>293</td>\n",
              "    </tr>\n",
              "    <tr>\n",
              "      <th>functional needs repair</th>\n",
              "      <td>17</td>\n",
              "    </tr>\n",
              "    <tr>\n",
              "      <th>non functional</th>\n",
              "      <td>141</td>\n",
              "    </tr>\n",
              "    <tr>\n",
              "      <th rowspan=\"3\" valign=\"top\">submersible</th>\n",
              "      <th>functional</th>\n",
              "      <td>3329</td>\n",
              "    </tr>\n",
              "    <tr>\n",
              "      <th>functional needs repair</th>\n",
              "      <td>253</td>\n",
              "    </tr>\n",
              "    <tr>\n",
              "      <th>non functional</th>\n",
              "      <td>2597</td>\n",
              "    </tr>\n",
              "    <tr>\n",
              "      <th rowspan=\"3\" valign=\"top\">swn 80</th>\n",
              "      <th>functional</th>\n",
              "      <td>2090</td>\n",
              "    </tr>\n",
              "    <tr>\n",
              "      <th>functional needs repair</th>\n",
              "      <td>212</td>\n",
              "    </tr>\n",
              "    <tr>\n",
              "      <th>non functional</th>\n",
              "      <td>1368</td>\n",
              "    </tr>\n",
              "    <tr>\n",
              "      <th rowspan=\"3\" valign=\"top\">wind-powered</th>\n",
              "      <th>functional</th>\n",
              "      <td>50</td>\n",
              "    </tr>\n",
              "    <tr>\n",
              "      <th>functional needs repair</th>\n",
              "      <td>7</td>\n",
              "    </tr>\n",
              "    <tr>\n",
              "      <th>non functional</th>\n",
              "      <td>60</td>\n",
              "    </tr>\n",
              "  </tbody>\n",
              "</table>\n",
              "</div>"
            ],
            "text/plain": [
              "                                               status_group\n",
              "extraction_type_group status_group_name                    \n",
              "afridev               functional                       1200\n",
              "                      functional needs repair            42\n",
              "                      non functional                    528\n",
              "gravity               functional                      16048\n",
              "                      functional needs repair          2701\n",
              "                      non functional                   8031\n",
              "india mark ii         functional                       1448\n",
              "                      functional needs repair            79\n",
              "                      non functional                    873\n",
              "india mark iii        functional                         44\n",
              "                      functional needs repair             1\n",
              "                      non functional                     53\n",
              "mono                  functional                       1082\n",
              "                      functional needs repair           129\n",
              "                      non functional                   1654\n",
              "nira/tanira           functional                       5421\n",
              "                      functional needs repair           641\n",
              "                      non functional                   2092\n",
              "other                 functional                       1029\n",
              "                      functional needs repair           206\n",
              "                      non functional                   5195\n",
              "other handpump        functional                        172\n",
              "                      functional needs repair            20\n",
              "                      non functional                    172\n",
              "other motorpump       functional                         53\n",
              "                      functional needs repair             9\n",
              "                      non functional                     60\n",
              "rope pump             functional                        293\n",
              "                      functional needs repair            17\n",
              "                      non functional                    141\n",
              "submersible           functional                       3329\n",
              "                      functional needs repair           253\n",
              "                      non functional                   2597\n",
              "swn 80                functional                       2090\n",
              "                      functional needs repair           212\n",
              "                      non functional                   1368\n",
              "wind-powered          functional                         50\n",
              "                      functional needs repair             7\n",
              "                      non functional                     60"
            ]
          },
          "metadata": {
            "tags": []
          },
          "execution_count": 37
        }
      ]
    },
    {
      "cell_type": "markdown",
      "metadata": {
        "id": "nVw15kMM0SgK",
        "colab_type": "text"
      },
      "source": [
        "It looks like the \"handpump\" method of water extraction has the most non functional wells, while the \"nira/tanira\" method has the most functional wells."
      ]
    },
    {
      "cell_type": "code",
      "metadata": {
        "id": "4Hy_NMZ_p5wn",
        "colab_type": "code",
        "colab": {
          "base_uri": "https://localhost:8080/",
          "height": 279
        },
        "outputId": "211f56ae-4491-4fa5-f5bd-c9d085b05a45"
      },
      "source": [
        "sns.distplot(water.population, bins=20)\n",
        "plt.show()"
      ],
      "execution_count": 38,
      "outputs": [
        {
          "output_type": "display_data",
          "data": {
            "image/png": "[encoded data removed]",
            "text/plain": [
              "<Figure size 432x288 with 1 Axes>"
            ]
          },
          "metadata": {
            "tags": [],
            "needs_background": "light"
          }
        }
      ]
    },
    {
      "cell_type": "markdown",
      "metadata": {
        "id": "PMxKCbEL1BEh",
        "colab_type": "text"
      },
      "source": [
        "Interesting, it looks like most of the population centers that are holding against wells are very small. I guess that makes sense in for Africa."
      ]
    },
    {
      "cell_type": "code",
      "metadata": {
        "id": "sy4U6u3n2NfC",
        "colab_type": "code",
        "colab": {
          "base_uri": "https://localhost:8080/",
          "height": 291
        },
        "outputId": "f49a581b-55d2-4012-8c1d-185866dd8a84"
      },
      "source": [
        "# Let's look at the amount of water available at the pump.\n",
        "sns.distplot(water.amount_tsh, bins=20)\n",
        "plt.show()"
      ],
      "execution_count": 39,
      "outputs": [
        {
          "output_type": "display_data",
          "data": {
            "image/png": "[encoded data removed]",
            "text/plain": [
              "<Figure size 432x288 with 1 Axes>"
            ]
          },
          "metadata": {
            "tags": [],
            "needs_background": "light"
          }
        }
      ]
    },
    {
      "cell_type": "markdown",
      "metadata": {
        "id": "21qAmHim2l7g",
        "colab_type": "text"
      },
      "source": [
        "This similar to the Population chart, and I guess that males sense since the two features go hand-in-hand."
      ]
    },
    {
      "cell_type": "code",
      "metadata": {
        "id": "M1mcP6j1UBrU",
        "colab_type": "code",
        "colab": {
          "base_uri": "https://localhost:8080/",
          "height": 280
        },
        "outputId": "2b2dac99-d6d4-4d19-eb64-c819c77d27ab"
      },
      "source": [
        "# let's look at the distribution graph of our functional well status.\n",
        "sns.distplot(water.status_group, bins=20)\n",
        "plt.show()"
      ],
      "execution_count": 40,
      "outputs": [
        {
          "output_type": "display_data",
          "data": {
            "image/png": "[encoded data removed]",
            "text/plain": [
              "<Figure size 432x288 with 1 Axes>"
            ]
          },
          "metadata": {
            "tags": [],
            "needs_background": "light"
          }
        }
      ]
    },
    {
      "cell_type": "markdown",
      "metadata": {
        "id": "h18S9sNxUsmJ",
        "colab_type": "text"
      },
      "source": [
        "I just wanted to see what kind of distribution the graph/chart would show for the three different values. Functional is the high peak, Non Functional the second highest peak, and Needs Repair is the low peak."
      ]
    },
    {
      "cell_type": "markdown",
      "metadata": {
        "id": "-7oCCqTu3Ddx",
        "colab_type": "text"
      },
      "source": [
        "**CLEANING THE ZERO VALUES FROM THE TEST SET**"
      ]
    },
    {
      "cell_type": "code",
      "metadata": {
        "id": "ks7O3Ljopw4R",
        "colab_type": "code",
        "colab": {
          "base_uri": "https://localhost:8080/",
          "height": 34
        },
        "outputId": "f90df631-18eb-4191-c6b7-e3d61622f016"
      },
      "source": [
        "# Next, let's do the same to the Test Set\n",
        "print(water_test['population'].median())"
      ],
      "execution_count": 41,
      "outputs": [
        {
          "output_type": "stream",
          "text": [
            "20.0\n"
          ],
          "name": "stdout"
        }
      ]
    },
    {
      "cell_type": "code",
      "metadata": {
        "id": "G0U0n8ajp-Ky",
        "colab_type": "code",
        "colab": {
          "base_uri": "https://localhost:8080/",
          "height": 428
        },
        "outputId": "cc3b5890-eec8-4d2f-81f9-8e1786eb0694"
      },
      "source": [
        "water_test['population'] = water_test['population'].replace(0, 20.0)\n",
        "water_test.head(5)"
      ],
      "execution_count": 42,
      "outputs": [
        {
          "output_type": "execute_result",
          "data": {
            "text/html": [
              "<div>\n",
              "<style scoped>\n",
              "    .dataframe tbody tr th:only-of-type {\n",
              "        vertical-align: middle;\n",
              "    }\n",
              "\n",
              "    .dataframe tbody tr th {\n",
              "        vertical-align: top;\n",
              "    }\n",
              "\n",
              "    .dataframe thead th {\n",
              "        text-align: right;\n",
              "    }\n",
              "</style>\n",
              "<table border=\"1\" class=\"dataframe\">\n",
              "  <thead>\n",
              "    <tr style=\"text-align: right;\">\n",
              "      <th></th>\n",
              "      <th>id</th>\n",
              "      <th>amount_tsh</th>\n",
              "      <th>funder</th>\n",
              "      <th>gps_height</th>\n",
              "      <th>installer</th>\n",
              "      <th>longitude</th>\n",
              "      <th>latitude</th>\n",
              "      <th>wpt_name</th>\n",
              "      <th>num_private</th>\n",
              "      <th>basin</th>\n",
              "      <th>subvillage</th>\n",
              "      <th>region</th>\n",
              "      <th>region_code</th>\n",
              "      <th>district_code</th>\n",
              "      <th>lga</th>\n",
              "      <th>ward</th>\n",
              "      <th>population</th>\n",
              "      <th>public_meeting</th>\n",
              "      <th>recorded_by</th>\n",
              "      <th>permit</th>\n",
              "      <th>construction_year</th>\n",
              "      <th>extraction_type_group</th>\n",
              "      <th>extraction_type_class</th>\n",
              "      <th>management</th>\n",
              "      <th>management_group</th>\n",
              "      <th>payment</th>\n",
              "      <th>payment_vals</th>\n",
              "      <th>water_quality</th>\n",
              "      <th>quality_group</th>\n",
              "      <th>quantity</th>\n",
              "      <th>quantity_group</th>\n",
              "      <th>source</th>\n",
              "      <th>source_type</th>\n",
              "      <th>source_class</th>\n",
              "      <th>waterpoint_type</th>\n",
              "      <th>waterpoint_type_group</th>\n",
              "    </tr>\n",
              "  </thead>\n",
              "  <tbody>\n",
              "    <tr>\n",
              "      <th>0</th>\n",
              "      <td>50785</td>\n",
              "      <td>0.0</td>\n",
              "      <td>Dmdd</td>\n",
              "      <td>1996</td>\n",
              "      <td>DMDD</td>\n",
              "      <td>35.290799</td>\n",
              "      <td>-4.059696</td>\n",
              "      <td>Dinamu Secondary School</td>\n",
              "      <td>0</td>\n",
              "      <td>Internal</td>\n",
              "      <td>Magoma</td>\n",
              "      <td>Manyara</td>\n",
              "      <td>21</td>\n",
              "      <td>3</td>\n",
              "      <td>Mbulu</td>\n",
              "      <td>Bashay</td>\n",
              "      <td>321</td>\n",
              "      <td>True</td>\n",
              "      <td>GeoData Consultants Ltd</td>\n",
              "      <td>True</td>\n",
              "      <td>2012</td>\n",
              "      <td>other</td>\n",
              "      <td>4</td>\n",
              "      <td>parastatal</td>\n",
              "      <td>parastatal</td>\n",
              "      <td>never pay</td>\n",
              "      <td>1</td>\n",
              "      <td>soft</td>\n",
              "      <td>good</td>\n",
              "      <td>3</td>\n",
              "      <td>seasonal</td>\n",
              "      <td>rainwater harvesting</td>\n",
              "      <td>2</td>\n",
              "      <td>surface</td>\n",
              "      <td>3</td>\n",
              "      <td>other</td>\n",
              "    </tr>\n",
              "    <tr>\n",
              "      <th>1</th>\n",
              "      <td>51630</td>\n",
              "      <td>0.0</td>\n",
              "      <td>Government Of Tanzania</td>\n",
              "      <td>1569</td>\n",
              "      <td>DWE</td>\n",
              "      <td>36.656709</td>\n",
              "      <td>-3.309214</td>\n",
              "      <td>Kimnyak</td>\n",
              "      <td>0</td>\n",
              "      <td>Pangani</td>\n",
              "      <td>Kimnyak</td>\n",
              "      <td>Arusha</td>\n",
              "      <td>2</td>\n",
              "      <td>2</td>\n",
              "      <td>Arusha Rural</td>\n",
              "      <td>Kimnyaki</td>\n",
              "      <td>300</td>\n",
              "      <td>True</td>\n",
              "      <td>GeoData Consultants Ltd</td>\n",
              "      <td>True</td>\n",
              "      <td>2000</td>\n",
              "      <td>gravity</td>\n",
              "      <td>1</td>\n",
              "      <td>vwc</td>\n",
              "      <td>user-group</td>\n",
              "      <td>never pay</td>\n",
              "      <td>1</td>\n",
              "      <td>soft</td>\n",
              "      <td>good</td>\n",
              "      <td>2</td>\n",
              "      <td>insufficient</td>\n",
              "      <td>spring</td>\n",
              "      <td>1</td>\n",
              "      <td>groundwater</td>\n",
              "      <td>1</td>\n",
              "      <td>communal standpipe</td>\n",
              "    </tr>\n",
              "    <tr>\n",
              "      <th>2</th>\n",
              "      <td>17168</td>\n",
              "      <td>0.0</td>\n",
              "      <td>NaN</td>\n",
              "      <td>1567</td>\n",
              "      <td>NaN</td>\n",
              "      <td>34.767863</td>\n",
              "      <td>-5.004344</td>\n",
              "      <td>Puma Secondary</td>\n",
              "      <td>0</td>\n",
              "      <td>Internal</td>\n",
              "      <td>Msatu</td>\n",
              "      <td>Singida</td>\n",
              "      <td>13</td>\n",
              "      <td>2</td>\n",
              "      <td>Singida Rural</td>\n",
              "      <td>Puma</td>\n",
              "      <td>500</td>\n",
              "      <td>True</td>\n",
              "      <td>GeoData Consultants Ltd</td>\n",
              "      <td>NaN</td>\n",
              "      <td>2010</td>\n",
              "      <td>other</td>\n",
              "      <td>4</td>\n",
              "      <td>vwc</td>\n",
              "      <td>user-group</td>\n",
              "      <td>never pay</td>\n",
              "      <td>1</td>\n",
              "      <td>soft</td>\n",
              "      <td>good</td>\n",
              "      <td>2</td>\n",
              "      <td>insufficient</td>\n",
              "      <td>rainwater harvesting</td>\n",
              "      <td>2</td>\n",
              "      <td>surface</td>\n",
              "      <td>3</td>\n",
              "      <td>other</td>\n",
              "    </tr>\n",
              "    <tr>\n",
              "      <th>3</th>\n",
              "      <td>45559</td>\n",
              "      <td>0.0</td>\n",
              "      <td>Finn Water</td>\n",
              "      <td>267</td>\n",
              "      <td>FINN WATER</td>\n",
              "      <td>38.058046</td>\n",
              "      <td>-9.418672</td>\n",
              "      <td>Kwa Mzee Pange</td>\n",
              "      <td>0</td>\n",
              "      <td>Ruvuma / Southern Coast</td>\n",
              "      <td>Kipindimbi</td>\n",
              "      <td>Lindi</td>\n",
              "      <td>80</td>\n",
              "      <td>43</td>\n",
              "      <td>Liwale</td>\n",
              "      <td>Mkutano</td>\n",
              "      <td>250</td>\n",
              "      <td>NaN</td>\n",
              "      <td>GeoData Consultants Ltd</td>\n",
              "      <td>True</td>\n",
              "      <td>1987</td>\n",
              "      <td>other</td>\n",
              "      <td>4</td>\n",
              "      <td>vwc</td>\n",
              "      <td>user-group</td>\n",
              "      <td>unknown</td>\n",
              "      <td>7</td>\n",
              "      <td>soft</td>\n",
              "      <td>good</td>\n",
              "      <td>0</td>\n",
              "      <td>dry</td>\n",
              "      <td>shallow well</td>\n",
              "      <td>6</td>\n",
              "      <td>groundwater</td>\n",
              "      <td>3</td>\n",
              "      <td>other</td>\n",
              "    </tr>\n",
              "    <tr>\n",
              "      <th>4</th>\n",
              "      <td>49871</td>\n",
              "      <td>500.0</td>\n",
              "      <td>Bruder</td>\n",
              "      <td>1260</td>\n",
              "      <td>BRUDER</td>\n",
              "      <td>35.006123</td>\n",
              "      <td>-10.950412</td>\n",
              "      <td>Kwa Mzee Turuka</td>\n",
              "      <td>0</td>\n",
              "      <td>Ruvuma / Southern Coast</td>\n",
              "      <td>Losonga</td>\n",
              "      <td>Ruvuma</td>\n",
              "      <td>10</td>\n",
              "      <td>3</td>\n",
              "      <td>Mbinga</td>\n",
              "      <td>Mbinga Urban</td>\n",
              "      <td>60</td>\n",
              "      <td>NaN</td>\n",
              "      <td>GeoData Consultants Ltd</td>\n",
              "      <td>True</td>\n",
              "      <td>2000</td>\n",
              "      <td>gravity</td>\n",
              "      <td>1</td>\n",
              "      <td>water board</td>\n",
              "      <td>user-group</td>\n",
              "      <td>pay monthly</td>\n",
              "      <td>4</td>\n",
              "      <td>soft</td>\n",
              "      <td>good</td>\n",
              "      <td>1</td>\n",
              "      <td>enough</td>\n",
              "      <td>spring</td>\n",
              "      <td>1</td>\n",
              "      <td>groundwater</td>\n",
              "      <td>1</td>\n",
              "      <td>communal standpipe</td>\n",
              "    </tr>\n",
              "  </tbody>\n",
              "</table>\n",
              "</div>"
            ],
            "text/plain": [
              "      id  amount_tsh  ... waterpoint_type  waterpoint_type_group\n",
              "0  50785         0.0  ...               3                  other\n",
              "1  51630         0.0  ...               1     communal standpipe\n",
              "2  17168         0.0  ...               3                  other\n",
              "3  45559         0.0  ...               3                  other\n",
              "4  49871       500.0  ...               1     communal standpipe\n",
              "\n",
              "[5 rows x 36 columns]"
            ]
          },
          "metadata": {
            "tags": []
          },
          "execution_count": 42
        }
      ]
    },
    {
      "cell_type": "code",
      "metadata": {
        "id": "xYo83fJ7qRmb",
        "colab_type": "code",
        "colab": {
          "base_uri": "https://localhost:8080/",
          "height": 34
        },
        "outputId": "0244e37e-ca1e-437f-b780-2769dead667d"
      },
      "source": [
        "print(water_test['gps_height'].median())\n"
      ],
      "execution_count": 43,
      "outputs": [
        {
          "output_type": "stream",
          "text": [
            "344.0\n"
          ],
          "name": "stdout"
        }
      ]
    },
    {
      "cell_type": "code",
      "metadata": {
        "id": "8HEzSmI0qZqJ",
        "colab_type": "code",
        "colab": {
          "base_uri": "https://localhost:8080/",
          "height": 428
        },
        "outputId": "81ba42a9-5325-40fd-87f9-6252de880606"
      },
      "source": [
        "water_test['gps_height'] = water_test['gps_height'].replace(0, 344.0)\n",
        "water_test.head(5)"
      ],
      "execution_count": 44,
      "outputs": [
        {
          "output_type": "execute_result",
          "data": {
            "text/html": [
              "<div>\n",
              "<style scoped>\n",
              "    .dataframe tbody tr th:only-of-type {\n",
              "        vertical-align: middle;\n",
              "    }\n",
              "\n",
              "    .dataframe tbody tr th {\n",
              "        vertical-align: top;\n",
              "    }\n",
              "\n",
              "    .dataframe thead th {\n",
              "        text-align: right;\n",
              "    }\n",
              "</style>\n",
              "<table border=\"1\" class=\"dataframe\">\n",
              "  <thead>\n",
              "    <tr style=\"text-align: right;\">\n",
              "      <th></th>\n",
              "      <th>id</th>\n",
              "      <th>amount_tsh</th>\n",
              "      <th>funder</th>\n",
              "      <th>gps_height</th>\n",
              "      <th>installer</th>\n",
              "      <th>longitude</th>\n",
              "      <th>latitude</th>\n",
              "      <th>wpt_name</th>\n",
              "      <th>num_private</th>\n",
              "      <th>basin</th>\n",
              "      <th>subvillage</th>\n",
              "      <th>region</th>\n",
              "      <th>region_code</th>\n",
              "      <th>district_code</th>\n",
              "      <th>lga</th>\n",
              "      <th>ward</th>\n",
              "      <th>population</th>\n",
              "      <th>public_meeting</th>\n",
              "      <th>recorded_by</th>\n",
              "      <th>permit</th>\n",
              "      <th>construction_year</th>\n",
              "      <th>extraction_type_group</th>\n",
              "      <th>extraction_type_class</th>\n",
              "      <th>management</th>\n",
              "      <th>management_group</th>\n",
              "      <th>payment</th>\n",
              "      <th>payment_vals</th>\n",
              "      <th>water_quality</th>\n",
              "      <th>quality_group</th>\n",
              "      <th>quantity</th>\n",
              "      <th>quantity_group</th>\n",
              "      <th>source</th>\n",
              "      <th>source_type</th>\n",
              "      <th>source_class</th>\n",
              "      <th>waterpoint_type</th>\n",
              "      <th>waterpoint_type_group</th>\n",
              "    </tr>\n",
              "  </thead>\n",
              "  <tbody>\n",
              "    <tr>\n",
              "      <th>0</th>\n",
              "      <td>50785</td>\n",
              "      <td>0.0</td>\n",
              "      <td>Dmdd</td>\n",
              "      <td>1996</td>\n",
              "      <td>DMDD</td>\n",
              "      <td>35.290799</td>\n",
              "      <td>-4.059696</td>\n",
              "      <td>Dinamu Secondary School</td>\n",
              "      <td>0</td>\n",
              "      <td>Internal</td>\n",
              "      <td>Magoma</td>\n",
              "      <td>Manyara</td>\n",
              "      <td>21</td>\n",
              "      <td>3</td>\n",
              "      <td>Mbulu</td>\n",
              "      <td>Bashay</td>\n",
              "      <td>321</td>\n",
              "      <td>True</td>\n",
              "      <td>GeoData Consultants Ltd</td>\n",
              "      <td>True</td>\n",
              "      <td>2012</td>\n",
              "      <td>other</td>\n",
              "      <td>4</td>\n",
              "      <td>parastatal</td>\n",
              "      <td>parastatal</td>\n",
              "      <td>never pay</td>\n",
              "      <td>1</td>\n",
              "      <td>soft</td>\n",
              "      <td>good</td>\n",
              "      <td>3</td>\n",
              "      <td>seasonal</td>\n",
              "      <td>rainwater harvesting</td>\n",
              "      <td>2</td>\n",
              "      <td>surface</td>\n",
              "      <td>3</td>\n",
              "      <td>other</td>\n",
              "    </tr>\n",
              "    <tr>\n",
              "      <th>1</th>\n",
              "      <td>51630</td>\n",
              "      <td>0.0</td>\n",
              "      <td>Government Of Tanzania</td>\n",
              "      <td>1569</td>\n",
              "      <td>DWE</td>\n",
              "      <td>36.656709</td>\n",
              "      <td>-3.309214</td>\n",
              "      <td>Kimnyak</td>\n",
              "      <td>0</td>\n",
              "      <td>Pangani</td>\n",
              "      <td>Kimnyak</td>\n",
              "      <td>Arusha</td>\n",
              "      <td>2</td>\n",
              "      <td>2</td>\n",
              "      <td>Arusha Rural</td>\n",
              "      <td>Kimnyaki</td>\n",
              "      <td>300</td>\n",
              "      <td>True</td>\n",
              "      <td>GeoData Consultants Ltd</td>\n",
              "      <td>True</td>\n",
              "      <td>2000</td>\n",
              "      <td>gravity</td>\n",
              "      <td>1</td>\n",
              "      <td>vwc</td>\n",
              "      <td>user-group</td>\n",
              "      <td>never pay</td>\n",
              "      <td>1</td>\n",
              "      <td>soft</td>\n",
              "      <td>good</td>\n",
              "      <td>2</td>\n",
              "      <td>insufficient</td>\n",
              "      <td>spring</td>\n",
              "      <td>1</td>\n",
              "      <td>groundwater</td>\n",
              "      <td>1</td>\n",
              "      <td>communal standpipe</td>\n",
              "    </tr>\n",
              "    <tr>\n",
              "      <th>2</th>\n",
              "      <td>17168</td>\n",
              "      <td>0.0</td>\n",
              "      <td>NaN</td>\n",
              "      <td>1567</td>\n",
              "      <td>NaN</td>\n",
              "      <td>34.767863</td>\n",
              "      <td>-5.004344</td>\n",
              "      <td>Puma Secondary</td>\n",
              "      <td>0</td>\n",
              "      <td>Internal</td>\n",
              "      <td>Msatu</td>\n",
              "      <td>Singida</td>\n",
              "      <td>13</td>\n",
              "      <td>2</td>\n",
              "      <td>Singida Rural</td>\n",
              "      <td>Puma</td>\n",
              "      <td>500</td>\n",
              "      <td>True</td>\n",
              "      <td>GeoData Consultants Ltd</td>\n",
              "      <td>NaN</td>\n",
              "      <td>2010</td>\n",
              "      <td>other</td>\n",
              "      <td>4</td>\n",
              "      <td>vwc</td>\n",
              "      <td>user-group</td>\n",
              "      <td>never pay</td>\n",
              "      <td>1</td>\n",
              "      <td>soft</td>\n",
              "      <td>good</td>\n",
              "      <td>2</td>\n",
              "      <td>insufficient</td>\n",
              "      <td>rainwater harvesting</td>\n",
              "      <td>2</td>\n",
              "      <td>surface</td>\n",
              "      <td>3</td>\n",
              "      <td>other</td>\n",
              "    </tr>\n",
              "    <tr>\n",
              "      <th>3</th>\n",
              "      <td>45559</td>\n",
              "      <td>0.0</td>\n",
              "      <td>Finn Water</td>\n",
              "      <td>267</td>\n",
              "      <td>FINN WATER</td>\n",
              "      <td>38.058046</td>\n",
              "      <td>-9.418672</td>\n",
              "      <td>Kwa Mzee Pange</td>\n",
              "      <td>0</td>\n",
              "      <td>Ruvuma / Southern Coast</td>\n",
              "      <td>Kipindimbi</td>\n",
              "      <td>Lindi</td>\n",
              "      <td>80</td>\n",
              "      <td>43</td>\n",
              "      <td>Liwale</td>\n",
              "      <td>Mkutano</td>\n",
              "      <td>250</td>\n",
              "      <td>NaN</td>\n",
              "      <td>GeoData Consultants Ltd</td>\n",
              "      <td>True</td>\n",
              "      <td>1987</td>\n",
              "      <td>other</td>\n",
              "      <td>4</td>\n",
              "      <td>vwc</td>\n",
              "      <td>user-group</td>\n",
              "      <td>unknown</td>\n",
              "      <td>7</td>\n",
              "      <td>soft</td>\n",
              "      <td>good</td>\n",
              "      <td>0</td>\n",
              "      <td>dry</td>\n",
              "      <td>shallow well</td>\n",
              "      <td>6</td>\n",
              "      <td>groundwater</td>\n",
              "      <td>3</td>\n",
              "      <td>other</td>\n",
              "    </tr>\n",
              "    <tr>\n",
              "      <th>4</th>\n",
              "      <td>49871</td>\n",
              "      <td>500.0</td>\n",
              "      <td>Bruder</td>\n",
              "      <td>1260</td>\n",
              "      <td>BRUDER</td>\n",
              "      <td>35.006123</td>\n",
              "      <td>-10.950412</td>\n",
              "      <td>Kwa Mzee Turuka</td>\n",
              "      <td>0</td>\n",
              "      <td>Ruvuma / Southern Coast</td>\n",
              "      <td>Losonga</td>\n",
              "      <td>Ruvuma</td>\n",
              "      <td>10</td>\n",
              "      <td>3</td>\n",
              "      <td>Mbinga</td>\n",
              "      <td>Mbinga Urban</td>\n",
              "      <td>60</td>\n",
              "      <td>NaN</td>\n",
              "      <td>GeoData Consultants Ltd</td>\n",
              "      <td>True</td>\n",
              "      <td>2000</td>\n",
              "      <td>gravity</td>\n",
              "      <td>1</td>\n",
              "      <td>water board</td>\n",
              "      <td>user-group</td>\n",
              "      <td>pay monthly</td>\n",
              "      <td>4</td>\n",
              "      <td>soft</td>\n",
              "      <td>good</td>\n",
              "      <td>1</td>\n",
              "      <td>enough</td>\n",
              "      <td>spring</td>\n",
              "      <td>1</td>\n",
              "      <td>groundwater</td>\n",
              "      <td>1</td>\n",
              "      <td>communal standpipe</td>\n",
              "    </tr>\n",
              "  </tbody>\n",
              "</table>\n",
              "</div>"
            ],
            "text/plain": [
              "      id  amount_tsh  ... waterpoint_type  waterpoint_type_group\n",
              "0  50785         0.0  ...               3                  other\n",
              "1  51630         0.0  ...               1     communal standpipe\n",
              "2  17168         0.0  ...               3                  other\n",
              "3  45559         0.0  ...               3                  other\n",
              "4  49871       500.0  ...               1     communal standpipe\n",
              "\n",
              "[5 rows x 36 columns]"
            ]
          },
          "metadata": {
            "tags": []
          },
          "execution_count": 44
        }
      ]
    },
    {
      "cell_type": "code",
      "metadata": {
        "id": "qQqsw4VsqpDR",
        "colab_type": "code",
        "colab": {
          "base_uri": "https://localhost:8080/",
          "height": 34
        },
        "outputId": "c429d95c-851a-44c4-d526-ea7a71d037c1"
      },
      "source": [
        "print(water_test['construction_year'].median())"
      ],
      "execution_count": 45,
      "outputs": [
        {
          "output_type": "stream",
          "text": [
            "1986.0\n"
          ],
          "name": "stdout"
        }
      ]
    },
    {
      "cell_type": "code",
      "metadata": {
        "id": "LZRUGxkmqw9e",
        "colab_type": "code",
        "colab": {
          "base_uri": "https://localhost:8080/",
          "height": 428
        },
        "outputId": "1daec21b-41d4-4e7b-b00d-b666bea99c0e"
      },
      "source": [
        "water_test['construction_year'] = water_test['construction_year'].replace(0, 1986.0)\n",
        "water_test.head(5)"
      ],
      "execution_count": 46,
      "outputs": [
        {
          "output_type": "execute_result",
          "data": {
            "text/html": [
              "<div>\n",
              "<style scoped>\n",
              "    .dataframe tbody tr th:only-of-type {\n",
              "        vertical-align: middle;\n",
              "    }\n",
              "\n",
              "    .dataframe tbody tr th {\n",
              "        vertical-align: top;\n",
              "    }\n",
              "\n",
              "    .dataframe thead th {\n",
              "        text-align: right;\n",
              "    }\n",
              "</style>\n",
              "<table border=\"1\" class=\"dataframe\">\n",
              "  <thead>\n",
              "    <tr style=\"text-align: right;\">\n",
              "      <th></th>\n",
              "      <th>id</th>\n",
              "      <th>amount_tsh</th>\n",
              "      <th>funder</th>\n",
              "      <th>gps_height</th>\n",
              "      <th>installer</th>\n",
              "      <th>longitude</th>\n",
              "      <th>latitude</th>\n",
              "      <th>wpt_name</th>\n",
              "      <th>num_private</th>\n",
              "      <th>basin</th>\n",
              "      <th>subvillage</th>\n",
              "      <th>region</th>\n",
              "      <th>region_code</th>\n",
              "      <th>district_code</th>\n",
              "      <th>lga</th>\n",
              "      <th>ward</th>\n",
              "      <th>population</th>\n",
              "      <th>public_meeting</th>\n",
              "      <th>recorded_by</th>\n",
              "      <th>permit</th>\n",
              "      <th>construction_year</th>\n",
              "      <th>extraction_type_group</th>\n",
              "      <th>extraction_type_class</th>\n",
              "      <th>management</th>\n",
              "      <th>management_group</th>\n",
              "      <th>payment</th>\n",
              "      <th>payment_vals</th>\n",
              "      <th>water_quality</th>\n",
              "      <th>quality_group</th>\n",
              "      <th>quantity</th>\n",
              "      <th>quantity_group</th>\n",
              "      <th>source</th>\n",
              "      <th>source_type</th>\n",
              "      <th>source_class</th>\n",
              "      <th>waterpoint_type</th>\n",
              "      <th>waterpoint_type_group</th>\n",
              "    </tr>\n",
              "  </thead>\n",
              "  <tbody>\n",
              "    <tr>\n",
              "      <th>0</th>\n",
              "      <td>50785</td>\n",
              "      <td>0.0</td>\n",
              "      <td>Dmdd</td>\n",
              "      <td>1996</td>\n",
              "      <td>DMDD</td>\n",
              "      <td>35.290799</td>\n",
              "      <td>-4.059696</td>\n",
              "      <td>Dinamu Secondary School</td>\n",
              "      <td>0</td>\n",
              "      <td>Internal</td>\n",
              "      <td>Magoma</td>\n",
              "      <td>Manyara</td>\n",
              "      <td>21</td>\n",
              "      <td>3</td>\n",
              "      <td>Mbulu</td>\n",
              "      <td>Bashay</td>\n",
              "      <td>321</td>\n",
              "      <td>True</td>\n",
              "      <td>GeoData Consultants Ltd</td>\n",
              "      <td>True</td>\n",
              "      <td>2012</td>\n",
              "      <td>other</td>\n",
              "      <td>4</td>\n",
              "      <td>parastatal</td>\n",
              "      <td>parastatal</td>\n",
              "      <td>never pay</td>\n",
              "      <td>1</td>\n",
              "      <td>soft</td>\n",
              "      <td>good</td>\n",
              "      <td>3</td>\n",
              "      <td>seasonal</td>\n",
              "      <td>rainwater harvesting</td>\n",
              "      <td>2</td>\n",
              "      <td>surface</td>\n",
              "      <td>3</td>\n",
              "      <td>other</td>\n",
              "    </tr>\n",
              "    <tr>\n",
              "      <th>1</th>\n",
              "      <td>51630</td>\n",
              "      <td>0.0</td>\n",
              "      <td>Government Of Tanzania</td>\n",
              "      <td>1569</td>\n",
              "      <td>DWE</td>\n",
              "      <td>36.656709</td>\n",
              "      <td>-3.309214</td>\n",
              "      <td>Kimnyak</td>\n",
              "      <td>0</td>\n",
              "      <td>Pangani</td>\n",
              "      <td>Kimnyak</td>\n",
              "      <td>Arusha</td>\n",
              "      <td>2</td>\n",
              "      <td>2</td>\n",
              "      <td>Arusha Rural</td>\n",
              "      <td>Kimnyaki</td>\n",
              "      <td>300</td>\n",
              "      <td>True</td>\n",
              "      <td>GeoData Consultants Ltd</td>\n",
              "      <td>True</td>\n",
              "      <td>2000</td>\n",
              "      <td>gravity</td>\n",
              "      <td>1</td>\n",
              "      <td>vwc</td>\n",
              "      <td>user-group</td>\n",
              "      <td>never pay</td>\n",
              "      <td>1</td>\n",
              "      <td>soft</td>\n",
              "      <td>good</td>\n",
              "      <td>2</td>\n",
              "      <td>insufficient</td>\n",
              "      <td>spring</td>\n",
              "      <td>1</td>\n",
              "      <td>groundwater</td>\n",
              "      <td>1</td>\n",
              "      <td>communal standpipe</td>\n",
              "    </tr>\n",
              "    <tr>\n",
              "      <th>2</th>\n",
              "      <td>17168</td>\n",
              "      <td>0.0</td>\n",
              "      <td>NaN</td>\n",
              "      <td>1567</td>\n",
              "      <td>NaN</td>\n",
              "      <td>34.767863</td>\n",
              "      <td>-5.004344</td>\n",
              "      <td>Puma Secondary</td>\n",
              "      <td>0</td>\n",
              "      <td>Internal</td>\n",
              "      <td>Msatu</td>\n",
              "      <td>Singida</td>\n",
              "      <td>13</td>\n",
              "      <td>2</td>\n",
              "      <td>Singida Rural</td>\n",
              "      <td>Puma</td>\n",
              "      <td>500</td>\n",
              "      <td>True</td>\n",
              "      <td>GeoData Consultants Ltd</td>\n",
              "      <td>NaN</td>\n",
              "      <td>2010</td>\n",
              "      <td>other</td>\n",
              "      <td>4</td>\n",
              "      <td>vwc</td>\n",
              "      <td>user-group</td>\n",
              "      <td>never pay</td>\n",
              "      <td>1</td>\n",
              "      <td>soft</td>\n",
              "      <td>good</td>\n",
              "      <td>2</td>\n",
              "      <td>insufficient</td>\n",
              "      <td>rainwater harvesting</td>\n",
              "      <td>2</td>\n",
              "      <td>surface</td>\n",
              "      <td>3</td>\n",
              "      <td>other</td>\n",
              "    </tr>\n",
              "    <tr>\n",
              "      <th>3</th>\n",
              "      <td>45559</td>\n",
              "      <td>0.0</td>\n",
              "      <td>Finn Water</td>\n",
              "      <td>267</td>\n",
              "      <td>FINN WATER</td>\n",
              "      <td>38.058046</td>\n",
              "      <td>-9.418672</td>\n",
              "      <td>Kwa Mzee Pange</td>\n",
              "      <td>0</td>\n",
              "      <td>Ruvuma / Southern Coast</td>\n",
              "      <td>Kipindimbi</td>\n",
              "      <td>Lindi</td>\n",
              "      <td>80</td>\n",
              "      <td>43</td>\n",
              "      <td>Liwale</td>\n",
              "      <td>Mkutano</td>\n",
              "      <td>250</td>\n",
              "      <td>NaN</td>\n",
              "      <td>GeoData Consultants Ltd</td>\n",
              "      <td>True</td>\n",
              "      <td>1987</td>\n",
              "      <td>other</td>\n",
              "      <td>4</td>\n",
              "      <td>vwc</td>\n",
              "      <td>user-group</td>\n",
              "      <td>unknown</td>\n",
              "      <td>7</td>\n",
              "      <td>soft</td>\n",
              "      <td>good</td>\n",
              "      <td>0</td>\n",
              "      <td>dry</td>\n",
              "      <td>shallow well</td>\n",
              "      <td>6</td>\n",
              "      <td>groundwater</td>\n",
              "      <td>3</td>\n",
              "      <td>other</td>\n",
              "    </tr>\n",
              "    <tr>\n",
              "      <th>4</th>\n",
              "      <td>49871</td>\n",
              "      <td>500.0</td>\n",
              "      <td>Bruder</td>\n",
              "      <td>1260</td>\n",
              "      <td>BRUDER</td>\n",
              "      <td>35.006123</td>\n",
              "      <td>-10.950412</td>\n",
              "      <td>Kwa Mzee Turuka</td>\n",
              "      <td>0</td>\n",
              "      <td>Ruvuma / Southern Coast</td>\n",
              "      <td>Losonga</td>\n",
              "      <td>Ruvuma</td>\n",
              "      <td>10</td>\n",
              "      <td>3</td>\n",
              "      <td>Mbinga</td>\n",
              "      <td>Mbinga Urban</td>\n",
              "      <td>60</td>\n",
              "      <td>NaN</td>\n",
              "      <td>GeoData Consultants Ltd</td>\n",
              "      <td>True</td>\n",
              "      <td>2000</td>\n",
              "      <td>gravity</td>\n",
              "      <td>1</td>\n",
              "      <td>water board</td>\n",
              "      <td>user-group</td>\n",
              "      <td>pay monthly</td>\n",
              "      <td>4</td>\n",
              "      <td>soft</td>\n",
              "      <td>good</td>\n",
              "      <td>1</td>\n",
              "      <td>enough</td>\n",
              "      <td>spring</td>\n",
              "      <td>1</td>\n",
              "      <td>groundwater</td>\n",
              "      <td>1</td>\n",
              "      <td>communal standpipe</td>\n",
              "    </tr>\n",
              "  </tbody>\n",
              "</table>\n",
              "</div>"
            ],
            "text/plain": [
              "      id  amount_tsh  ... waterpoint_type  waterpoint_type_group\n",
              "0  50785         0.0  ...               3                  other\n",
              "1  51630         0.0  ...               1     communal standpipe\n",
              "2  17168         0.0  ...               3                  other\n",
              "3  45559         0.0  ...               3                  other\n",
              "4  49871       500.0  ...               1     communal standpipe\n",
              "\n",
              "[5 rows x 36 columns]"
            ]
          },
          "metadata": {
            "tags": []
          },
          "execution_count": 46
        }
      ]
    },
    {
      "cell_type": "code",
      "metadata": {
        "id": "scuVDgi5cuhL",
        "colab_type": "code",
        "colab": {
          "base_uri": "https://localhost:8080/",
          "height": 68
        },
        "outputId": "b624a31b-d8e0-4365-9523-12d6f2d7a00b"
      },
      "source": [
        "# Train and Test are different shapes. Find which columns are different.\n",
        "water.columns.difference(water_test.columns)"
      ],
      "execution_count": 47,
      "outputs": [
        {
          "output_type": "execute_result",
          "data": {
            "text/plain": [
              "Index(['extraction_type', 'quality_group_name', 'source_type_name',\n",
              "       'status_group', 'status_group_name'],\n",
              "      dtype='object')"
            ]
          },
          "metadata": {
            "tags": []
          },
          "execution_count": 47
        }
      ]
    },
    {
      "cell_type": "code",
      "metadata": {
        "id": "cWTSzbYsdDzl",
        "colab_type": "code",
        "colab": {
          "base_uri": "https://localhost:8080/",
          "height": 34
        },
        "outputId": "f1e99ba1-21df-4cc9-f665-1ba8bb5e9336"
      },
      "source": [
        "water_test.columns.difference(water.columns)"
      ],
      "execution_count": 48,
      "outputs": [
        {
          "output_type": "execute_result",
          "data": {
            "text/plain": [
              "Index([], dtype='object')"
            ]
          },
          "metadata": {
            "tags": []
          },
          "execution_count": 48
        }
      ]
    },
    {
      "cell_type": "code",
      "metadata": {
        "id": "HKhRBg1pdQh-",
        "colab_type": "code",
        "colab": {}
      },
      "source": [
        "# Drop the columns that are different excluding the target (status_group_name)\n",
        "water.drop(columns= ['quality_group_name','source_type_name','status_group_name','extraction_type'], inplace=True)"
      ],
      "execution_count": 49,
      "outputs": []
    },
    {
      "cell_type": "code",
      "metadata": {
        "id": "SE6zw2YLeFw_",
        "colab_type": "code",
        "colab": {
          "base_uri": "https://localhost:8080/",
          "height": 34
        },
        "outputId": "1c756cf2-aa93-488e-beee-adccf72ee2d0"
      },
      "source": [
        "water.shape, water_test.shape"
      ],
      "execution_count": 50,
      "outputs": [
        {
          "output_type": "execute_result",
          "data": {
            "text/plain": [
              "((59400, 37), (14850, 36))"
            ]
          },
          "metadata": {
            "tags": []
          },
          "execution_count": 50
        }
      ]
    },
    {
      "cell_type": "code",
      "metadata": {
        "id": "Sc-O6QMyoyUB",
        "colab_type": "code",
        "colab": {
          "base_uri": "https://localhost:8080/",
          "height": 391
        },
        "outputId": "23788327-3338-49d4-fc63-a49784e09aea"
      },
      "source": [
        "# Let's create a sub-set for our Training Set\n",
        "subset_train = water[['id','amount_tsh','gps_height','region_code','district_code','population','construction_year','quantity','source_type','waterpoint_type','status_group','extraction_type_class','longitude','latitude','payment_vals']]\n",
        "subset_train.info()"
      ],
      "execution_count": 51,
      "outputs": [
        {
          "output_type": "stream",
          "text": [
            "<class 'pandas.core.frame.DataFrame'>\n",
            "RangeIndex: 59400 entries, 0 to 59399\n",
            "Data columns (total 15 columns):\n",
            " #   Column                 Non-Null Count  Dtype  \n",
            "---  ------                 --------------  -----  \n",
            " 0   id                     59400 non-null  int64  \n",
            " 1   amount_tsh             59400 non-null  float64\n",
            " 2   gps_height             59400 non-null  int64  \n",
            " 3   region_code            59400 non-null  int64  \n",
            " 4   district_code          59400 non-null  int64  \n",
            " 5   population             59400 non-null  int64  \n",
            " 6   construction_year      59400 non-null  int64  \n",
            " 7   quantity               59400 non-null  int64  \n",
            " 8   source_type            59400 non-null  int64  \n",
            " 9   waterpoint_type        59400 non-null  int64  \n",
            " 10  status_group           59400 non-null  int64  \n",
            " 11  extraction_type_class  59400 non-null  int64  \n",
            " 12  longitude              59400 non-null  float64\n",
            " 13  latitude               59400 non-null  float64\n",
            " 14  payment_vals           59400 non-null  int64  \n",
            "dtypes: float64(3), int64(12)\n",
            "memory usage: 6.8 MB\n"
          ],
          "name": "stdout"
        }
      ]
    },
    {
      "cell_type": "code",
      "metadata": {
        "id": "fMTamWr5QC5y",
        "colab_type": "code",
        "colab": {
          "base_uri": "https://localhost:8080/",
          "height": 391
        },
        "outputId": "63c3693b-c9b5-481d-bae4-794f9980409a"
      },
      "source": [
        "# Let's create a sub-set for our Test Set\n",
        "subset_test = water_test[['id','amount_tsh','gps_height','num_private','region_code','district_code','population','construction_year','quantity','source_type','waterpoint_type','extraction_type_class','longitude','latitude','payment_vals']]\n",
        "subset_test.info()"
      ],
      "execution_count": 52,
      "outputs": [
        {
          "output_type": "stream",
          "text": [
            "<class 'pandas.core.frame.DataFrame'>\n",
            "RangeIndex: 14850 entries, 0 to 14849\n",
            "Data columns (total 15 columns):\n",
            " #   Column                 Non-Null Count  Dtype  \n",
            "---  ------                 --------------  -----  \n",
            " 0   id                     14850 non-null  int64  \n",
            " 1   amount_tsh             14850 non-null  float64\n",
            " 2   gps_height             14850 non-null  int64  \n",
            " 3   num_private            14850 non-null  int64  \n",
            " 4   region_code            14850 non-null  int64  \n",
            " 5   district_code          14850 non-null  int64  \n",
            " 6   population             14850 non-null  int64  \n",
            " 7   construction_year      14850 non-null  int64  \n",
            " 8   quantity               14850 non-null  int64  \n",
            " 9   source_type            14850 non-null  int64  \n",
            " 10  waterpoint_type        14850 non-null  int64  \n",
            " 11  extraction_type_class  14850 non-null  int64  \n",
            " 12  longitude              14850 non-null  float64\n",
            " 13  latitude               14850 non-null  float64\n",
            " 14  payment_vals           14850 non-null  int64  \n",
            "dtypes: float64(3), int64(12)\n",
            "memory usage: 1.7 MB\n"
          ],
          "name": "stdout"
        }
      ]
    },
    {
      "cell_type": "markdown",
      "metadata": {
        "id": "_1b4cj7P7J0x",
        "colab_type": "text"
      },
      "source": [
        "So, now we have equal columns between the Training Set and the Testing Set for our Tanzanian Well Pump data. We will be running our models with 15 features."
      ]
    },
    {
      "cell_type": "code",
      "metadata": {
        "id": "6PxrMuVxeZQr",
        "colab_type": "code",
        "colab": {}
      },
      "source": [
        "# Feature Set\n",
        "X = subset_train.drop(columns= ['status_group']).values\n",
        "y = subset_train['status_group'].values"
      ],
      "execution_count": 68,
      "outputs": []
    },
    {
      "cell_type": "code",
      "metadata": {
        "id": "-nRVhhcxfMa3",
        "colab_type": "code",
        "colab": {}
      },
      "source": [
        "X = preprocessing.StandardScaler().fit(X).transform(X.astype(float))\n",
        "X_train, X_test, y_train, y_test = train_test_split(X, y, test_size=0.25, random_state=123)"
      ],
      "execution_count": 69,
      "outputs": []
    },
    {
      "cell_type": "code",
      "metadata": {
        "id": "gAX0rf2Wf2Ai",
        "colab_type": "code",
        "colab": {
          "base_uri": "https://localhost:8080/",
          "height": 51
        },
        "outputId": "e0005022-ef59-4e64-df86-db173ad0f69c"
      },
      "source": [
        "print('Training Set: ', X_train.shape, y_train.shape)\n",
        "print('Testing Set: ', X_test.shape, y_test.shape)"
      ],
      "execution_count": 70,
      "outputs": [
        {
          "output_type": "stream",
          "text": [
            "Training Set:  (44550, 14) (44550,)\n",
            "Testing Set:  (14850, 14) (14850,)\n"
          ],
          "name": "stdout"
        }
      ]
    },
    {
      "cell_type": "code",
      "metadata": {
        "id": "7scRPaG1rM9H",
        "colab_type": "code",
        "colab": {
          "base_uri": "https://localhost:8080/",
          "height": 587
        },
        "outputId": "71be7099-a498-42ad-bd2e-2bb46965c13f"
      },
      "source": [
        "# let's try Logistic Regression\n",
        "LR = LogisticRegression(C=0.00008, random_state=123)\n",
        "LR.fit(X_train, y_train)\n",
        "y_pred = LR.predict(X_test)\n",
        "print('Accuracy: ', metrics.accuracy_score(y_pred, y_test))\n",
        "\n",
        "## %-Fold Cross Validation\n",
        "cv_scores = cross_val_score(LR, X, y, cv=5)\n",
        "\n",
        "# Print the 5-Fold Cross Validation Scores\n",
        "print()\n",
        "print(classification_report(y_test, y_pred))\n",
        "print()\n",
        "print(\"Average 5 Fold CV Score: {}\".format(round(np.mean(cv_scores),4)),\n",
        "      \", Standard Deviation: {}\".format(round(np.std(cv_scores),4)))\n",
        "plt.figure(figsize=(7,4))\n",
        "ConfMatrix = confusion_matrix(y_test,LR.predict(X_test))\n",
        "sns.heatmap(ConfMatrix, annot=True, cmap=\"Blues\", fmt='d',\n",
        "            xticklabels = ['Non Functional', 'Functional', 'Needs Repair'],\n",
        "            yticklabels = ['Non Functional', 'Functional', 'Needs Repair'])\n",
        "plt.ylabel('True Label - Pump Status')\n",
        "plt.xlabel('Predicted Label')\n",
        "plt.title(\"Confusion Matrix/Logistic Regression - Tanzanian Water Pump Data\");"
      ],
      "execution_count": 56,
      "outputs": [
        {
          "output_type": "stream",
          "text": [
            "Accuracy:  0.6191245791245791\n",
            "\n",
            "              precision    recall  f1-score   support\n",
            "\n",
            "           0       0.66      0.39      0.49      5811\n",
            "           1       0.61      0.87      0.71      7963\n",
            "           2       0.00      0.00      0.00      1076\n",
            "\n",
            "    accuracy                           0.62     14850\n",
            "   macro avg       0.42      0.42      0.40     14850\n",
            "weighted avg       0.58      0.62      0.58     14850\n",
            "\n",
            "\n",
            "Average 5 Fold CV Score: 0.6198 , Standard Deviation: 0.0035\n"
          ],
          "name": "stdout"
        },
        {
          "output_type": "stream",
          "text": [
            "/usr/local/lib/python3.6/dist-packages/sklearn/metrics/_classification.py:1272: UndefinedMetricWarning: Precision and F-score are ill-defined and being set to 0.0 in labels with no predicted samples. Use `zero_division` parameter to control this behavior.\n",
            "  _warn_prf(average, modifier, msg_start, len(result))\n"
          ],
          "name": "stderr"
        },
        {
          "output_type": "display_data",
          "data": {
            "image/png": "[encoded data removed]",
            "text/plain": [
              "<Figure size 504x288 with 2 Axes>"
            ]
          },
          "metadata": {
            "tags": [],
            "needs_background": "light"
          }
        }
      ]
    },
    {
      "cell_type": "code",
      "metadata": {
        "id": "LllqLdQchzSM",
        "colab_type": "code",
        "colab": {
          "base_uri": "https://localhost:8080/",
          "height": 119
        },
        "outputId": "da7b0bfe-2955-4613-a8e9-6a5ca632b2d7"
      },
      "source": [
        "# Let's see if we can get a Decision Tree Classification Model to run\n",
        "DTC = DecisionTreeClassifier(criterion='entropy', max_depth=5).fit(X_train, y_train)\n",
        "DTC"
      ],
      "execution_count": 57,
      "outputs": [
        {
          "output_type": "execute_result",
          "data": {
            "text/plain": [
              "DecisionTreeClassifier(ccp_alpha=0.0, class_weight=None, criterion='entropy',\n",
              "                       max_depth=5, max_features=None, max_leaf_nodes=None,\n",
              "                       min_impurity_decrease=0.0, min_impurity_split=None,\n",
              "                       min_samples_leaf=1, min_samples_split=2,\n",
              "                       min_weight_fraction_leaf=0.0, presort='deprecated',\n",
              "                       random_state=None, splitter='best')"
            ]
          },
          "metadata": {
            "tags": []
          },
          "execution_count": 57
        }
      ]
    },
    {
      "cell_type": "code",
      "metadata": {
        "id": "n0SEIIwdqx-3",
        "colab_type": "code",
        "colab": {}
      },
      "source": [
        "yhat = DTC.predict(X_test)"
      ],
      "execution_count": 58,
      "outputs": []
    },
    {
      "cell_type": "code",
      "metadata": {
        "id": "fzjLLeMMXXz0",
        "colab_type": "code",
        "colab": {}
      },
      "source": [
        "## 5-Fold Cross Validation\n",
        "cv_scores = cross_val_score(DTC, X, y, cv=5)"
      ],
      "execution_count": null,
      "outputs": []
    },
    {
      "cell_type": "code",
      "metadata": {
        "id": "5hQ7jsU-Xtwa",
        "colab_type": "code",
        "colab": {
          "base_uri": "https://localhost:8080/",
          "height": 581
        },
        "outputId": "51130bef-305e-41be-ebf9-6dd25baa0b02"
      },
      "source": [
        "# Let's print the 5-Fold Cross Validation Scores\n",
        "print()\n",
        "print(classification_report(y_test, y_pred))\n",
        "print()\n",
        "print(\"Average 5-Fold CV Score: {}\". format(round(np.mean(cv_scores),4)),\n",
        "      \", Standard Devation: {}\".format(round(np.std(cv_scores),4)))\n",
        "\n",
        "plt.figure(figsize=(4,3))\n",
        "ConfMatrix = confusion_matrix(y_test,DTC.predict(X_test))\n",
        "sns.heatmap(ConfMatrix, annot=True, cmap=\"Blues\", fmt='d',\n",
        "            xticklabels = ['Non Functional', 'Functional', 'Needs Repair'],\n",
        "            yticklabels = ['Non Functional', 'Functional', 'Needs Repair'])\n",
        "plt.ylabel('True Label')\n",
        "plt.xlabel('Predicted Label')\n",
        "plt.title(\"Confusion Matric/Decision Tree - Tanzaanian Water Pump Data\");"
      ],
      "execution_count": 59,
      "outputs": [
        {
          "output_type": "stream",
          "text": [
            "\n",
            "              precision    recall  f1-score   support\n",
            "\n",
            "           0       0.66      0.39      0.49      5811\n",
            "           1       0.61      0.87      0.71      7963\n",
            "           2       0.00      0.00      0.00      1076\n",
            "\n",
            "    accuracy                           0.62     14850\n",
            "   macro avg       0.42      0.42      0.40     14850\n",
            "weighted avg       0.58      0.62      0.58     14850\n",
            "\n",
            "\n",
            "Average 5-Fold CV Score: 0.6198 , Standard Devation: 0.0035\n"
          ],
          "name": "stdout"
        },
        {
          "output_type": "stream",
          "text": [
            "/usr/local/lib/python3.6/dist-packages/sklearn/metrics/_classification.py:1272: UndefinedMetricWarning: Precision and F-score are ill-defined and being set to 0.0 in labels with no predicted samples. Use `zero_division` parameter to control this behavior.\n",
            "  _warn_prf(average, modifier, msg_start, len(result))\n"
          ],
          "name": "stderr"
        },
        {
          "output_type": "display_data",
          "data": {
            "image/png": "[encoded data removed]",
            "text/plain": [
              "<Figure size 288x216 with 2 Axes>"
            ]
          },
          "metadata": {
            "tags": [],
            "needs_background": "light"
          }
        }
      ]
    },
    {
      "cell_type": "code",
      "metadata": {
        "id": "7uMQscLfiP6P",
        "colab_type": "code",
        "colab": {
          "base_uri": "https://localhost:8080/",
          "height": 51
        },
        "outputId": "92bf6aa8-c3b4-4d57-9b33-baf9746512d7"
      },
      "source": [
        "# Let's Predict with Accuracy Evaluation for DTC\n",
        "yhat= DTC.predict(X_test)\n",
        "print('Training Set Accuracy: ', metrics.accuracy_score(y_train, DTC.predict(X_train)))\n",
        "print('Test Set Accuracy: ', metrics.accuracy_score(y_test, yhat))\n"
      ],
      "execution_count": 60,
      "outputs": [
        {
          "output_type": "stream",
          "text": [
            "Training Set Accuracy:  0.7124579124579125\n",
            "Test Set Accuracy:  0.7056565656565656\n"
          ],
          "name": "stdout"
        }
      ]
    },
    {
      "cell_type": "code",
      "metadata": {
        "id": "f31r1dRvUrTG",
        "colab_type": "code",
        "colab": {
          "base_uri": "https://localhost:8080/",
          "height": 85
        },
        "outputId": "04f9c0e5-8170-4c69-a2b3-875f64e198d6"
      },
      "source": [
        "# Let's try KNN as the nest classifier\n",
        "pipe_KNN = make_pipeline(StandardScaler(),\n",
        "                         PCA(n_components=10),\n",
        "                         KNeighborsClassifier(n_neighbors=10))\n",
        "pipe_KNN.fit(X_train, y_train)\n",
        "y=pred = pipe_KNN.predict(X_test)\n",
        "print('Test Accuracy: %3f' % pipe_KNN.score(X_test, y_test))\n",
        "\n",
        "# Cross Validation for KNN\n",
        "\n",
        "scores = cross_val_score(estimator=pipe_KNN,\n",
        "                         X=X_train,\n",
        "                         y=y_train,\n",
        "                         cv=10,\n",
        "                         n_jobs = -1)\n",
        "\n",
        "print('CV Accuracy Scores: %s' % scores)\n",
        "print('CV Accuracy: %.3f +/- %.3f' % (np.mean(scores),np.std(scores)))"
      ],
      "execution_count": 61,
      "outputs": [
        {
          "output_type": "stream",
          "text": [
            "Test Accuracy: 0.735690\n",
            "CV Accuracy Scores: [0.73243547 0.73041526 0.735578   0.74074074 0.73804714 0.74163861\n",
            " 0.73804714 0.73131313 0.73468013 0.73265993]\n",
            "CV Accuracy: 0.736 +/- 0.004\n"
          ],
          "name": "stdout"
        }
      ]
    },
    {
      "cell_type": "markdown",
      "metadata": {
        "id": "0EohJBRkYxfS",
        "colab_type": "text"
      },
      "source": [
        "**Next, let's see a comparison between the models.**"
      ]
    },
    {
      "cell_type": "code",
      "metadata": {
        "id": "ty3Ci447Vj1j",
        "colab_type": "code",
        "colab": {
          "base_uri": "https://localhost:8080/",
          "height": 102
        },
        "outputId": "43e73043-ac40-4213-84b9-8fe1e5bc9f78"
      },
      "source": [
        "modelRFC = RandomForestClassifier(n_estimators=1000, min_samples_split=10, criterion='gini')\n",
        "modelRFC.fit(X_train, y_train)\n",
        "\n",
        "modelETC = ExtraTreesClassifier(n_estimators=1000, min_samples_split=10)\n",
        "modelETC.fit(X_train, y_train)\n",
        "\n",
        "modelDTC = DecisionTreeClassifier()\n",
        "modelDTC.fit(X_train, y_train)\n",
        "\n",
        "modelKNN = KNeighborsClassifier()\n",
        "modelKNN.fit(X_train, y_train)\n",
        "\n",
        "modelLR = LogisticRegression()\n",
        "modelLR.fit(X_train, y_train)\n",
        "\n",
        "scoreRFC = modelRFC.score(X_test, y_test)\n",
        "scoreETC = modelETC.score(X_test, y_test)\n",
        "scoreDTC = modelDTC.score(X_test, y_test)\n",
        "scoreKNN = modelKNN.score(X_test, y_test)\n",
        "scoreLR = modelLR.score(X_test, y_test)\n",
        "\n",
        "print('Random Forest', scoreRFC)\n",
        "print('Decision Tree', scoreDTC)\n",
        "print('Extra Tree Classifier', scoreETC)\n",
        "print('KNN', scoreKNN)\n",
        "print('Logistic Regression', scoreLR)\n",
        "\n"
      ],
      "execution_count": 62,
      "outputs": [
        {
          "output_type": "stream",
          "text": [
            "Random Forest 0.806936026936027\n",
            "Decision Tree 0.7408080808080808\n",
            "Extra Tree Classifier 0.8025589225589226\n",
            "KNN 0.7395286195286195\n",
            "Logistic Regression 0.634006734006734\n"
          ],
          "name": "stdout"
        }
      ]
    },
    {
      "cell_type": "code",
      "metadata": {
        "id": "mLIfBQobY-Y2",
        "colab_type": "code",
        "colab": {
          "base_uri": "https://localhost:8080/",
          "height": 306
        },
        "outputId": "4cf43d1e-551f-4533-9a03-c21568ea8d83"
      },
      "source": [
        "# Let's see if we can graph it.\n",
        "pd.DataFrame([(\"Decision Tree\", scoreDTC),\n",
        "              (\"Random Forest\", scoreRFC),\n",
        "              (\"Extra Tree Classifier\", scoreETC),\n",
        "              (\"KNN\", scoreKNN),\n",
        "              (\"Logistic Regression\", scoreLR),],\n",
        "              columns=[\"Model\", \"Score\"]).plot(x=\"Model\", y=\"Score\", kind=\"barh\", fontsize=15)\n",
        "plt.xlabel('Model', fontsize=15)\n",
        "plt.ylabel('Score', fontsize=15)\n",
        "            \n"
      ],
      "execution_count": null,
      "outputs": [
        {
          "output_type": "execute_result",
          "data": {
            "text/plain": [
              "Text(0, 0.5, 'Score')"
            ]
          },
          "metadata": {
            "tags": []
          },
          "execution_count": 189
        },
        {
          "output_type": "display_data",
          "data": {
            "image/png": "[encoded data removed]",
            "text/plain": [
              "<Figure size 432x288 with 1 Axes>"
            ]
          },
          "metadata": {
            "tags": [],
            "needs_background": "light"
          }
        }
      ]
    },
    {
      "cell_type": "markdown",
      "metadata": {
        "id": "vysvaZQ-tOQ9",
        "colab_type": "text"
      },
      "source": [
        "Next, Let's try and build an individual Random Forest Classifier model run, and then fold in with Grid Search/Cross Validation Model."
      ]
    },
    {
      "cell_type": "code",
      "metadata": {
        "id": "1UN4PLhatb6l",
        "colab_type": "code",
        "colab": {
          "base_uri": "https://localhost:8080/",
          "height": 51
        },
        "outputId": "5184cad0-aecd-4fb3-bdb8-15321c1f5d12"
      },
      "source": [
        "rfc = RandomForestClassifier(criterion='entropy', max_depth=7).fit(X_train, y_train)\n",
        "yhatRF = rfc.predict(X_test)\n",
        "print('Training Set Accuracy: ', metrics.accuracy_score(y_train, rfc.predict(X_train)))\n",
        "print('Testing Set Accuracy: ', metrics.accuracy_score(y_test, yhatRF))\n"
      ],
      "execution_count": 65,
      "outputs": [
        {
          "output_type": "stream",
          "text": [
            "Training Set Accuracy:  0.7371043771043772\n",
            "Testing Set Accuracy:  0.7295622895622895\n"
          ],
          "name": "stdout"
        }
      ]
    },
    {
      "cell_type": "code",
      "metadata": {
        "id": "qWnGd6mVuvKp",
        "colab_type": "code",
        "colab": {
          "base_uri": "https://localhost:8080/",
          "height": 51
        },
        "outputId": "a2d97e90-fdb8-4721-cf20-47f2d17c7c48"
      },
      "source": [
        "# RFC with Grid Search and Cross Validation\n",
        "rfc_params = {'n_estimators':[2,5,10,20,50,75,150],\n",
        "              'criterion':['gini', 'entropy'],\n",
        "              'max_depth':[2,5,10,20,50,None],\n",
        "              'min_samples_split':[2,5,10,20]}\n",
        "\n",
        "grid_RFC = GridSearchCV(RandomForestClassifier(),\n",
        "                        rfc_params,\n",
        "                        cv=5,\n",
        "                        scoring='accuracy').fit(X_train, y_train)\n",
        "\n",
        "yhatGS = grid_rfc.predict(X_test)\n",
        "\n",
        "print('Training Set Accuracy: ', metrics.accuracy_score(y_train, grid_rfc.predict(X_train)))\n",
        "print('Testing Set Accuracy: ', metrics.accuracy_score(y_test, yhatGS))\n"
      ],
      "execution_count": null,
      "outputs": [
        {
          "output_type": "stream",
          "text": [
            "Training Set Accuracy:  0.9341638608305275\n",
            "Testing Set Accuracy:  0.8054545454545454\n"
          ],
          "name": "stdout"
        }
      ]
    },
    {
      "cell_type": "code",
      "metadata": {
        "id": "1DJTx6GK7WaX",
        "colab_type": "code",
        "colab": {
          "base_uri": "https://localhost:8080/",
          "height": 581
        },
        "outputId": "c63b4689-92a5-4487-89eb-36aa09450e73"
      },
      "source": [
        "## 5-Fold Cross-Validation\n",
        "from sklearn.metrics import classification_report, confusion_matrix\n",
        "from sklearn.model_selection import cross_val_score\n",
        "\n",
        "cv_scores = cross_val_score(rfc, X, y, cv=5)\n",
        "\n",
        "# Print the 5-Fold Cross-Validation Scores\n",
        "print()\n",
        "print(classification_report(y_test, y_pred))\n",
        "print()\n",
        "print(\"Average 5-Fold CV Scores: {}\".format(round(np.mean(cv_scores),4)),\n",
        "      \", Standard Deviation: {}\".format(round(np.std(cv_scores),4)))\n",
        "plt.figure(figsize=(4,3))\n",
        "ConfMatrix = confusion_matrix(y_test,rfc.predict(X_test))\n",
        "sns.heatmap(ConfMatrix,annot=True, cmap=\"Blues\", fmt='d',\n",
        "            xticklabels = ['Non Functional', 'Functional', 'Needs Repair'],\n",
        "            yticklabels = ['Non Functional', 'Functional', 'Needs Repair'])\n",
        "plt.ylabel('True Label')\n",
        "plt.xlabel('Predicted Label')\n",
        "plt.title(\"Confusion Matrix/Random Forest - Tanzanian Water Pump Data\");\n",
        "\n",
        "         "
      ],
      "execution_count": 71,
      "outputs": [
        {
          "output_type": "stream",
          "text": [
            "\n",
            "              precision    recall  f1-score   support\n",
            "\n",
            "           0       0.66      0.39      0.49      5811\n",
            "           1       0.61      0.87      0.71      7963\n",
            "           2       0.00      0.00      0.00      1076\n",
            "\n",
            "    accuracy                           0.62     14850\n",
            "   macro avg       0.42      0.42      0.40     14850\n",
            "weighted avg       0.58      0.62      0.58     14850\n",
            "\n",
            "\n",
            "Average 5-Fold CV Scores: 0.7332 , Standard Deviation: 0.0032\n"
          ],
          "name": "stdout"
        },
        {
          "output_type": "stream",
          "text": [
            "/usr/local/lib/python3.6/dist-packages/sklearn/metrics/_classification.py:1272: UndefinedMetricWarning: Precision and F-score are ill-defined and being set to 0.0 in labels with no predicted samples. Use `zero_division` parameter to control this behavior.\n",
            "  _warn_prf(average, modifier, msg_start, len(result))\n"
          ],
          "name": "stderr"
        },
        {
          "output_type": "display_data",
          "data": {
            "image/png": "[encoded data removed]",
            "text/plain": [
              "<Figure size 288x216 with 2 Axes>"
            ]
          },
          "metadata": {
            "tags": [],
            "needs_background": "light"
          }
        }
      ]
    },
    {
      "cell_type": "markdown",
      "metadata": {
        "id": "dUlcpxYh-HD3",
        "colab_type": "text"
      },
      "source": [
        "Finally, let's run the test data through the model and make predictions."
      ]
    },
    {
      "cell_type": "code",
      "metadata": {
        "id": "naXRiY3rGO0d",
        "colab_type": "code",
        "colab": {
          "base_uri": "https://localhost:8080/",
          "height": 204
        },
        "outputId": "e1d7dd02-3f4f-4eae-a4f7-3d1dae09990f"
      },
      "source": [
        "X2 = subset_test.drop(columns = ['id']).values\n",
        "yhat2 = modelKNN.predict(X2)\n",
        "preds = pd.DataFrame(yhat2)\n",
        "preds.head()"
      ],
      "execution_count": 84,
      "outputs": [
        {
          "output_type": "execute_result",
          "data": {
            "text/html": [
              "<div>\n",
              "<style scoped>\n",
              "    .dataframe tbody tr th:only-of-type {\n",
              "        vertical-align: middle;\n",
              "    }\n",
              "\n",
              "    .dataframe tbody tr th {\n",
              "        vertical-align: top;\n",
              "    }\n",
              "\n",
              "    .dataframe thead th {\n",
              "        text-align: right;\n",
              "    }\n",
              "</style>\n",
              "<table border=\"1\" class=\"dataframe\">\n",
              "  <thead>\n",
              "    <tr style=\"text-align: right;\">\n",
              "      <th></th>\n",
              "      <th>0</th>\n",
              "    </tr>\n",
              "  </thead>\n",
              "  <tbody>\n",
              "    <tr>\n",
              "      <th>0</th>\n",
              "      <td>1</td>\n",
              "    </tr>\n",
              "    <tr>\n",
              "      <th>1</th>\n",
              "      <td>1</td>\n",
              "    </tr>\n",
              "    <tr>\n",
              "      <th>2</th>\n",
              "      <td>1</td>\n",
              "    </tr>\n",
              "    <tr>\n",
              "      <th>3</th>\n",
              "      <td>1</td>\n",
              "    </tr>\n",
              "    <tr>\n",
              "      <th>4</th>\n",
              "      <td>1</td>\n",
              "    </tr>\n",
              "  </tbody>\n",
              "</table>\n",
              "</div>"
            ],
            "text/plain": [
              "   0\n",
              "0  1\n",
              "1  1\n",
              "2  1\n",
              "3  1\n",
              "4  1"
            ]
          },
          "metadata": {
            "tags": []
          },
          "execution_count": 84
        }
      ]
    },
    {
      "cell_type": "code",
      "metadata": {
        "id": "Y_aHgVt8nhb-",
        "colab_type": "code",
        "colab": {
          "base_uri": "https://localhost:8080/",
          "height": 34
        },
        "outputId": "de4f8f83-27d7-47dc-f651-61c466773556"
      },
      "source": [
        "subset_test.shape, preds.shape"
      ],
      "execution_count": 85,
      "outputs": [
        {
          "output_type": "execute_result",
          "data": {
            "text/plain": [
              "((14850, 15), (14850, 1))"
            ]
          },
          "metadata": {
            "tags": []
          },
          "execution_count": 85
        }
      ]
    },
    {
      "cell_type": "markdown",
      "metadata": {
        "id": "Uxyr4tenvGkH",
        "colab_type": "text"
      },
      "source": [
        "So, we have two dataframes the next step is to combine them into one dataframe. We will use the \"concat\" syntax to complete this action and combine the \"id\" column with the \"status_group\" column. Afterward, the next step is to export the prediction to a CSV file."
      ]
    },
    {
      "cell_type": "code",
      "metadata": {
        "id": "8YU3L_v4nrv9",
        "colab_type": "code",
        "colab": {
          "base_uri": "https://localhost:8080/",
          "height": 34
        },
        "outputId": "ad28dbb6-42fe-430d-e5a4-492492cf5215"
      },
      "source": [
        "predict = pd.concat((water_test['id'], preds), axis=1)\n",
        "predict.columns=['id', 'status_group']\n",
        "predict['status_group'].unique()"
      ],
      "execution_count": 86,
      "outputs": [
        {
          "output_type": "execute_result",
          "data": {
            "text/plain": [
              "array([1, 0])"
            ]
          },
          "metadata": {
            "tags": []
          },
          "execution_count": 86
        }
      ]
    },
    {
      "cell_type": "code",
      "metadata": {
        "id": "29sPQj8IoNHm",
        "colab_type": "code",
        "colab": {
          "base_uri": "https://localhost:8080/",
          "height": 204
        },
        "outputId": "898eb265-ad4d-4662-b168-a0522934c137"
      },
      "source": [
        "predict.head()"
      ],
      "execution_count": 87,
      "outputs": [
        {
          "output_type": "execute_result",
          "data": {
            "text/html": [
              "<div>\n",
              "<style scoped>\n",
              "    .dataframe tbody tr th:only-of-type {\n",
              "        vertical-align: middle;\n",
              "    }\n",
              "\n",
              "    .dataframe tbody tr th {\n",
              "        vertical-align: top;\n",
              "    }\n",
              "\n",
              "    .dataframe thead th {\n",
              "        text-align: right;\n",
              "    }\n",
              "</style>\n",
              "<table border=\"1\" class=\"dataframe\">\n",
              "  <thead>\n",
              "    <tr style=\"text-align: right;\">\n",
              "      <th></th>\n",
              "      <th>id</th>\n",
              "      <th>status_group</th>\n",
              "    </tr>\n",
              "  </thead>\n",
              "  <tbody>\n",
              "    <tr>\n",
              "      <th>0</th>\n",
              "      <td>50785</td>\n",
              "      <td>1</td>\n",
              "    </tr>\n",
              "    <tr>\n",
              "      <th>1</th>\n",
              "      <td>51630</td>\n",
              "      <td>1</td>\n",
              "    </tr>\n",
              "    <tr>\n",
              "      <th>2</th>\n",
              "      <td>17168</td>\n",
              "      <td>1</td>\n",
              "    </tr>\n",
              "    <tr>\n",
              "      <th>3</th>\n",
              "      <td>45559</td>\n",
              "      <td>1</td>\n",
              "    </tr>\n",
              "    <tr>\n",
              "      <th>4</th>\n",
              "      <td>49871</td>\n",
              "      <td>1</td>\n",
              "    </tr>\n",
              "  </tbody>\n",
              "</table>\n",
              "</div>"
            ],
            "text/plain": [
              "      id  status_group\n",
              "0  50785             1\n",
              "1  51630             1\n",
              "2  17168             1\n",
              "3  45559             1\n",
              "4  49871             1"
            ]
          },
          "metadata": {
            "tags": []
          },
          "execution_count": 87
        }
      ]
    },
    {
      "cell_type": "code",
      "metadata": {
        "id": "HjxIS0K7oTw_",
        "colab_type": "code",
        "colab": {
          "base_uri": "https://localhost:8080/",
          "height": 204
        },
        "outputId": "68ad9dc1-5834-47a8-aff9-97d9d91d08a8"
      },
      "source": [
        "predict.tail()"
      ],
      "execution_count": 88,
      "outputs": [
        {
          "output_type": "execute_result",
          "data": {
            "text/html": [
              "<div>\n",
              "<style scoped>\n",
              "    .dataframe tbody tr th:only-of-type {\n",
              "        vertical-align: middle;\n",
              "    }\n",
              "\n",
              "    .dataframe tbody tr th {\n",
              "        vertical-align: top;\n",
              "    }\n",
              "\n",
              "    .dataframe thead th {\n",
              "        text-align: right;\n",
              "    }\n",
              "</style>\n",
              "<table border=\"1\" class=\"dataframe\">\n",
              "  <thead>\n",
              "    <tr style=\"text-align: right;\">\n",
              "      <th></th>\n",
              "      <th>id</th>\n",
              "      <th>status_group</th>\n",
              "    </tr>\n",
              "  </thead>\n",
              "  <tbody>\n",
              "    <tr>\n",
              "      <th>14845</th>\n",
              "      <td>39307</td>\n",
              "      <td>0</td>\n",
              "    </tr>\n",
              "    <tr>\n",
              "      <th>14846</th>\n",
              "      <td>18990</td>\n",
              "      <td>1</td>\n",
              "    </tr>\n",
              "    <tr>\n",
              "      <th>14847</th>\n",
              "      <td>28749</td>\n",
              "      <td>1</td>\n",
              "    </tr>\n",
              "    <tr>\n",
              "      <th>14848</th>\n",
              "      <td>33492</td>\n",
              "      <td>1</td>\n",
              "    </tr>\n",
              "    <tr>\n",
              "      <th>14849</th>\n",
              "      <td>68707</td>\n",
              "      <td>1</td>\n",
              "    </tr>\n",
              "  </tbody>\n",
              "</table>\n",
              "</div>"
            ],
            "text/plain": [
              "          id  status_group\n",
              "14845  39307             0\n",
              "14846  18990             1\n",
              "14847  28749             1\n",
              "14848  33492             1\n",
              "14849  68707             1"
            ]
          },
          "metadata": {
            "tags": []
          },
          "execution_count": 88
        }
      ]
    },
    {
      "cell_type": "code",
      "metadata": {
        "id": "BA54dQZmodAT",
        "colab_type": "code",
        "colab": {
          "base_uri": "https://localhost:8080/",
          "height": 255
        },
        "outputId": "3a843ab0-517f-46eb-c6df-fd0aaa26953c"
      },
      "source": [
        "# Let's export this to folder on my PC\n",
        "predict.to_csv(r'C:\\PANDAS\\exportKNN_predict.csv', index=False, header=True)\n",
        "print(predict)"
      ],
      "execution_count": 89,
      "outputs": [
        {
          "output_type": "stream",
          "text": [
            "          id  status_group\n",
            "0      50785             1\n",
            "1      51630             1\n",
            "2      17168             1\n",
            "3      45559             1\n",
            "4      49871             1\n",
            "...      ...           ...\n",
            "14845  39307             0\n",
            "14846  18990             1\n",
            "14847  28749             1\n",
            "14848  33492             1\n",
            "14849  68707             1\n",
            "\n",
            "[14850 rows x 2 columns]\n"
          ],
          "name": "stdout"
        }
      ]
    }
  ]
}