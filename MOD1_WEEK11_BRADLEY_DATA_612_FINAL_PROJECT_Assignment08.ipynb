{
  "nbformat": 4,
  "nbformat_minor": 0,
  "metadata": {
    "colab": {
      "name": "MOD1_WEEK11_BRADLEY_DATA_612_FINAL_PROJECT_Assignment08.ipynb",
      "provenance": [],
      "collapsed_sections": []
    },
    "kernelspec": {
      "name": "python3",
      "display_name": "Python 3"
    }
  },
  "cells": [
    {
      "cell_type": "markdown",
      "metadata": {
        "id": "dtHA0E5FR3wy",
        "colab_type": "text"
      },
      "source": [
        "# Assignment for Week 8"
      ]
    },
    {
      "cell_type": "markdown",
      "metadata": {
        "id": "Rh6DhpigRvSp",
        "colab_type": "text"
      },
      "source": [
        "## Final Project     \n",
        "\n",
        "Week's 8 assignment will be work towards the final project.    "
      ]
    },
    {
      "cell_type": "markdown",
      "metadata": {
        "id": "OHLcl_GnR39u",
        "colab_type": "text"
      },
      "source": [
        "### About Final Project     \n"
      ]
    },
    {
      "cell_type": "markdown",
      "metadata": {
        "id": "iIARxSvxSfef",
        "colab_type": "text"
      },
      "source": [
        "The final project will be a competition submission to any of the platforms available such as Kaggle. The competition will require to either build a Linear Regression or Logistic Regression model. \n",
        "\n",
        "The instructor will notify students by week 7 on the competition and the submissions.  This competition will include some or all the material and skills learned in the course.\n",
        "\n",
        "Students are required to submit the final version of work/codes as a Jupyter Notebook via colab as submitted to the competition along with the link to their account pointing to their score on the competition's board. This will be evaluated and graded for the entire project for the duration of week 8-12. \n",
        "\n"
      ]
    },
    {
      "cell_type": "markdown",
      "metadata": {
        "id": "v-WaBit5oAld",
        "colab_type": "text"
      },
      "source": [
        "## Tasks\n",
        "\n",
        "**Required:**    \n",
        "\n",
        "*   Open an account to the decided competition's platform and download the data sets (train, test, etc) needed to compete.    \n",
        "*   Start working with your data, get to know the data. Read all the competition information provided to the hosting platform. Try to get familiar with the data, topic, etc.      \n",
        "*   Submit the link of your competition's account via BlueQuill. "
      ]
    },
    {
      "cell_type": "markdown",
      "metadata": {
        "id": "dT8UOmgTU056",
        "colab_type": "text"
      },
      "source": [
        "**Pump-it Up Water Project - Tanzanian Ministry of Water**\n",
        "\n",
        "Competition Challenge - using data from \"Taarifa\" and the Tanzanian Ministry of Water, can you predict which pumps are functional, which need some repairs, and which don't work at all? This is an intermediate-level practice competition.\n",
        "\n",
        "Predict one of these three classes based on several variables about what kind of pump is operating, when it was installed, and how it is managed. A smart understanding of which water points will fail can improve maintenance operaations and ensure that clean, potable water is available to communities across Tanzania.\n",
        "\n",
        "A training dataset with information of nearly sixty thousand water points across Tanzania is provided its use is expected to build a model that will be able to predict which water points are functional, nonfunctional, and functional but need repair on a test dataset."
      ]
    },
    {
      "cell_type": "code",
      "metadata": {
        "id": "8YJa6vC2bQwe",
        "colab_type": "code",
        "colab": {
          "base_uri": "https://localhost:8080/",
          "height": 411
        },
        "outputId": "33886c5b-8fe3-4b90-c04f-40ca46d44325"
      },
      "source": [
        "# Let's load pandas and see the first few rows of data of the Pump-it Up dataset.\n",
        "import pandas as pd\n",
        "import os\n",
        "import sys\n",
        "water = pd.read_csv('https://raw.githubusercontent.com/bradley1958/DATA612_FINAL_PROJECT/master/Well_Water_19K_Mod.csv')\n",
        "water.head(5)\n",
        "\n"
      ],
      "execution_count": 1,
      "outputs": [
        {
          "output_type": "execute_result",
          "data": {
            "text/html": [
              "<div>\n",
              "<style scoped>\n",
              "    .dataframe tbody tr th:only-of-type {\n",
              "        vertical-align: middle;\n",
              "    }\n",
              "\n",
              "    .dataframe tbody tr th {\n",
              "        vertical-align: top;\n",
              "    }\n",
              "\n",
              "    .dataframe thead th {\n",
              "        text-align: right;\n",
              "    }\n",
              "</style>\n",
              "<table border=\"1\" class=\"dataframe\">\n",
              "  <thead>\n",
              "    <tr style=\"text-align: right;\">\n",
              "      <th></th>\n",
              "      <th>id</th>\n",
              "      <th>amount_tsh</th>\n",
              "      <th>date_recorded</th>\n",
              "      <th>funder</th>\n",
              "      <th>gps_height</th>\n",
              "      <th>installer</th>\n",
              "      <th>longitude</th>\n",
              "      <th>latitude</th>\n",
              "      <th>wpt_name</th>\n",
              "      <th>num_private</th>\n",
              "      <th>basin</th>\n",
              "      <th>subvillage</th>\n",
              "      <th>region</th>\n",
              "      <th>region_code</th>\n",
              "      <th>district_code</th>\n",
              "      <th>lga</th>\n",
              "      <th>ward</th>\n",
              "      <th>population</th>\n",
              "      <th>public_meeting</th>\n",
              "      <th>recorded_by</th>\n",
              "      <th>scheme_management</th>\n",
              "      <th>scheme_name</th>\n",
              "      <th>permit</th>\n",
              "      <th>construction_year</th>\n",
              "      <th>extraction_type</th>\n",
              "      <th>extraction_type_group</th>\n",
              "      <th>extraction_type_class</th>\n",
              "      <th>management</th>\n",
              "      <th>management_group</th>\n",
              "      <th>payment</th>\n",
              "      <th>payment_type</th>\n",
              "      <th>water_quality</th>\n",
              "      <th>quality_group</th>\n",
              "      <th>quantity</th>\n",
              "      <th>quantity_group</th>\n",
              "      <th>source</th>\n",
              "      <th>source_type</th>\n",
              "      <th>source_class</th>\n",
              "      <th>waterpoint_type</th>\n",
              "      <th>waterpoint_type_group</th>\n",
              "      <th>status_group</th>\n",
              "      <th>status_group_name</th>\n",
              "      <th>source_type_name</th>\n",
              "      <th>quality_group_name</th>\n",
              "    </tr>\n",
              "  </thead>\n",
              "  <tbody>\n",
              "    <tr>\n",
              "      <th>0</th>\n",
              "      <td>69572</td>\n",
              "      <td>6000.0</td>\n",
              "      <td>3/14/2011</td>\n",
              "      <td>Roman</td>\n",
              "      <td>1390</td>\n",
              "      <td>Roman</td>\n",
              "      <td>34.938093</td>\n",
              "      <td>-9.856322</td>\n",
              "      <td>none</td>\n",
              "      <td>0</td>\n",
              "      <td>Lake Nyasa</td>\n",
              "      <td>Mnyusi B</td>\n",
              "      <td>Iringa</td>\n",
              "      <td>11</td>\n",
              "      <td>5</td>\n",
              "      <td>Ludewa</td>\n",
              "      <td>Mundindi</td>\n",
              "      <td>109</td>\n",
              "      <td>True</td>\n",
              "      <td>GeoData Consultants Ltd</td>\n",
              "      <td>VWC</td>\n",
              "      <td>Roman</td>\n",
              "      <td>False</td>\n",
              "      <td>1999</td>\n",
              "      <td>gravity</td>\n",
              "      <td>gravity</td>\n",
              "      <td>1</td>\n",
              "      <td>vwc</td>\n",
              "      <td>user-group</td>\n",
              "      <td>pay annually</td>\n",
              "      <td>annually</td>\n",
              "      <td>soft</td>\n",
              "      <td>1</td>\n",
              "      <td>1</td>\n",
              "      <td>enough</td>\n",
              "      <td>spring</td>\n",
              "      <td>1</td>\n",
              "      <td>groundwater</td>\n",
              "      <td>1</td>\n",
              "      <td>communal standpipe</td>\n",
              "      <td>1</td>\n",
              "      <td>functional</td>\n",
              "      <td>spring</td>\n",
              "      <td>good</td>\n",
              "    </tr>\n",
              "    <tr>\n",
              "      <th>1</th>\n",
              "      <td>8776</td>\n",
              "      <td>0.0</td>\n",
              "      <td>3/6/2013</td>\n",
              "      <td>Grumeti</td>\n",
              "      <td>1399</td>\n",
              "      <td>GRUMETI</td>\n",
              "      <td>34.698766</td>\n",
              "      <td>-2.147466</td>\n",
              "      <td>Zahanati</td>\n",
              "      <td>0</td>\n",
              "      <td>Lake Victoria</td>\n",
              "      <td>Nyamara</td>\n",
              "      <td>Mara</td>\n",
              "      <td>20</td>\n",
              "      <td>2</td>\n",
              "      <td>Serengeti</td>\n",
              "      <td>Natta</td>\n",
              "      <td>280</td>\n",
              "      <td>NaN</td>\n",
              "      <td>GeoData Consultants Ltd</td>\n",
              "      <td>Other</td>\n",
              "      <td>NaN</td>\n",
              "      <td>True</td>\n",
              "      <td>2010</td>\n",
              "      <td>gravity</td>\n",
              "      <td>gravity</td>\n",
              "      <td>1</td>\n",
              "      <td>wug</td>\n",
              "      <td>user-group</td>\n",
              "      <td>never pay</td>\n",
              "      <td>never pay</td>\n",
              "      <td>soft</td>\n",
              "      <td>1</td>\n",
              "      <td>2</td>\n",
              "      <td>insufficient</td>\n",
              "      <td>rainwater harvesting</td>\n",
              "      <td>2</td>\n",
              "      <td>surface</td>\n",
              "      <td>1</td>\n",
              "      <td>communal standpipe</td>\n",
              "      <td>1</td>\n",
              "      <td>functional</td>\n",
              "      <td>rainwater harvesting</td>\n",
              "      <td>good</td>\n",
              "    </tr>\n",
              "    <tr>\n",
              "      <th>2</th>\n",
              "      <td>34310</td>\n",
              "      <td>25.0</td>\n",
              "      <td>2/25/2013</td>\n",
              "      <td>Lottery Club</td>\n",
              "      <td>686</td>\n",
              "      <td>World vision</td>\n",
              "      <td>37.460664</td>\n",
              "      <td>-3.821329</td>\n",
              "      <td>Kwa Mahundi</td>\n",
              "      <td>0</td>\n",
              "      <td>Pangani</td>\n",
              "      <td>Majengo</td>\n",
              "      <td>Manyara</td>\n",
              "      <td>21</td>\n",
              "      <td>4</td>\n",
              "      <td>Simanjiro</td>\n",
              "      <td>Ngorika</td>\n",
              "      <td>250</td>\n",
              "      <td>True</td>\n",
              "      <td>GeoData Consultants Ltd</td>\n",
              "      <td>VWC</td>\n",
              "      <td>Nyumba ya mungu pipe scheme</td>\n",
              "      <td>True</td>\n",
              "      <td>2009</td>\n",
              "      <td>gravity</td>\n",
              "      <td>gravity</td>\n",
              "      <td>1</td>\n",
              "      <td>vwc</td>\n",
              "      <td>user-group</td>\n",
              "      <td>pay per bucket</td>\n",
              "      <td>per bucket</td>\n",
              "      <td>soft</td>\n",
              "      <td>1</td>\n",
              "      <td>1</td>\n",
              "      <td>enough</td>\n",
              "      <td>dam</td>\n",
              "      <td>3</td>\n",
              "      <td>surface</td>\n",
              "      <td>4</td>\n",
              "      <td>communal standpipe</td>\n",
              "      <td>1</td>\n",
              "      <td>functional</td>\n",
              "      <td>dam</td>\n",
              "      <td>good</td>\n",
              "    </tr>\n",
              "    <tr>\n",
              "      <th>3</th>\n",
              "      <td>67743</td>\n",
              "      <td>0.0</td>\n",
              "      <td>1/28/2013</td>\n",
              "      <td>Unicef</td>\n",
              "      <td>263</td>\n",
              "      <td>UNICEF</td>\n",
              "      <td>38.486161</td>\n",
              "      <td>-11.155298</td>\n",
              "      <td>Zahanati Ya Nanyumbu</td>\n",
              "      <td>0</td>\n",
              "      <td>Ruvuma / Southern Coast</td>\n",
              "      <td>Mahakamani</td>\n",
              "      <td>Mtwara</td>\n",
              "      <td>90</td>\n",
              "      <td>63</td>\n",
              "      <td>Nanyumbu</td>\n",
              "      <td>Nanyumbu</td>\n",
              "      <td>58</td>\n",
              "      <td>True</td>\n",
              "      <td>GeoData Consultants Ltd</td>\n",
              "      <td>VWC</td>\n",
              "      <td>NaN</td>\n",
              "      <td>True</td>\n",
              "      <td>1986</td>\n",
              "      <td>submersible</td>\n",
              "      <td>submersible</td>\n",
              "      <td>5</td>\n",
              "      <td>vwc</td>\n",
              "      <td>user-group</td>\n",
              "      <td>never pay</td>\n",
              "      <td>never pay</td>\n",
              "      <td>soft</td>\n",
              "      <td>1</td>\n",
              "      <td>0</td>\n",
              "      <td>dry</td>\n",
              "      <td>machine dbh</td>\n",
              "      <td>4</td>\n",
              "      <td>groundwater</td>\n",
              "      <td>4</td>\n",
              "      <td>communal standpipe</td>\n",
              "      <td>0</td>\n",
              "      <td>non functional</td>\n",
              "      <td>borehole</td>\n",
              "      <td>good</td>\n",
              "    </tr>\n",
              "    <tr>\n",
              "      <th>4</th>\n",
              "      <td>19728</td>\n",
              "      <td>0.0</td>\n",
              "      <td>7/13/2011</td>\n",
              "      <td>Action In A</td>\n",
              "      <td>0</td>\n",
              "      <td>Artisan</td>\n",
              "      <td>31.130847</td>\n",
              "      <td>-1.825359</td>\n",
              "      <td>Shuleni</td>\n",
              "      <td>0</td>\n",
              "      <td>Lake Victoria</td>\n",
              "      <td>Kyanyamisa</td>\n",
              "      <td>Kagera</td>\n",
              "      <td>18</td>\n",
              "      <td>1</td>\n",
              "      <td>Karagwe</td>\n",
              "      <td>Nyakasimbi</td>\n",
              "      <td>0</td>\n",
              "      <td>True</td>\n",
              "      <td>GeoData Consultants Ltd</td>\n",
              "      <td>NaN</td>\n",
              "      <td>NaN</td>\n",
              "      <td>True</td>\n",
              "      <td>0</td>\n",
              "      <td>gravity</td>\n",
              "      <td>gravity</td>\n",
              "      <td>1</td>\n",
              "      <td>other</td>\n",
              "      <td>other</td>\n",
              "      <td>never pay</td>\n",
              "      <td>never pay</td>\n",
              "      <td>soft</td>\n",
              "      <td>1</td>\n",
              "      <td>3</td>\n",
              "      <td>seasonal</td>\n",
              "      <td>rainwater harvesting</td>\n",
              "      <td>2</td>\n",
              "      <td>surface</td>\n",
              "      <td>1</td>\n",
              "      <td>communal standpipe</td>\n",
              "      <td>1</td>\n",
              "      <td>functional</td>\n",
              "      <td>rainwater harvesting</td>\n",
              "      <td>good</td>\n",
              "    </tr>\n",
              "  </tbody>\n",
              "</table>\n",
              "</div>"
            ],
            "text/plain": [
              "      id  amount_tsh  ...      source_type_name quality_group_name\n",
              "0  69572      6000.0  ...                spring               good\n",
              "1   8776         0.0  ...  rainwater harvesting               good\n",
              "2  34310        25.0  ...                   dam               good\n",
              "3  67743         0.0  ...              borehole               good\n",
              "4  19728         0.0  ...  rainwater harvesting               good\n",
              "\n",
              "[5 rows x 44 columns]"
            ]
          },
          "metadata": {
            "tags": []
          },
          "execution_count": 1
        }
      ]
    },
    {
      "cell_type": "code",
      "metadata": {
        "id": "ewKPfAe-XQA3",
        "colab_type": "code",
        "colab": {
          "base_uri": "https://localhost:8080/",
          "height": 105
        },
        "outputId": "36a82418-0abf-4ac8-b8d3-1b7a06f0c859"
      },
      "source": [
        "# Let's load additional pandas features\n",
        "import time\n",
        "import seaborn as sns\n",
        "import warnings\n",
        "import itertools\n",
        "import matplotlib.pyplot as plt\n",
        "import matplotlib.ticker as ticker\n",
        "from matplotlib.ticker import NullFormatter\n",
        "import matplotlib.image as mpimg\n",
        "import numpy as np\n",
        "import pydotplus\n",
        "from sklearn import preprocessing\n",
        "from sklearn.model_selection import train_test_split, GridSearchCV\n",
        "from sklearn.tree import DecisionTreeClassifier\n",
        "from sklearn.ensemble import RandomForestClassifier\n",
        "from sklearn import metrics\n",
        "from sklearn.metrics import classification_report, confusion_matrix\n",
        "from sklearn.externals.six import StringIO\n",
        "from sklearn import tree\n",
        "import scipy.stats as stats\n",
        "from pandas import set_option\n",
        "from sklearn.linear_model import LogisticRegression\n",
        "from sklearn.svm import SVC\n",
        "from sklearn.pipeline import make_pipeline\n",
        "from sklearn.model_selection import cross_val_score\n",
        "from sklearn.neighbors import KNeighborsClassifier\n",
        "from sklearn.preprocessing import StandardScaler\n",
        "import xgboost as xgb\n",
        "from xgboost import XGBClassifier\n",
        "from datetime import datetime\n",
        "\n",
        "\n",
        "\n"
      ],
      "execution_count": 2,
      "outputs": [
        {
          "output_type": "stream",
          "text": [
            "/usr/local/lib/python3.6/dist-packages/statsmodels/tools/_testing.py:19: FutureWarning: pandas.util.testing is deprecated. Use the functions in the public API at pandas.testing instead.\n",
            "  import pandas.util.testing as tm\n",
            "/usr/local/lib/python3.6/dist-packages/sklearn/externals/six.py:31: FutureWarning: The module is deprecated in version 0.21 and will be removed in version 0.23 since we've dropped support for Python 2.7. Please rely on the official version of six (https://pypi.org/project/six/).\n",
            "  \"(https://pypi.org/project/six/).\", FutureWarning)\n"
          ],
          "name": "stderr"
        }
      ]
    },
    {
      "cell_type": "code",
      "metadata": {
        "id": "tYHFR-_uz9YV",
        "colab_type": "code",
        "colab": {
          "base_uri": "https://localhost:8080/",
          "height": 884
        },
        "outputId": "2f642780-48cd-4fae-9aca-7afc15c74e1a"
      },
      "source": [
        "# Let's see our Dtype information\n",
        "water.info()"
      ],
      "execution_count": 3,
      "outputs": [
        {
          "output_type": "stream",
          "text": [
            "<class 'pandas.core.frame.DataFrame'>\n",
            "RangeIndex: 59400 entries, 0 to 59399\n",
            "Data columns (total 44 columns):\n",
            " #   Column                 Non-Null Count  Dtype  \n",
            "---  ------                 --------------  -----  \n",
            " 0   id                     59400 non-null  int64  \n",
            " 1   amount_tsh             59400 non-null  float64\n",
            " 2   date_recorded          59400 non-null  object \n",
            " 3   funder                 55765 non-null  object \n",
            " 4   gps_height             59400 non-null  int64  \n",
            " 5   installer              55745 non-null  object \n",
            " 6   longitude              59400 non-null  float64\n",
            " 7   latitude               59400 non-null  float64\n",
            " 8   wpt_name               59400 non-null  object \n",
            " 9   num_private            59400 non-null  int64  \n",
            " 10  basin                  59400 non-null  object \n",
            " 11  subvillage             59029 non-null  object \n",
            " 12  region                 59400 non-null  object \n",
            " 13  region_code            59400 non-null  int64  \n",
            " 14  district_code          59400 non-null  int64  \n",
            " 15  lga                    59400 non-null  object \n",
            " 16  ward                   59400 non-null  object \n",
            " 17  population             59400 non-null  int64  \n",
            " 18  public_meeting         56066 non-null  object \n",
            " 19  recorded_by            59400 non-null  object \n",
            " 20  scheme_management      55523 non-null  object \n",
            " 21  scheme_name            31234 non-null  object \n",
            " 22  permit                 56344 non-null  object \n",
            " 23  construction_year      59400 non-null  int64  \n",
            " 24  extraction_type        59400 non-null  object \n",
            " 25  extraction_type_group  59400 non-null  object \n",
            " 26  extraction_type_class  59400 non-null  object \n",
            " 27  management             59400 non-null  object \n",
            " 28  management_group       59400 non-null  object \n",
            " 29  payment                59400 non-null  object \n",
            " 30  payment_type           59400 non-null  object \n",
            " 31  water_quality          59400 non-null  object \n",
            " 32  quality_group          59400 non-null  object \n",
            " 33  quantity               59400 non-null  int64  \n",
            " 34  quantity_group         59400 non-null  object \n",
            " 35  source                 59400 non-null  object \n",
            " 36  source_type            59400 non-null  int64  \n",
            " 37  source_class           59400 non-null  object \n",
            " 38  waterpoint_type        59400 non-null  int64  \n",
            " 39  waterpoint_type_group  59400 non-null  object \n",
            " 40  status_group           59400 non-null  int64  \n",
            " 41  status_group_name      59400 non-null  object \n",
            " 42  source_type_name       59400 non-null  object \n",
            " 43  quality_group_name     59400 non-null  object \n",
            "dtypes: float64(3), int64(11), object(30)\n",
            "memory usage: 19.9+ MB\n"
          ],
          "name": "stdout"
        }
      ]
    },
    {
      "cell_type": "code",
      "metadata": {
        "id": "b0sxHq8jb26i",
        "colab_type": "code",
        "colab": {
          "base_uri": "https://localhost:8080/",
          "height": 973
        },
        "outputId": "77ef9a59-f7ce-43bc-9eb1-e4bc084b57ac"
      },
      "source": [
        "# Let's do a Correlation Matrix \n",
        "corr = water.corr()\n",
        "f, ax = plt.subplots(figsize=(17, 17))\n",
        "sns.heatmap(corr, square=True, cbar=True, annot=True, fmt='.3f',\n",
        "            xticklabels=True, yticklabels=True, \n",
        "            cmap=\"coolwarm\", linewidth=1, ax=ax)\n",
        "plt.title('PUMP IT UP - HEATMAP', size=17);\n",
        "\n"
      ],
      "execution_count": 4,
      "outputs": [
        {
          "output_type": "display_data",
          "data": {
            "image/png": "[encoded data removed]",
            "text/plain": [
              "<Figure size 1224x1224 with 2 Axes>"
            ]
          },
          "metadata": {
            "tags": [],
            "needs_background": "light"
          }
        }
      ]
    },
    {
      "cell_type": "code",
      "metadata": {
        "id": "XWzUMen7aQ1y",
        "colab_type": "code",
        "colab": {
          "base_uri": "https://localhost:8080/",
          "height": 153
        },
        "outputId": "40c7bbd0-ec17-4555-a4d5-9e4d666693ba"
      },
      "source": [
        "# Let's create a count of Status Group values by Waterpoint Type with a Bar Chart\n",
        "water_type = water.groupby('waterpoint_type_group')[['status_group']].count()\n",
        "print(water_type)\n",
        "\n"
      ],
      "execution_count": 5,
      "outputs": [
        {
          "output_type": "stream",
          "text": [
            "                       status_group\n",
            "waterpoint_type_group              \n",
            "cattle trough                   116\n",
            "communal standpipe            34625\n",
            "dam                               7\n",
            "hand pump                     17488\n",
            "improved spring                 784\n",
            "other                          6380\n"
          ],
          "name": "stdout"
        }
      ]
    },
    {
      "cell_type": "code",
      "metadata": {
        "id": "naC3welB0k8S",
        "colab_type": "code",
        "colab": {
          "base_uri": "https://localhost:8080/",
          "height": 170
        },
        "outputId": "571f262b-2fe5-47f4-b763-256f4b4ff080"
      },
      "source": [
        "# Let's see the Numeric Coding for the Waterpoint Type\n",
        "water_type = water.groupby('waterpoint_type')[['status_group']].count()\n",
        "print(water_type)"
      ],
      "execution_count": 6,
      "outputs": [
        {
          "output_type": "stream",
          "text": [
            "                 status_group\n",
            "waterpoint_type              \n",
            "0                         116\n",
            "1                       28522\n",
            "2                       17488\n",
            "3                        6380\n",
            "4                        6103\n",
            "5                         784\n",
            "7                           7\n"
          ],
          "name": "stdout"
        }
      ]
    },
    {
      "cell_type": "code",
      "metadata": {
        "id": "5q-fTnpPv_zu",
        "colab_type": "code",
        "colab": {
          "base_uri": "https://localhost:8080/",
          "height": 51
        },
        "outputId": "f9724754-21b3-456a-cd36-e38ff941afb3"
      },
      "source": [
        "# Let's see the above sum of the Waterpoint Type\n",
        "water_type = water.groupby('waterpoint_type_group')[['status_group']].count().sum()\n",
        "print(water_type)"
      ],
      "execution_count": null,
      "outputs": [
        {
          "output_type": "stream",
          "text": [
            "status_group    59400\n",
            "dtype: int64\n"
          ],
          "name": "stdout"
        }
      ]
    },
    {
      "cell_type": "code",
      "metadata": {
        "id": "T3HbTPiSqL6X",
        "colab_type": "code",
        "colab": {
          "base_uri": "https://localhost:8080/",
          "height": 350
        },
        "outputId": "53fd3a35-c7ac-4486-e2ea-fac2b87ee370"
      },
      "source": [
        "pump_count = water['waterpoint_type_group'].value_counts()\n",
        "pump_count = pump_count[:7,]\n",
        "plt.figure(figsize=(20,5))\n",
        "sns.barplot(pump_count.index, pump_count.values, alpha=0.5)\n",
        "plt.title('Functional Status/Pump Count vs. Waterpoint Type')\n",
        "plt.ylabel('Pump Count')\n",
        "plt.xlabel('Waterpoint Type')\n",
        "plt.show()"
      ],
      "execution_count": 7,
      "outputs": [
        {
          "output_type": "display_data",
          "data": {
            "image/png": "[encoded data removed]",
            "text/plain": [
              "<Figure size 1440x360 with 1 Axes>"
            ]
          },
          "metadata": {
            "tags": [],
            "needs_background": "light"
          }
        }
      ]
    },
    {
      "cell_type": "code",
      "metadata": {
        "id": "0oDFtn8InbY3",
        "colab_type": "code",
        "colab": {
          "base_uri": "https://localhost:8080/",
          "height": 282
        },
        "outputId": "ebcded1a-0788-41b1-9307-30d92019b128"
      },
      "source": [
        "# Let's create a count of Status Group values by Region with a Bar Chart\n",
        "region = water.groupby('region')[['status_group']].count()\n",
        "region.plot(kind='barh')\n"
      ],
      "execution_count": 8,
      "outputs": [
        {
          "output_type": "execute_result",
          "data": {
            "text/plain": [
              "<matplotlib.axes._subplots.AxesSubplot at 0x7ff0757379e8>"
            ]
          },
          "metadata": {
            "tags": []
          },
          "execution_count": 8
        },
        {
          "output_type": "display_data",
          "data": {
            "image/png": "[encoded data removed]",
            "text/plain": [
              "<Figure size 432x288 with 1 Axes>"
            ]
          },
          "metadata": {
            "tags": [],
            "needs_background": "light"
          }
        }
      ]
    },
    {
      "cell_type": "code",
      "metadata": {
        "id": "NLe0su4fyDga",
        "colab_type": "code",
        "colab": {
          "base_uri": "https://localhost:8080/",
          "height": 350
        },
        "outputId": "67ce3220-00d1-411e-fa89-a609c0b20786"
      },
      "source": [
        "region_count = water['region'].value_counts()\n",
        "region_count = region_count[:21,]\n",
        "plt.figure(figsize=(20,5))\n",
        "sns.barplot(region_count.index, region_count.values, alpha=0.5)\n",
        "plt.title('Functional Status/Pump Count vs. Tanzaian Region')\n",
        "plt.ylabel('Pump Status Count')\n",
        "plt.xlabel('Region')\n",
        "plt.show()\n",
        "\n",
        "\n",
        "\n"
      ],
      "execution_count": 9,
      "outputs": [
        {
          "output_type": "display_data",
          "data": {
            "image/png": "[encoded data removed]",
            "text/plain": [
              "<Figure size 1440x360 with 1 Axes>"
            ]
          },
          "metadata": {
            "tags": [],
            "needs_background": "light"
          }
        }
      ]
    },
    {
      "cell_type": "code",
      "metadata": {
        "id": "Tuw70fYW8C6G",
        "colab_type": "code",
        "colab": {
          "base_uri": "https://localhost:8080/",
          "height": 408
        },
        "outputId": "0793a5ff-ddc7-4e9d-cbca-5d5357f8f16b"
      },
      "source": [
        "# Let's reverse the above chart to look at functional well status in the region\n",
        "region = water.groupby('region')[['status_group_name']].count()\n",
        "print(region)\n"
      ],
      "execution_count": 10,
      "outputs": [
        {
          "output_type": "stream",
          "text": [
            "               status_group_name\n",
            "region                          \n",
            "Arusha                      3350\n",
            "Dar es Salaam                805\n",
            "Dodoma                      2201\n",
            "Iringa                      5294\n",
            "Kagera                      3316\n",
            "Kigoma                      2816\n",
            "Kilimanjaro                 4379\n",
            "Lindi                       1546\n",
            "Manyara                     1583\n",
            "Mara                        1969\n",
            "Mbeya                       4639\n",
            "Morogoro                    4006\n",
            "Mtwara                      1730\n",
            "Mwanza                      3102\n",
            "Pwani                       2635\n",
            "Rukwa                       1808\n",
            "Ruvuma                      2640\n",
            "Shinyanga                   4982\n",
            "Singida                     2093\n",
            "Tabora                      1959\n",
            "Tanga                       2547\n"
          ],
          "name": "stdout"
        }
      ]
    },
    {
      "cell_type": "code",
      "metadata": {
        "id": "7jPVCOuJnyTv",
        "colab_type": "code",
        "colab": {
          "base_uri": "https://localhost:8080/",
          "height": 411
        },
        "outputId": "2de8282c-9112-47aa-a4e5-c396688b571b"
      },
      "source": [
        "# Let's try and convert our Column \"date_recorded\" to a pandas \"datatime\" column called \"Date\"\n",
        "water['Date'] = pd.to_datetime(water['date_recorded'], format='%m/%d/%Y')\n",
        "water.head()"
      ],
      "execution_count": 11,
      "outputs": [
        {
          "output_type": "execute_result",
          "data": {
            "text/html": [
              "<div>\n",
              "<style scoped>\n",
              "    .dataframe tbody tr th:only-of-type {\n",
              "        vertical-align: middle;\n",
              "    }\n",
              "\n",
              "    .dataframe tbody tr th {\n",
              "        vertical-align: top;\n",
              "    }\n",
              "\n",
              "    .dataframe thead th {\n",
              "        text-align: right;\n",
              "    }\n",
              "</style>\n",
              "<table border=\"1\" class=\"dataframe\">\n",
              "  <thead>\n",
              "    <tr style=\"text-align: right;\">\n",
              "      <th></th>\n",
              "      <th>id</th>\n",
              "      <th>amount_tsh</th>\n",
              "      <th>date_recorded</th>\n",
              "      <th>funder</th>\n",
              "      <th>gps_height</th>\n",
              "      <th>installer</th>\n",
              "      <th>longitude</th>\n",
              "      <th>latitude</th>\n",
              "      <th>wpt_name</th>\n",
              "      <th>num_private</th>\n",
              "      <th>basin</th>\n",
              "      <th>subvillage</th>\n",
              "      <th>region</th>\n",
              "      <th>region_code</th>\n",
              "      <th>district_code</th>\n",
              "      <th>lga</th>\n",
              "      <th>ward</th>\n",
              "      <th>population</th>\n",
              "      <th>public_meeting</th>\n",
              "      <th>recorded_by</th>\n",
              "      <th>scheme_management</th>\n",
              "      <th>scheme_name</th>\n",
              "      <th>permit</th>\n",
              "      <th>construction_year</th>\n",
              "      <th>extraction_type</th>\n",
              "      <th>extraction_type_group</th>\n",
              "      <th>extraction_type_class</th>\n",
              "      <th>management</th>\n",
              "      <th>management_group</th>\n",
              "      <th>payment</th>\n",
              "      <th>payment_type</th>\n",
              "      <th>water_quality</th>\n",
              "      <th>quality_group</th>\n",
              "      <th>quantity</th>\n",
              "      <th>quantity_group</th>\n",
              "      <th>source</th>\n",
              "      <th>source_type</th>\n",
              "      <th>source_class</th>\n",
              "      <th>waterpoint_type</th>\n",
              "      <th>waterpoint_type_group</th>\n",
              "      <th>status_group</th>\n",
              "      <th>status_group_name</th>\n",
              "      <th>source_type_name</th>\n",
              "      <th>quality_group_name</th>\n",
              "      <th>Date</th>\n",
              "    </tr>\n",
              "  </thead>\n",
              "  <tbody>\n",
              "    <tr>\n",
              "      <th>0</th>\n",
              "      <td>69572</td>\n",
              "      <td>6000.0</td>\n",
              "      <td>3/14/2011</td>\n",
              "      <td>Roman</td>\n",
              "      <td>1390</td>\n",
              "      <td>Roman</td>\n",
              "      <td>34.938093</td>\n",
              "      <td>-9.856322</td>\n",
              "      <td>none</td>\n",
              "      <td>0</td>\n",
              "      <td>Lake Nyasa</td>\n",
              "      <td>Mnyusi B</td>\n",
              "      <td>Iringa</td>\n",
              "      <td>11</td>\n",
              "      <td>5</td>\n",
              "      <td>Ludewa</td>\n",
              "      <td>Mundindi</td>\n",
              "      <td>109</td>\n",
              "      <td>True</td>\n",
              "      <td>GeoData Consultants Ltd</td>\n",
              "      <td>VWC</td>\n",
              "      <td>Roman</td>\n",
              "      <td>False</td>\n",
              "      <td>1999</td>\n",
              "      <td>gravity</td>\n",
              "      <td>gravity</td>\n",
              "      <td>1</td>\n",
              "      <td>vwc</td>\n",
              "      <td>user-group</td>\n",
              "      <td>pay annually</td>\n",
              "      <td>annually</td>\n",
              "      <td>soft</td>\n",
              "      <td>1</td>\n",
              "      <td>1</td>\n",
              "      <td>enough</td>\n",
              "      <td>spring</td>\n",
              "      <td>1</td>\n",
              "      <td>groundwater</td>\n",
              "      <td>1</td>\n",
              "      <td>communal standpipe</td>\n",
              "      <td>1</td>\n",
              "      <td>functional</td>\n",
              "      <td>spring</td>\n",
              "      <td>good</td>\n",
              "      <td>2011-03-14</td>\n",
              "    </tr>\n",
              "    <tr>\n",
              "      <th>1</th>\n",
              "      <td>8776</td>\n",
              "      <td>0.0</td>\n",
              "      <td>3/6/2013</td>\n",
              "      <td>Grumeti</td>\n",
              "      <td>1399</td>\n",
              "      <td>GRUMETI</td>\n",
              "      <td>34.698766</td>\n",
              "      <td>-2.147466</td>\n",
              "      <td>Zahanati</td>\n",
              "      <td>0</td>\n",
              "      <td>Lake Victoria</td>\n",
              "      <td>Nyamara</td>\n",
              "      <td>Mara</td>\n",
              "      <td>20</td>\n",
              "      <td>2</td>\n",
              "      <td>Serengeti</td>\n",
              "      <td>Natta</td>\n",
              "      <td>280</td>\n",
              "      <td>NaN</td>\n",
              "      <td>GeoData Consultants Ltd</td>\n",
              "      <td>Other</td>\n",
              "      <td>NaN</td>\n",
              "      <td>True</td>\n",
              "      <td>2010</td>\n",
              "      <td>gravity</td>\n",
              "      <td>gravity</td>\n",
              "      <td>1</td>\n",
              "      <td>wug</td>\n",
              "      <td>user-group</td>\n",
              "      <td>never pay</td>\n",
              "      <td>never pay</td>\n",
              "      <td>soft</td>\n",
              "      <td>1</td>\n",
              "      <td>2</td>\n",
              "      <td>insufficient</td>\n",
              "      <td>rainwater harvesting</td>\n",
              "      <td>2</td>\n",
              "      <td>surface</td>\n",
              "      <td>1</td>\n",
              "      <td>communal standpipe</td>\n",
              "      <td>1</td>\n",
              "      <td>functional</td>\n",
              "      <td>rainwater harvesting</td>\n",
              "      <td>good</td>\n",
              "      <td>2013-03-06</td>\n",
              "    </tr>\n",
              "    <tr>\n",
              "      <th>2</th>\n",
              "      <td>34310</td>\n",
              "      <td>25.0</td>\n",
              "      <td>2/25/2013</td>\n",
              "      <td>Lottery Club</td>\n",
              "      <td>686</td>\n",
              "      <td>World vision</td>\n",
              "      <td>37.460664</td>\n",
              "      <td>-3.821329</td>\n",
              "      <td>Kwa Mahundi</td>\n",
              "      <td>0</td>\n",
              "      <td>Pangani</td>\n",
              "      <td>Majengo</td>\n",
              "      <td>Manyara</td>\n",
              "      <td>21</td>\n",
              "      <td>4</td>\n",
              "      <td>Simanjiro</td>\n",
              "      <td>Ngorika</td>\n",
              "      <td>250</td>\n",
              "      <td>True</td>\n",
              "      <td>GeoData Consultants Ltd</td>\n",
              "      <td>VWC</td>\n",
              "      <td>Nyumba ya mungu pipe scheme</td>\n",
              "      <td>True</td>\n",
              "      <td>2009</td>\n",
              "      <td>gravity</td>\n",
              "      <td>gravity</td>\n",
              "      <td>1</td>\n",
              "      <td>vwc</td>\n",
              "      <td>user-group</td>\n",
              "      <td>pay per bucket</td>\n",
              "      <td>per bucket</td>\n",
              "      <td>soft</td>\n",
              "      <td>1</td>\n",
              "      <td>1</td>\n",
              "      <td>enough</td>\n",
              "      <td>dam</td>\n",
              "      <td>3</td>\n",
              "      <td>surface</td>\n",
              "      <td>4</td>\n",
              "      <td>communal standpipe</td>\n",
              "      <td>1</td>\n",
              "      <td>functional</td>\n",
              "      <td>dam</td>\n",
              "      <td>good</td>\n",
              "      <td>2013-02-25</td>\n",
              "    </tr>\n",
              "    <tr>\n",
              "      <th>3</th>\n",
              "      <td>67743</td>\n",
              "      <td>0.0</td>\n",
              "      <td>1/28/2013</td>\n",
              "      <td>Unicef</td>\n",
              "      <td>263</td>\n",
              "      <td>UNICEF</td>\n",
              "      <td>38.486161</td>\n",
              "      <td>-11.155298</td>\n",
              "      <td>Zahanati Ya Nanyumbu</td>\n",
              "      <td>0</td>\n",
              "      <td>Ruvuma / Southern Coast</td>\n",
              "      <td>Mahakamani</td>\n",
              "      <td>Mtwara</td>\n",
              "      <td>90</td>\n",
              "      <td>63</td>\n",
              "      <td>Nanyumbu</td>\n",
              "      <td>Nanyumbu</td>\n",
              "      <td>58</td>\n",
              "      <td>True</td>\n",
              "      <td>GeoData Consultants Ltd</td>\n",
              "      <td>VWC</td>\n",
              "      <td>NaN</td>\n",
              "      <td>True</td>\n",
              "      <td>1986</td>\n",
              "      <td>submersible</td>\n",
              "      <td>submersible</td>\n",
              "      <td>5</td>\n",
              "      <td>vwc</td>\n",
              "      <td>user-group</td>\n",
              "      <td>never pay</td>\n",
              "      <td>never pay</td>\n",
              "      <td>soft</td>\n",
              "      <td>1</td>\n",
              "      <td>0</td>\n",
              "      <td>dry</td>\n",
              "      <td>machine dbh</td>\n",
              "      <td>4</td>\n",
              "      <td>groundwater</td>\n",
              "      <td>4</td>\n",
              "      <td>communal standpipe</td>\n",
              "      <td>0</td>\n",
              "      <td>non functional</td>\n",
              "      <td>borehole</td>\n",
              "      <td>good</td>\n",
              "      <td>2013-01-28</td>\n",
              "    </tr>\n",
              "    <tr>\n",
              "      <th>4</th>\n",
              "      <td>19728</td>\n",
              "      <td>0.0</td>\n",
              "      <td>7/13/2011</td>\n",
              "      <td>Action In A</td>\n",
              "      <td>0</td>\n",
              "      <td>Artisan</td>\n",
              "      <td>31.130847</td>\n",
              "      <td>-1.825359</td>\n",
              "      <td>Shuleni</td>\n",
              "      <td>0</td>\n",
              "      <td>Lake Victoria</td>\n",
              "      <td>Kyanyamisa</td>\n",
              "      <td>Kagera</td>\n",
              "      <td>18</td>\n",
              "      <td>1</td>\n",
              "      <td>Karagwe</td>\n",
              "      <td>Nyakasimbi</td>\n",
              "      <td>0</td>\n",
              "      <td>True</td>\n",
              "      <td>GeoData Consultants Ltd</td>\n",
              "      <td>NaN</td>\n",
              "      <td>NaN</td>\n",
              "      <td>True</td>\n",
              "      <td>0</td>\n",
              "      <td>gravity</td>\n",
              "      <td>gravity</td>\n",
              "      <td>1</td>\n",
              "      <td>other</td>\n",
              "      <td>other</td>\n",
              "      <td>never pay</td>\n",
              "      <td>never pay</td>\n",
              "      <td>soft</td>\n",
              "      <td>1</td>\n",
              "      <td>3</td>\n",
              "      <td>seasonal</td>\n",
              "      <td>rainwater harvesting</td>\n",
              "      <td>2</td>\n",
              "      <td>surface</td>\n",
              "      <td>1</td>\n",
              "      <td>communal standpipe</td>\n",
              "      <td>1</td>\n",
              "      <td>functional</td>\n",
              "      <td>rainwater harvesting</td>\n",
              "      <td>good</td>\n",
              "      <td>2011-07-13</td>\n",
              "    </tr>\n",
              "  </tbody>\n",
              "</table>\n",
              "</div>"
            ],
            "text/plain": [
              "      id  amount_tsh  ... quality_group_name       Date\n",
              "0  69572      6000.0  ...               good 2011-03-14\n",
              "1   8776         0.0  ...               good 2013-03-06\n",
              "2  34310        25.0  ...               good 2013-02-25\n",
              "3  67743         0.0  ...               good 2013-01-28\n",
              "4  19728         0.0  ...               good 2011-07-13\n",
              "\n",
              "[5 rows x 45 columns]"
            ]
          },
          "metadata": {
            "tags": []
          },
          "execution_count": 11
        }
      ]
    },
    {
      "cell_type": "code",
      "metadata": {
        "id": "IEt3z6Ibpq1g",
        "colab_type": "code",
        "colab": {
          "base_uri": "https://localhost:8080/",
          "height": 901
        },
        "outputId": "fc485476-8f4f-4dcb-a476-613c9fe9a126"
      },
      "source": [
        "# Let's see Dtypes again\n",
        "water.info()"
      ],
      "execution_count": 12,
      "outputs": [
        {
          "output_type": "stream",
          "text": [
            "<class 'pandas.core.frame.DataFrame'>\n",
            "RangeIndex: 59400 entries, 0 to 59399\n",
            "Data columns (total 45 columns):\n",
            " #   Column                 Non-Null Count  Dtype         \n",
            "---  ------                 --------------  -----         \n",
            " 0   id                     59400 non-null  int64         \n",
            " 1   amount_tsh             59400 non-null  float64       \n",
            " 2   date_recorded          59400 non-null  object        \n",
            " 3   funder                 55765 non-null  object        \n",
            " 4   gps_height             59400 non-null  int64         \n",
            " 5   installer              55745 non-null  object        \n",
            " 6   longitude              59400 non-null  float64       \n",
            " 7   latitude               59400 non-null  float64       \n",
            " 8   wpt_name               59400 non-null  object        \n",
            " 9   num_private            59400 non-null  int64         \n",
            " 10  basin                  59400 non-null  object        \n",
            " 11  subvillage             59029 non-null  object        \n",
            " 12  region                 59400 non-null  object        \n",
            " 13  region_code            59400 non-null  int64         \n",
            " 14  district_code          59400 non-null  int64         \n",
            " 15  lga                    59400 non-null  object        \n",
            " 16  ward                   59400 non-null  object        \n",
            " 17  population             59400 non-null  int64         \n",
            " 18  public_meeting         56066 non-null  object        \n",
            " 19  recorded_by            59400 non-null  object        \n",
            " 20  scheme_management      55523 non-null  object        \n",
            " 21  scheme_name            31234 non-null  object        \n",
            " 22  permit                 56344 non-null  object        \n",
            " 23  construction_year      59400 non-null  int64         \n",
            " 24  extraction_type        59400 non-null  object        \n",
            " 25  extraction_type_group  59400 non-null  object        \n",
            " 26  extraction_type_class  59400 non-null  object        \n",
            " 27  management             59400 non-null  object        \n",
            " 28  management_group       59400 non-null  object        \n",
            " 29  payment                59400 non-null  object        \n",
            " 30  payment_type           59400 non-null  object        \n",
            " 31  water_quality          59400 non-null  object        \n",
            " 32  quality_group          59400 non-null  object        \n",
            " 33  quantity               59400 non-null  int64         \n",
            " 34  quantity_group         59400 non-null  object        \n",
            " 35  source                 59400 non-null  object        \n",
            " 36  source_type            59400 non-null  int64         \n",
            " 37  source_class           59400 non-null  object        \n",
            " 38  waterpoint_type        59400 non-null  int64         \n",
            " 39  waterpoint_type_group  59400 non-null  object        \n",
            " 40  status_group           59400 non-null  int64         \n",
            " 41  status_group_name      59400 non-null  object        \n",
            " 42  source_type_name       59400 non-null  object        \n",
            " 43  quality_group_name     59400 non-null  object        \n",
            " 44  Date                   59400 non-null  datetime64[ns]\n",
            "dtypes: datetime64[ns](1), float64(3), int64(11), object(30)\n",
            "memory usage: 20.4+ MB\n"
          ],
          "name": "stdout"
        }
      ]
    },
    {
      "cell_type": "code",
      "metadata": {
        "id": "aFOwUoRKFucs",
        "colab_type": "code",
        "colab": {
          "base_uri": "https://localhost:8080/",
          "height": 34
        },
        "outputId": "894c47c7-0263-4057-e7b6-4d393de42b2d"
      },
      "source": [
        "# Let's try and replace our zero's in the Construction Year Column with the \"median value\" for that Column\n",
        "print(water['construction_year'].median())\n"
      ],
      "execution_count": 13,
      "outputs": [
        {
          "output_type": "stream",
          "text": [
            "1986.0\n"
          ],
          "name": "stdout"
        }
      ]
    },
    {
      "cell_type": "code",
      "metadata": {
        "id": "9wD6l4VaGd7G",
        "colab_type": "code",
        "colab": {
          "base_uri": "https://localhost:8080/",
          "height": 411
        },
        "outputId": "8a524072-e4be-45ef-c31d-caf97898debc"
      },
      "source": [
        "water['construction_year'] = water['construction_year'].replace(0, 1986.0)\n",
        "water.head(5)"
      ],
      "execution_count": 14,
      "outputs": [
        {
          "output_type": "execute_result",
          "data": {
            "text/html": [
              "<div>\n",
              "<style scoped>\n",
              "    .dataframe tbody tr th:only-of-type {\n",
              "        vertical-align: middle;\n",
              "    }\n",
              "\n",
              "    .dataframe tbody tr th {\n",
              "        vertical-align: top;\n",
              "    }\n",
              "\n",
              "    .dataframe thead th {\n",
              "        text-align: right;\n",
              "    }\n",
              "</style>\n",
              "<table border=\"1\" class=\"dataframe\">\n",
              "  <thead>\n",
              "    <tr style=\"text-align: right;\">\n",
              "      <th></th>\n",
              "      <th>id</th>\n",
              "      <th>amount_tsh</th>\n",
              "      <th>date_recorded</th>\n",
              "      <th>funder</th>\n",
              "      <th>gps_height</th>\n",
              "      <th>installer</th>\n",
              "      <th>longitude</th>\n",
              "      <th>latitude</th>\n",
              "      <th>wpt_name</th>\n",
              "      <th>num_private</th>\n",
              "      <th>basin</th>\n",
              "      <th>subvillage</th>\n",
              "      <th>region</th>\n",
              "      <th>region_code</th>\n",
              "      <th>district_code</th>\n",
              "      <th>lga</th>\n",
              "      <th>ward</th>\n",
              "      <th>population</th>\n",
              "      <th>public_meeting</th>\n",
              "      <th>recorded_by</th>\n",
              "      <th>scheme_management</th>\n",
              "      <th>scheme_name</th>\n",
              "      <th>permit</th>\n",
              "      <th>construction_year</th>\n",
              "      <th>extraction_type</th>\n",
              "      <th>extraction_type_group</th>\n",
              "      <th>extraction_type_class</th>\n",
              "      <th>management</th>\n",
              "      <th>management_group</th>\n",
              "      <th>payment</th>\n",
              "      <th>payment_type</th>\n",
              "      <th>water_quality</th>\n",
              "      <th>quality_group</th>\n",
              "      <th>quantity</th>\n",
              "      <th>quantity_group</th>\n",
              "      <th>source</th>\n",
              "      <th>source_type</th>\n",
              "      <th>source_class</th>\n",
              "      <th>waterpoint_type</th>\n",
              "      <th>waterpoint_type_group</th>\n",
              "      <th>status_group</th>\n",
              "      <th>status_group_name</th>\n",
              "      <th>source_type_name</th>\n",
              "      <th>quality_group_name</th>\n",
              "      <th>Date</th>\n",
              "    </tr>\n",
              "  </thead>\n",
              "  <tbody>\n",
              "    <tr>\n",
              "      <th>0</th>\n",
              "      <td>69572</td>\n",
              "      <td>6000.0</td>\n",
              "      <td>3/14/2011</td>\n",
              "      <td>Roman</td>\n",
              "      <td>1390</td>\n",
              "      <td>Roman</td>\n",
              "      <td>34.938093</td>\n",
              "      <td>-9.856322</td>\n",
              "      <td>none</td>\n",
              "      <td>0</td>\n",
              "      <td>Lake Nyasa</td>\n",
              "      <td>Mnyusi B</td>\n",
              "      <td>Iringa</td>\n",
              "      <td>11</td>\n",
              "      <td>5</td>\n",
              "      <td>Ludewa</td>\n",
              "      <td>Mundindi</td>\n",
              "      <td>109</td>\n",
              "      <td>True</td>\n",
              "      <td>GeoData Consultants Ltd</td>\n",
              "      <td>VWC</td>\n",
              "      <td>Roman</td>\n",
              "      <td>False</td>\n",
              "      <td>1999</td>\n",
              "      <td>gravity</td>\n",
              "      <td>gravity</td>\n",
              "      <td>1</td>\n",
              "      <td>vwc</td>\n",
              "      <td>user-group</td>\n",
              "      <td>pay annually</td>\n",
              "      <td>annually</td>\n",
              "      <td>soft</td>\n",
              "      <td>1</td>\n",
              "      <td>1</td>\n",
              "      <td>enough</td>\n",
              "      <td>spring</td>\n",
              "      <td>1</td>\n",
              "      <td>groundwater</td>\n",
              "      <td>1</td>\n",
              "      <td>communal standpipe</td>\n",
              "      <td>1</td>\n",
              "      <td>functional</td>\n",
              "      <td>spring</td>\n",
              "      <td>good</td>\n",
              "      <td>2011-03-14</td>\n",
              "    </tr>\n",
              "    <tr>\n",
              "      <th>1</th>\n",
              "      <td>8776</td>\n",
              "      <td>0.0</td>\n",
              "      <td>3/6/2013</td>\n",
              "      <td>Grumeti</td>\n",
              "      <td>1399</td>\n",
              "      <td>GRUMETI</td>\n",
              "      <td>34.698766</td>\n",
              "      <td>-2.147466</td>\n",
              "      <td>Zahanati</td>\n",
              "      <td>0</td>\n",
              "      <td>Lake Victoria</td>\n",
              "      <td>Nyamara</td>\n",
              "      <td>Mara</td>\n",
              "      <td>20</td>\n",
              "      <td>2</td>\n",
              "      <td>Serengeti</td>\n",
              "      <td>Natta</td>\n",
              "      <td>280</td>\n",
              "      <td>NaN</td>\n",
              "      <td>GeoData Consultants Ltd</td>\n",
              "      <td>Other</td>\n",
              "      <td>NaN</td>\n",
              "      <td>True</td>\n",
              "      <td>2010</td>\n",
              "      <td>gravity</td>\n",
              "      <td>gravity</td>\n",
              "      <td>1</td>\n",
              "      <td>wug</td>\n",
              "      <td>user-group</td>\n",
              "      <td>never pay</td>\n",
              "      <td>never pay</td>\n",
              "      <td>soft</td>\n",
              "      <td>1</td>\n",
              "      <td>2</td>\n",
              "      <td>insufficient</td>\n",
              "      <td>rainwater harvesting</td>\n",
              "      <td>2</td>\n",
              "      <td>surface</td>\n",
              "      <td>1</td>\n",
              "      <td>communal standpipe</td>\n",
              "      <td>1</td>\n",
              "      <td>functional</td>\n",
              "      <td>rainwater harvesting</td>\n",
              "      <td>good</td>\n",
              "      <td>2013-03-06</td>\n",
              "    </tr>\n",
              "    <tr>\n",
              "      <th>2</th>\n",
              "      <td>34310</td>\n",
              "      <td>25.0</td>\n",
              "      <td>2/25/2013</td>\n",
              "      <td>Lottery Club</td>\n",
              "      <td>686</td>\n",
              "      <td>World vision</td>\n",
              "      <td>37.460664</td>\n",
              "      <td>-3.821329</td>\n",
              "      <td>Kwa Mahundi</td>\n",
              "      <td>0</td>\n",
              "      <td>Pangani</td>\n",
              "      <td>Majengo</td>\n",
              "      <td>Manyara</td>\n",
              "      <td>21</td>\n",
              "      <td>4</td>\n",
              "      <td>Simanjiro</td>\n",
              "      <td>Ngorika</td>\n",
              "      <td>250</td>\n",
              "      <td>True</td>\n",
              "      <td>GeoData Consultants Ltd</td>\n",
              "      <td>VWC</td>\n",
              "      <td>Nyumba ya mungu pipe scheme</td>\n",
              "      <td>True</td>\n",
              "      <td>2009</td>\n",
              "      <td>gravity</td>\n",
              "      <td>gravity</td>\n",
              "      <td>1</td>\n",
              "      <td>vwc</td>\n",
              "      <td>user-group</td>\n",
              "      <td>pay per bucket</td>\n",
              "      <td>per bucket</td>\n",
              "      <td>soft</td>\n",
              "      <td>1</td>\n",
              "      <td>1</td>\n",
              "      <td>enough</td>\n",
              "      <td>dam</td>\n",
              "      <td>3</td>\n",
              "      <td>surface</td>\n",
              "      <td>4</td>\n",
              "      <td>communal standpipe</td>\n",
              "      <td>1</td>\n",
              "      <td>functional</td>\n",
              "      <td>dam</td>\n",
              "      <td>good</td>\n",
              "      <td>2013-02-25</td>\n",
              "    </tr>\n",
              "    <tr>\n",
              "      <th>3</th>\n",
              "      <td>67743</td>\n",
              "      <td>0.0</td>\n",
              "      <td>1/28/2013</td>\n",
              "      <td>Unicef</td>\n",
              "      <td>263</td>\n",
              "      <td>UNICEF</td>\n",
              "      <td>38.486161</td>\n",
              "      <td>-11.155298</td>\n",
              "      <td>Zahanati Ya Nanyumbu</td>\n",
              "      <td>0</td>\n",
              "      <td>Ruvuma / Southern Coast</td>\n",
              "      <td>Mahakamani</td>\n",
              "      <td>Mtwara</td>\n",
              "      <td>90</td>\n",
              "      <td>63</td>\n",
              "      <td>Nanyumbu</td>\n",
              "      <td>Nanyumbu</td>\n",
              "      <td>58</td>\n",
              "      <td>True</td>\n",
              "      <td>GeoData Consultants Ltd</td>\n",
              "      <td>VWC</td>\n",
              "      <td>NaN</td>\n",
              "      <td>True</td>\n",
              "      <td>1986</td>\n",
              "      <td>submersible</td>\n",
              "      <td>submersible</td>\n",
              "      <td>5</td>\n",
              "      <td>vwc</td>\n",
              "      <td>user-group</td>\n",
              "      <td>never pay</td>\n",
              "      <td>never pay</td>\n",
              "      <td>soft</td>\n",
              "      <td>1</td>\n",
              "      <td>0</td>\n",
              "      <td>dry</td>\n",
              "      <td>machine dbh</td>\n",
              "      <td>4</td>\n",
              "      <td>groundwater</td>\n",
              "      <td>4</td>\n",
              "      <td>communal standpipe</td>\n",
              "      <td>0</td>\n",
              "      <td>non functional</td>\n",
              "      <td>borehole</td>\n",
              "      <td>good</td>\n",
              "      <td>2013-01-28</td>\n",
              "    </tr>\n",
              "    <tr>\n",
              "      <th>4</th>\n",
              "      <td>19728</td>\n",
              "      <td>0.0</td>\n",
              "      <td>7/13/2011</td>\n",
              "      <td>Action In A</td>\n",
              "      <td>0</td>\n",
              "      <td>Artisan</td>\n",
              "      <td>31.130847</td>\n",
              "      <td>-1.825359</td>\n",
              "      <td>Shuleni</td>\n",
              "      <td>0</td>\n",
              "      <td>Lake Victoria</td>\n",
              "      <td>Kyanyamisa</td>\n",
              "      <td>Kagera</td>\n",
              "      <td>18</td>\n",
              "      <td>1</td>\n",
              "      <td>Karagwe</td>\n",
              "      <td>Nyakasimbi</td>\n",
              "      <td>0</td>\n",
              "      <td>True</td>\n",
              "      <td>GeoData Consultants Ltd</td>\n",
              "      <td>NaN</td>\n",
              "      <td>NaN</td>\n",
              "      <td>True</td>\n",
              "      <td>1986</td>\n",
              "      <td>gravity</td>\n",
              "      <td>gravity</td>\n",
              "      <td>1</td>\n",
              "      <td>other</td>\n",
              "      <td>other</td>\n",
              "      <td>never pay</td>\n",
              "      <td>never pay</td>\n",
              "      <td>soft</td>\n",
              "      <td>1</td>\n",
              "      <td>3</td>\n",
              "      <td>seasonal</td>\n",
              "      <td>rainwater harvesting</td>\n",
              "      <td>2</td>\n",
              "      <td>surface</td>\n",
              "      <td>1</td>\n",
              "      <td>communal standpipe</td>\n",
              "      <td>1</td>\n",
              "      <td>functional</td>\n",
              "      <td>rainwater harvesting</td>\n",
              "      <td>good</td>\n",
              "      <td>2011-07-13</td>\n",
              "    </tr>\n",
              "  </tbody>\n",
              "</table>\n",
              "</div>"
            ],
            "text/plain": [
              "      id  amount_tsh  ... quality_group_name       Date\n",
              "0  69572      6000.0  ...               good 2011-03-14\n",
              "1   8776         0.0  ...               good 2013-03-06\n",
              "2  34310        25.0  ...               good 2013-02-25\n",
              "3  67743         0.0  ...               good 2013-01-28\n",
              "4  19728         0.0  ...               good 2011-07-13\n",
              "\n",
              "[5 rows x 45 columns]"
            ]
          },
          "metadata": {
            "tags": []
          },
          "execution_count": 14
        }
      ]
    },
    {
      "cell_type": "markdown",
      "metadata": {
        "id": "p719Lfy2G8_X",
        "colab_type": "text"
      },
      "source": [
        "So, we can see that we have replaced all the zero's in the water dataframe with the value of (1986). "
      ]
    },
    {
      "cell_type": "code",
      "metadata": {
        "id": "hhrkf8k7rBUC",
        "colab_type": "code",
        "colab": {
          "base_uri": "https://localhost:8080/",
          "height": 204
        },
        "outputId": "597ed7ee-79e8-4a96-9af8-f968c89f353d"
      },
      "source": [
        "# let's create a subset for our water project\n",
        "# We will pull the most important categorical variables along with our target variable \"status_group\"\n",
        "subset_water = water[['id','amount_tsh','gps_height','num_private','region_code','district_code','population','construction_year','quantity','source_type','waterpoint_type','status_group']]\n",
        "subset_water.head()\n"
      ],
      "execution_count": 15,
      "outputs": [
        {
          "output_type": "execute_result",
          "data": {
            "text/html": [
              "<div>\n",
              "<style scoped>\n",
              "    .dataframe tbody tr th:only-of-type {\n",
              "        vertical-align: middle;\n",
              "    }\n",
              "\n",
              "    .dataframe tbody tr th {\n",
              "        vertical-align: top;\n",
              "    }\n",
              "\n",
              "    .dataframe thead th {\n",
              "        text-align: right;\n",
              "    }\n",
              "</style>\n",
              "<table border=\"1\" class=\"dataframe\">\n",
              "  <thead>\n",
              "    <tr style=\"text-align: right;\">\n",
              "      <th></th>\n",
              "      <th>id</th>\n",
              "      <th>amount_tsh</th>\n",
              "      <th>gps_height</th>\n",
              "      <th>num_private</th>\n",
              "      <th>region_code</th>\n",
              "      <th>district_code</th>\n",
              "      <th>population</th>\n",
              "      <th>construction_year</th>\n",
              "      <th>quantity</th>\n",
              "      <th>source_type</th>\n",
              "      <th>waterpoint_type</th>\n",
              "      <th>status_group</th>\n",
              "    </tr>\n",
              "  </thead>\n",
              "  <tbody>\n",
              "    <tr>\n",
              "      <th>0</th>\n",
              "      <td>69572</td>\n",
              "      <td>6000.0</td>\n",
              "      <td>1390</td>\n",
              "      <td>0</td>\n",
              "      <td>11</td>\n",
              "      <td>5</td>\n",
              "      <td>109</td>\n",
              "      <td>1999</td>\n",
              "      <td>1</td>\n",
              "      <td>1</td>\n",
              "      <td>1</td>\n",
              "      <td>1</td>\n",
              "    </tr>\n",
              "    <tr>\n",
              "      <th>1</th>\n",
              "      <td>8776</td>\n",
              "      <td>0.0</td>\n",
              "      <td>1399</td>\n",
              "      <td>0</td>\n",
              "      <td>20</td>\n",
              "      <td>2</td>\n",
              "      <td>280</td>\n",
              "      <td>2010</td>\n",
              "      <td>2</td>\n",
              "      <td>2</td>\n",
              "      <td>1</td>\n",
              "      <td>1</td>\n",
              "    </tr>\n",
              "    <tr>\n",
              "      <th>2</th>\n",
              "      <td>34310</td>\n",
              "      <td>25.0</td>\n",
              "      <td>686</td>\n",
              "      <td>0</td>\n",
              "      <td>21</td>\n",
              "      <td>4</td>\n",
              "      <td>250</td>\n",
              "      <td>2009</td>\n",
              "      <td>1</td>\n",
              "      <td>3</td>\n",
              "      <td>4</td>\n",
              "      <td>1</td>\n",
              "    </tr>\n",
              "    <tr>\n",
              "      <th>3</th>\n",
              "      <td>67743</td>\n",
              "      <td>0.0</td>\n",
              "      <td>263</td>\n",
              "      <td>0</td>\n",
              "      <td>90</td>\n",
              "      <td>63</td>\n",
              "      <td>58</td>\n",
              "      <td>1986</td>\n",
              "      <td>0</td>\n",
              "      <td>4</td>\n",
              "      <td>4</td>\n",
              "      <td>0</td>\n",
              "    </tr>\n",
              "    <tr>\n",
              "      <th>4</th>\n",
              "      <td>19728</td>\n",
              "      <td>0.0</td>\n",
              "      <td>0</td>\n",
              "      <td>0</td>\n",
              "      <td>18</td>\n",
              "      <td>1</td>\n",
              "      <td>0</td>\n",
              "      <td>1986</td>\n",
              "      <td>3</td>\n",
              "      <td>2</td>\n",
              "      <td>1</td>\n",
              "      <td>1</td>\n",
              "    </tr>\n",
              "  </tbody>\n",
              "</table>\n",
              "</div>"
            ],
            "text/plain": [
              "      id  amount_tsh  gps_height  ...  source_type  waterpoint_type  status_group\n",
              "0  69572      6000.0        1390  ...            1                1             1\n",
              "1   8776         0.0        1399  ...            2                1             1\n",
              "2  34310        25.0         686  ...            3                4             1\n",
              "3  67743         0.0         263  ...            4                4             0\n",
              "4  19728         0.0           0  ...            2                1             1\n",
              "\n",
              "[5 rows x 12 columns]"
            ]
          },
          "metadata": {
            "tags": []
          },
          "execution_count": 15
        }
      ]
    },
    {
      "cell_type": "code",
      "metadata": {
        "id": "3IIxAPrjBqGn",
        "colab_type": "code",
        "colab": {
          "base_uri": "https://localhost:8080/",
          "height": 340
        },
        "outputId": "0c48c359-2653-446c-d4be-05cdc681dc8a"
      },
      "source": [
        "# Let's check for null values\n",
        "subset_water.info()"
      ],
      "execution_count": 16,
      "outputs": [
        {
          "output_type": "stream",
          "text": [
            "<class 'pandas.core.frame.DataFrame'>\n",
            "RangeIndex: 59400 entries, 0 to 59399\n",
            "Data columns (total 12 columns):\n",
            " #   Column             Non-Null Count  Dtype  \n",
            "---  ------             --------------  -----  \n",
            " 0   id                 59400 non-null  int64  \n",
            " 1   amount_tsh         59400 non-null  float64\n",
            " 2   gps_height         59400 non-null  int64  \n",
            " 3   num_private        59400 non-null  int64  \n",
            " 4   region_code        59400 non-null  int64  \n",
            " 5   district_code      59400 non-null  int64  \n",
            " 6   population         59400 non-null  int64  \n",
            " 7   construction_year  59400 non-null  int64  \n",
            " 8   quantity           59400 non-null  int64  \n",
            " 9   source_type        59400 non-null  int64  \n",
            " 10  waterpoint_type    59400 non-null  int64  \n",
            " 11  status_group       59400 non-null  int64  \n",
            "dtypes: float64(1), int64(11)\n",
            "memory usage: 5.4 MB\n"
          ],
          "name": "stdout"
        }
      ]
    },
    {
      "cell_type": "markdown",
      "metadata": {
        "id": "QFX6XcWB2Z2K",
        "colab_type": "text"
      },
      "source": [
        "All values are listed as 59,400 which means we have no \"Null\" values in any of the Columns that we will be considering for our classification model runs."
      ]
    },
    {
      "cell_type": "code",
      "metadata": {
        "id": "dZd-Af_LdlFB",
        "colab_type": "code",
        "colab": {
          "base_uri": "https://localhost:8080/",
          "height": 280
        },
        "outputId": "aff32cec-2023-48b9-cfac-c7dd746d4bc5"
      },
      "source": [
        "# Let's look at a boxplot of Status Group vs. Source Type\n",
        "sns.set_style('whitegrid')\n",
        "ax = sns.boxplot(x='status_group', y='source_type', data=subset_water)\n",
        "ax = sns.stripplot(x='status_group', y='source_type', data=subset_water)"
      ],
      "execution_count": 17,
      "outputs": [
        {
          "output_type": "display_data",
          "data": {
            "image/png": "[encoded data removed]",
            "text/plain": [
              "<Figure size 432x288 with 1 Axes>"
            ]
          },
          "metadata": {
            "tags": []
          }
        }
      ]
    },
    {
      "cell_type": "markdown",
      "metadata": {
        "id": "Xrzbf1pMeZBZ",
        "colab_type": "text"
      },
      "source": [
        "Zero = Non Functional\n",
        "\n",
        "One = Functional\n",
        "\n",
        "Two = Functional Needs Repair"
      ]
    },
    {
      "cell_type": "code",
      "metadata": {
        "id": "JsHZP3bW1ogD",
        "colab_type": "code",
        "colab": {
          "base_uri": "https://localhost:8080/",
          "height": 204
        },
        "outputId": "c74fe4c9-89d6-4a09-8b83-5892170a4d5e"
      },
      "source": [
        "# Let's take an additional subset from our data slice (subset_water)\n",
        "subset_water_2 = subset_water[['district_code','gps_height','source_type','waterpoint_type','status_group']]\n",
        "subset_water_2.head()\n",
        "\n",
        "\n"
      ],
      "execution_count": 20,
      "outputs": [
        {
          "output_type": "execute_result",
          "data": {
            "text/html": [
              "<div>\n",
              "<style scoped>\n",
              "    .dataframe tbody tr th:only-of-type {\n",
              "        vertical-align: middle;\n",
              "    }\n",
              "\n",
              "    .dataframe tbody tr th {\n",
              "        vertical-align: top;\n",
              "    }\n",
              "\n",
              "    .dataframe thead th {\n",
              "        text-align: right;\n",
              "    }\n",
              "</style>\n",
              "<table border=\"1\" class=\"dataframe\">\n",
              "  <thead>\n",
              "    <tr style=\"text-align: right;\">\n",
              "      <th></th>\n",
              "      <th>district_code</th>\n",
              "      <th>gps_height</th>\n",
              "      <th>source_type</th>\n",
              "      <th>waterpoint_type</th>\n",
              "      <th>status_group</th>\n",
              "    </tr>\n",
              "  </thead>\n",
              "  <tbody>\n",
              "    <tr>\n",
              "      <th>0</th>\n",
              "      <td>5</td>\n",
              "      <td>1390</td>\n",
              "      <td>1</td>\n",
              "      <td>1</td>\n",
              "      <td>1</td>\n",
              "    </tr>\n",
              "    <tr>\n",
              "      <th>1</th>\n",
              "      <td>2</td>\n",
              "      <td>1399</td>\n",
              "      <td>2</td>\n",
              "      <td>1</td>\n",
              "      <td>1</td>\n",
              "    </tr>\n",
              "    <tr>\n",
              "      <th>2</th>\n",
              "      <td>4</td>\n",
              "      <td>686</td>\n",
              "      <td>3</td>\n",
              "      <td>4</td>\n",
              "      <td>1</td>\n",
              "    </tr>\n",
              "    <tr>\n",
              "      <th>3</th>\n",
              "      <td>63</td>\n",
              "      <td>263</td>\n",
              "      <td>4</td>\n",
              "      <td>4</td>\n",
              "      <td>0</td>\n",
              "    </tr>\n",
              "    <tr>\n",
              "      <th>4</th>\n",
              "      <td>1</td>\n",
              "      <td>0</td>\n",
              "      <td>2</td>\n",
              "      <td>1</td>\n",
              "      <td>1</td>\n",
              "    </tr>\n",
              "  </tbody>\n",
              "</table>\n",
              "</div>"
            ],
            "text/plain": [
              "   district_code  gps_height  source_type  waterpoint_type  status_group\n",
              "0              5        1390            1                1             1\n",
              "1              2        1399            2                1             1\n",
              "2              4         686            3                4             1\n",
              "3             63         263            4                4             0\n",
              "4              1           0            2                1             1"
            ]
          },
          "metadata": {
            "tags": []
          },
          "execution_count": 20
        }
      ]
    },
    {
      "cell_type": "code",
      "metadata": {
        "id": "-b4RxZXS4vQW",
        "colab_type": "code",
        "colab": {
          "base_uri": "https://localhost:8080/",
          "height": 944
        },
        "outputId": "5790e7dc-a954-4e47-faa1-66bcb10e1b47"
      },
      "source": [
        "# Let's look at a Seaborn Pair's Plot of these features\n",
        "sns.pairplot(subset_water_2)"
      ],
      "execution_count": 21,
      "outputs": [
        {
          "output_type": "execute_result",
          "data": {
            "text/plain": [
              "<seaborn.axisgrid.PairGrid at 0x7ff06c84ec88>"
            ]
          },
          "metadata": {
            "tags": []
          },
          "execution_count": 21
        },
        {
          "output_type": "display_data",
          "data": {
            "image/png": "[encoded data removed]",
            "text/plain": [
              "<Figure size 900x900 with 30 Axes>"
            ]
          },
          "metadata": {
            "tags": []
          }
        }
      ]
    },
    {
      "cell_type": "code",
      "metadata": {
        "id": "mnKQ9fD8IFCF",
        "colab_type": "code",
        "colab": {
          "base_uri": "https://localhost:8080/",
          "height": 51
        },
        "outputId": "7ed79275-d2be-42b3-d6c6-2763f275c8d2"
      },
      "source": [
        "# Spliting the data into Train and Test Sets and looking at the shape of the Train/Test Sets\n",
        "X = subset_water.drop('status_group', axis=1)\n",
        "y = subset_water['status_group']\n",
        "X = preprocessing.StandardScaler().fit(X).transform(X.astype(float))\n",
        "X_train, X_test, y_train, y_test = train_test_split(X, y, test_size=0.2, stratify=y, random_state=123)\n",
        "print('Training Set: ', X_train.shape, y_train.shape)\n",
        "print('Testing Set: ', X_test.shape, y_test.shape)\n",
        "\n",
        "\n"
      ],
      "execution_count": 22,
      "outputs": [
        {
          "output_type": "stream",
          "text": [
            "Training Set:  (47520, 11) (47520,)\n",
            "Testing Set:  (11880, 11) (11880,)\n"
          ],
          "name": "stdout"
        }
      ]
    },
    {
      "cell_type": "code",
      "metadata": {
        "id": "idf5hc0DNZ4b",
        "colab_type": "code",
        "colab": {
          "base_uri": "https://localhost:8080/",
          "height": 598
        },
        "outputId": "7927b1d1-1834-4f23-e8b5-043d27ade69f"
      },
      "source": [
        "# Let's try Logistic Regression\n",
        "LR = LogisticRegression(C=0.00008, random_state=123)\n",
        "LR.fit(X_train, y_train)\n",
        "y_pred = LR.predict(X_test)\n",
        "print('Accuarcy:', metrics.accuracy_score(y_pred, y_test))\n",
        "\n",
        "## 5-Fold Cross Validation\n",
        "cv_scores = cross_val_score(LR, X, y, cv=5)\n",
        "\n",
        "# Print the 5-Fold Cross Validation Scores\n",
        "print()\n",
        "print(classification_report(y_test, y_pred))\n",
        "print()\n",
        "print(\"Average 5-Fold CV Score: {}\".format(round(np.mean(cv_scores),4)),\n",
        "      \", Standard Deviation: {}\".format(round(np.std(cv_scores),4)))\n",
        "plt.figure(figsize=(4,3))\n",
        "ConfMatrix = confusion_matrix(y_test,LR.predict(X_test))\n",
        "sns.heatmap(ConfMatrix, annot=True, cmap=\"Blues\", fmt='d',\n",
        "            xticklabels = ['Non Functional', 'Functional', 'Repair'],\n",
        "            yticklabels = ['Non Functional', 'Functional', 'Repair'])\n",
        "\n",
        "plt.ylabel('True Label - Pump Status')\n",
        "plt.xlabel('Predicted Label - Tanzanian Water Pump Status')\n",
        "plt.title(\"Confusion Matrix/Logistic Regression - Tanzanian Water Pump Data\");\n"
      ],
      "execution_count": null,
      "outputs": [
        {
          "output_type": "stream",
          "text": [
            "Accuarcy: 0.5973063973063973\n",
            "\n",
            "              precision    recall  f1-score   support\n",
            "\n",
            "           0       0.57      0.39      0.46      4565\n",
            "           1       0.61      0.83      0.70      6452\n",
            "           2       0.00      0.00      0.00       863\n",
            "\n",
            "    accuracy                           0.60     11880\n",
            "   macro avg       0.39      0.40      0.39     11880\n",
            "weighted avg       0.55      0.60      0.56     11880\n",
            "\n",
            "\n",
            "Average 5-Fold CV Score: 0.5972 , Standard Deviation: 0.0034\n"
          ],
          "name": "stdout"
        },
        {
          "output_type": "stream",
          "text": [
            "/usr/local/lib/python3.6/dist-packages/sklearn/metrics/_classification.py:1272: UndefinedMetricWarning: Precision and F-score are ill-defined and being set to 0.0 in labels with no predicted samples. Use `zero_division` parameter to control this behavior.\n",
            "  _warn_prf(average, modifier, msg_start, len(result))\n"
          ],
          "name": "stderr"
        },
        {
          "output_type": "display_data",
          "data": {
            "image/png": "[encoded data removed]",
            "text/plain": [
              "<Figure size 288x216 with 2 Axes>"
            ]
          },
          "metadata": {
            "tags": [],
            "needs_background": "light"
          }
        }
      ]
    },
    {
      "cell_type": "code",
      "metadata": {
        "id": "LllqLdQchzSM",
        "colab_type": "code",
        "colab": {
          "base_uri": "https://localhost:8080/",
          "height": 119
        },
        "outputId": "a98b65cd-443f-49b1-d3f0-d9df5b627ccc"
      },
      "source": [
        "# Let's see if we can get a Decision Tree Classification Model to run\n",
        "dtc = DecisionTreeClassifier(criterion='entropy', max_depth=5).fit(X_train, y_train)\n",
        "dtc"
      ],
      "execution_count": null,
      "outputs": [
        {
          "output_type": "execute_result",
          "data": {
            "text/plain": [
              "DecisionTreeClassifier(ccp_alpha=0.0, class_weight=None, criterion='entropy',\n",
              "                       max_depth=5, max_features=None, max_leaf_nodes=None,\n",
              "                       min_impurity_decrease=0.0, min_impurity_split=None,\n",
              "                       min_samples_leaf=1, min_samples_split=2,\n",
              "                       min_weight_fraction_leaf=0.0, presort='deprecated',\n",
              "                       random_state=None, splitter='best')"
            ]
          },
          "metadata": {
            "tags": []
          },
          "execution_count": 23
        }
      ]
    },
    {
      "cell_type": "code",
      "metadata": {
        "id": "fzjLLeMMXXz0",
        "colab_type": "code",
        "colab": {}
      },
      "source": [
        "## 5-Fold Cross Validation\n",
        "cv_scores = cross_val_score(dtc, X, y, cv=5)"
      ],
      "execution_count": null,
      "outputs": []
    },
    {
      "cell_type": "code",
      "metadata": {
        "id": "5hQ7jsU-Xtwa",
        "colab_type": "code",
        "colab": {
          "base_uri": "https://localhost:8080/",
          "height": 581
        },
        "outputId": "82c9b424-37a8-4e15-c39d-788bde7cacd2"
      },
      "source": [
        "# Let's print the 5-Fold Cross Validation Scores\n",
        "print()\n",
        "print(classification_report(y_test, y_pred))\n",
        "print()\n",
        "print(\"Average 5-Fold CV Score: {}\". format(round(np.mean(cv_scores),4)),\n",
        "      \", Standard Devation: {}\".format(round(np.std(cv_scores),4)))\n",
        "\n",
        "plt.figure(figsize=(4,3))\n",
        "ConfMatrix = confusion_matrix(y_test,dtc.predict(X_test))\n",
        "sns.heatmap(ConfMatrix, annot=True, cmap=\"Blues\", fmt='d',\n",
        "            xticklabels = ['Non Functional', 'Functional', 'Repair'],\n",
        "            yticklabels = ['Non Functional', 'Functional', 'Repair'])\n",
        "plt.ylabel('True Label')\n",
        "plt.xlabel('Predicted Label')\n",
        "plt.title(\"Confusion Matric/Decision Tree - Tanzaanian Water Pump Data\");"
      ],
      "execution_count": null,
      "outputs": [
        {
          "output_type": "stream",
          "text": [
            "\n",
            "              precision    recall  f1-score   support\n",
            "\n",
            "           0       0.57      0.39      0.46      4565\n",
            "           1       0.61      0.83      0.70      6452\n",
            "           2       0.00      0.00      0.00       863\n",
            "\n",
            "    accuracy                           0.60     11880\n",
            "   macro avg       0.39      0.40      0.39     11880\n",
            "weighted avg       0.55      0.60      0.56     11880\n",
            "\n",
            "\n",
            "Average 5-Fold CV Score: 0.5972 , Standard Devation: 0.0034\n"
          ],
          "name": "stdout"
        },
        {
          "output_type": "stream",
          "text": [
            "/usr/local/lib/python3.6/dist-packages/sklearn/metrics/_classification.py:1272: UndefinedMetricWarning: Precision and F-score are ill-defined and being set to 0.0 in labels with no predicted samples. Use `zero_division` parameter to control this behavior.\n",
            "  _warn_prf(average, modifier, msg_start, len(result))\n"
          ],
          "name": "stderr"
        },
        {
          "output_type": "display_data",
          "data": {
            "image/png": "[encoded data removed]",
            "text/plain": [
              "<Figure size 288x216 with 2 Axes>"
            ]
          },
          "metadata": {
            "tags": [],
            "needs_background": "light"
          }
        }
      ]
    },
    {
      "cell_type": "code",
      "metadata": {
        "id": "7uMQscLfiP6P",
        "colab_type": "code",
        "colab": {
          "base_uri": "https://localhost:8080/",
          "height": 51
        },
        "outputId": "f6f385c5-3758-4af1-abb7-195ab2dcb017"
      },
      "source": [
        "# Let's Predict with Accuracy Evaluation\n",
        "yhat= dtc.predict(X_test)\n",
        "print('Training Set Accuracy: ', metrics.accuracy_score(y_train, dtc.predict(X_train)))\n",
        "print('Test Set Accuracy: ', metrics.accuracy_score(y_test, yhat))\n"
      ],
      "execution_count": null,
      "outputs": [
        {
          "output_type": "stream",
          "text": [
            "Training Set Accuracy:  0.712037037037037\n",
            "Test Set Accuracy:  0.7125420875420876\n"
          ],
          "name": "stdout"
        }
      ]
    },
    {
      "cell_type": "markdown",
      "metadata": {
        "id": "4oZbsBEIi3yx",
        "colab_type": "text"
      },
      "source": [
        "Ok, running a Decision Tree Classifier got us an 11.56 point jump in the accuracy score from 59.72% to 71.2% that is a good increase in the model's accuracy."
      ]
    },
    {
      "cell_type": "markdown",
      "metadata": {
        "id": "vysvaZQ-tOQ9",
        "colab_type": "text"
      },
      "source": [
        "Next, Let's try an build a Random Forest Classifier, and then fold in with Grid Search/Cross Validation Model."
      ]
    },
    {
      "cell_type": "code",
      "metadata": {
        "id": "1UN4PLhatb6l",
        "colab_type": "code",
        "colab": {
          "base_uri": "https://localhost:8080/",
          "height": 51
        },
        "outputId": "9f1a6d95-88e0-47ec-f421-cd7247d6c364"
      },
      "source": [
        "rfc = RandomForestClassifier(criterion='entropy', max_depth=7).fit(X_train, y_train)\n",
        "yhatRF = rfc.predict(X_test)\n",
        "print('Training Set Accuracy: ', metrics.accuracy_score(y_train, rfc.predict(X_train)))\n",
        "print('Testing Set Accuracy: ', metrics.accuracy_score(y_test, yhatRF))\n"
      ],
      "execution_count": null,
      "outputs": [
        {
          "output_type": "stream",
          "text": [
            "Training Set Accuracy:  0.7310185185185185\n",
            "Testing Set Accuracy:  0.7274410774410774\n"
          ],
          "name": "stdout"
        }
      ]
    },
    {
      "cell_type": "markdown",
      "metadata": {
        "id": "jm4uexm-uchd",
        "colab_type": "text"
      },
      "source": [
        "The Accuracy went up to 73.13% on the Training Set, and 72.58% on the Testing Set."
      ]
    },
    {
      "cell_type": "code",
      "metadata": {
        "id": "qWnGd6mVuvKp",
        "colab_type": "code",
        "colab": {
          "base_uri": "https://localhost:8080/",
          "height": 51
        },
        "outputId": "c92800a2-6ba1-46a6-e64e-7f6bb1889ab4"
      },
      "source": [
        "# RFC with Grid Search and Cross Validation\n",
        "rfc_params = {'n_estimators':[2,5,10,20,50,75,150],\n",
        "              'criterion':['gini', 'entropy'],\n",
        "              'max_depth':[2,5,10,20,50,None],\n",
        "              'min_samples_split':[2,5,10,20]}\n",
        "\n",
        "grid_rfc = GridSearchCV(RandomForestClassifier(),\n",
        "                        rfc_params,\n",
        "                        cv=5,\n",
        "                        scoring='accuracy').fit(X_train, y_train)\n",
        "\n",
        "yhatGS = grid_rfc.predict(X_test)\n",
        "\n",
        "print('Training Set Accuracy: ', metrics.accuracy_score(y_train, grid_rfc.predict(X_train)))\n",
        "print('Testing Set Accuracy: ', metrics.accuracy_score(y_test, yhatGS))\n"
      ],
      "execution_count": null,
      "outputs": [
        {
          "output_type": "stream",
          "text": [
            "Training Set Accuracy:  0.8682449494949495\n",
            "Testing Set Accuracy:  0.7767676767676768\n"
          ],
          "name": "stdout"
        }
      ]
    },
    {
      "cell_type": "markdown",
      "metadata": {
        "id": "1HxXnYbpS1Cq",
        "colab_type": "text"
      },
      "source": [
        "Next, after executing the RFC Grid Search with Cross Validation we have increased the Training Set Accuracy to 86.82% and the Testing Set Accuracy to 77.67%. "
      ]
    },
    {
      "cell_type": "code",
      "metadata": {
        "id": "1DJTx6GK7WaX",
        "colab_type": "code",
        "colab": {
          "base_uri": "https://localhost:8080/",
          "height": 575
        },
        "outputId": "93a7469f-54c2-4c64-9c3a-1a9f9f353f35"
      },
      "source": [
        "## 5-Fold Cross-Validation\n",
        "cv_scores = cross_val_score(rfc, X, y, cv=5)\n",
        "\n",
        "# Print the 5-Fold Cross-Validation Scores\n",
        "print()\n",
        "print(classification_report(y_test, y_pred))\n",
        "print()\n",
        "print(\"Average 5-Fold CV Scores: {}\".format(round(np.mean(cv_scores),4)),\n",
        "      \", Standard Deviation: {}\".format(round(np.std(cv_scores),4)))\n",
        "plt.figure(figsize=(4,3))\n",
        "ConfMatrix = confusion_matrix(y_test,rfc.predict(X_test))\n",
        "sns.heatmap(ConfMatrix,annot=True, cmap=\"Blues\", fmt='d',\n",
        "            xticklabels = ['Non Funtional', 'Functional', 'Repair'],\n",
        "            yticklabels = ['Non Functional', 'Functional', 'Repair'])\n",
        "plt.ylabel('True Label')\n",
        "plt.xlabel('Predicted Label')\n",
        "plt.title(\"Confusion Matrix/Random Forest - Tanzanian Water Pump Data\");\n",
        "\n",
        "         "
      ],
      "execution_count": null,
      "outputs": [
        {
          "output_type": "stream",
          "text": [
            "\n",
            "              precision    recall  f1-score   support\n",
            "\n",
            "           0       0.57      0.39      0.46      4565\n",
            "           1       0.61      0.83      0.70      6452\n",
            "           2       0.00      0.00      0.00       863\n",
            "\n",
            "    accuracy                           0.60     11880\n",
            "   macro avg       0.39      0.40      0.39     11880\n",
            "weighted avg       0.55      0.60      0.56     11880\n",
            "\n",
            "\n",
            "Average 5-Fold CV Scores: 0.7292 , Standard Deviation: 0.0033\n"
          ],
          "name": "stdout"
        },
        {
          "output_type": "stream",
          "text": [
            "/usr/local/lib/python3.6/dist-packages/sklearn/metrics/_classification.py:1272: UndefinedMetricWarning: Precision and F-score are ill-defined and being set to 0.0 in labels with no predicted samples. Use `zero_division` parameter to control this behavior.\n",
            "  _warn_prf(average, modifier, msg_start, len(result))\n"
          ],
          "name": "stderr"
        },
        {
          "output_type": "display_data",
          "data": {
            "image/png": "[encoded data removed]",
            "text/plain": [
              "<Figure size 288x216 with 2 Axes>"
            ]
          },
          "metadata": {
            "tags": [],
            "needs_background": "light"
          }
        }
      ]
    },
    {
      "cell_type": "markdown",
      "metadata": {
        "id": "O4lqsTFeRD1_",
        "colab_type": "text"
      },
      "source": [
        "Now, we have three classification model runs completed, Logistic Regression, Decision Tree, and Random Forest. Let's see if we can compare our models graphically. "
      ]
    },
    {
      "cell_type": "markdown",
      "metadata": {
        "id": "dUlcpxYh-HD3",
        "colab_type": "text"
      },
      "source": [
        "Finally, let's run the test data through the model and make predictions."
      ]
    },
    {
      "cell_type": "code",
      "metadata": {
        "id": "naXRiY3rGO0d",
        "colab_type": "code",
        "colab": {
          "base_uri": "https://localhost:8080/",
          "height": 204
        },
        "outputId": "44842146-dd54-440d-e7f8-4e2295682e50"
      },
      "source": [
        "X2 = subset_water.drop(columns = ['id']).values\n",
        "yhat2 = grid_rfc.predict(X2)\n",
        "preds = pd.DataFrame(yhat2)\n",
        "preds.head()"
      ],
      "execution_count": null,
      "outputs": [
        {
          "output_type": "execute_result",
          "data": {
            "text/html": [
              "<div>\n",
              "<style scoped>\n",
              "    .dataframe tbody tr th:only-of-type {\n",
              "        vertical-align: middle;\n",
              "    }\n",
              "\n",
              "    .dataframe tbody tr th {\n",
              "        vertical-align: top;\n",
              "    }\n",
              "\n",
              "    .dataframe thead th {\n",
              "        text-align: right;\n",
              "    }\n",
              "</style>\n",
              "<table border=\"1\" class=\"dataframe\">\n",
              "  <thead>\n",
              "    <tr style=\"text-align: right;\">\n",
              "      <th></th>\n",
              "      <th>0</th>\n",
              "    </tr>\n",
              "  </thead>\n",
              "  <tbody>\n",
              "    <tr>\n",
              "      <th>0</th>\n",
              "      <td>0</td>\n",
              "    </tr>\n",
              "    <tr>\n",
              "      <th>1</th>\n",
              "      <td>0</td>\n",
              "    </tr>\n",
              "    <tr>\n",
              "      <th>2</th>\n",
              "      <td>0</td>\n",
              "    </tr>\n",
              "    <tr>\n",
              "      <th>3</th>\n",
              "      <td>1</td>\n",
              "    </tr>\n",
              "    <tr>\n",
              "      <th>4</th>\n",
              "      <td>0</td>\n",
              "    </tr>\n",
              "  </tbody>\n",
              "</table>\n",
              "</div>"
            ],
            "text/plain": [
              "   0\n",
              "0  0\n",
              "1  0\n",
              "2  0\n",
              "3  1\n",
              "4  0"
            ]
          },
          "metadata": {
            "tags": []
          },
          "execution_count": 84
        }
      ]
    },
    {
      "cell_type": "code",
      "metadata": {
        "id": "Y_aHgVt8nhb-",
        "colab_type": "code",
        "colab": {
          "base_uri": "https://localhost:8080/",
          "height": 34
        },
        "outputId": "0ce992c7-5bb3-4b3a-d837-26226893f052"
      },
      "source": [
        "subset_water.shape, preds.shape"
      ],
      "execution_count": null,
      "outputs": [
        {
          "output_type": "execute_result",
          "data": {
            "text/plain": [
              "((59400, 12), (59400, 1))"
            ]
          },
          "metadata": {
            "tags": []
          },
          "execution_count": 95
        }
      ]
    },
    {
      "cell_type": "markdown",
      "metadata": {
        "id": "Uxyr4tenvGkH",
        "colab_type": "text"
      },
      "source": [
        "So, we have two dataframes the next step is to combine them into one dataframe. We will use the \"concat\" syntax to complete this action and combine the \"id\" column with the \"status_group\" column. Afterward, the next step is to export the prediction to a CSV file."
      ]
    },
    {
      "cell_type": "code",
      "metadata": {
        "id": "8YU3L_v4nrv9",
        "colab_type": "code",
        "colab": {
          "base_uri": "https://localhost:8080/",
          "height": 34
        },
        "outputId": "52ff62f5-d76e-4478-c353-4838012a40bf"
      },
      "source": [
        "predict = pd.concat((subset_water['id'], preds), axis=1)\n",
        "predict.columns=['id', 'status_group']\n",
        "predict['status_group'].unique()"
      ],
      "execution_count": null,
      "outputs": [
        {
          "output_type": "execute_result",
          "data": {
            "text/plain": [
              "array([0, 1])"
            ]
          },
          "metadata": {
            "tags": []
          },
          "execution_count": 86
        }
      ]
    },
    {
      "cell_type": "code",
      "metadata": {
        "id": "29sPQj8IoNHm",
        "colab_type": "code",
        "colab": {
          "base_uri": "https://localhost:8080/",
          "height": 204
        },
        "outputId": "de3d4df2-da38-4867-b814-89d033c7f39c"
      },
      "source": [
        "predict.head()"
      ],
      "execution_count": null,
      "outputs": [
        {
          "output_type": "execute_result",
          "data": {
            "text/html": [
              "<div>\n",
              "<style scoped>\n",
              "    .dataframe tbody tr th:only-of-type {\n",
              "        vertical-align: middle;\n",
              "    }\n",
              "\n",
              "    .dataframe tbody tr th {\n",
              "        vertical-align: top;\n",
              "    }\n",
              "\n",
              "    .dataframe thead th {\n",
              "        text-align: right;\n",
              "    }\n",
              "</style>\n",
              "<table border=\"1\" class=\"dataframe\">\n",
              "  <thead>\n",
              "    <tr style=\"text-align: right;\">\n",
              "      <th></th>\n",
              "      <th>id</th>\n",
              "      <th>status_group</th>\n",
              "    </tr>\n",
              "  </thead>\n",
              "  <tbody>\n",
              "    <tr>\n",
              "      <th>0</th>\n",
              "      <td>69572</td>\n",
              "      <td>0</td>\n",
              "    </tr>\n",
              "    <tr>\n",
              "      <th>1</th>\n",
              "      <td>8776</td>\n",
              "      <td>0</td>\n",
              "    </tr>\n",
              "    <tr>\n",
              "      <th>2</th>\n",
              "      <td>34310</td>\n",
              "      <td>0</td>\n",
              "    </tr>\n",
              "    <tr>\n",
              "      <th>3</th>\n",
              "      <td>67743</td>\n",
              "      <td>1</td>\n",
              "    </tr>\n",
              "    <tr>\n",
              "      <th>4</th>\n",
              "      <td>19728</td>\n",
              "      <td>0</td>\n",
              "    </tr>\n",
              "  </tbody>\n",
              "</table>\n",
              "</div>"
            ],
            "text/plain": [
              "      id  status_group\n",
              "0  69572             0\n",
              "1   8776             0\n",
              "2  34310             0\n",
              "3  67743             1\n",
              "4  19728             0"
            ]
          },
          "metadata": {
            "tags": []
          },
          "execution_count": 87
        }
      ]
    },
    {
      "cell_type": "code",
      "metadata": {
        "id": "HjxIS0K7oTw_",
        "colab_type": "code",
        "colab": {
          "base_uri": "https://localhost:8080/",
          "height": 204
        },
        "outputId": "26c25eac-2a97-43f8-e314-771cb77d2434"
      },
      "source": [
        "predict.tail()"
      ],
      "execution_count": null,
      "outputs": [
        {
          "output_type": "execute_result",
          "data": {
            "text/html": [
              "<div>\n",
              "<style scoped>\n",
              "    .dataframe tbody tr th:only-of-type {\n",
              "        vertical-align: middle;\n",
              "    }\n",
              "\n",
              "    .dataframe tbody tr th {\n",
              "        vertical-align: top;\n",
              "    }\n",
              "\n",
              "    .dataframe thead th {\n",
              "        text-align: right;\n",
              "    }\n",
              "</style>\n",
              "<table border=\"1\" class=\"dataframe\">\n",
              "  <thead>\n",
              "    <tr style=\"text-align: right;\">\n",
              "      <th></th>\n",
              "      <th>id</th>\n",
              "      <th>status_group</th>\n",
              "    </tr>\n",
              "  </thead>\n",
              "  <tbody>\n",
              "    <tr>\n",
              "      <th>59395</th>\n",
              "      <td>60739</td>\n",
              "      <td>0</td>\n",
              "    </tr>\n",
              "    <tr>\n",
              "      <th>59396</th>\n",
              "      <td>27263</td>\n",
              "      <td>0</td>\n",
              "    </tr>\n",
              "    <tr>\n",
              "      <th>59397</th>\n",
              "      <td>37057</td>\n",
              "      <td>0</td>\n",
              "    </tr>\n",
              "    <tr>\n",
              "      <th>59398</th>\n",
              "      <td>31282</td>\n",
              "      <td>0</td>\n",
              "    </tr>\n",
              "    <tr>\n",
              "      <th>59399</th>\n",
              "      <td>26348</td>\n",
              "      <td>0</td>\n",
              "    </tr>\n",
              "  </tbody>\n",
              "</table>\n",
              "</div>"
            ],
            "text/plain": [
              "          id  status_group\n",
              "59395  60739             0\n",
              "59396  27263             0\n",
              "59397  37057             0\n",
              "59398  31282             0\n",
              "59399  26348             0"
            ]
          },
          "metadata": {
            "tags": []
          },
          "execution_count": 88
        }
      ]
    },
    {
      "cell_type": "code",
      "metadata": {
        "id": "BA54dQZmodAT",
        "colab_type": "code",
        "colab": {
          "base_uri": "https://localhost:8080/",
          "height": 255
        },
        "outputId": "ccf478d3-31ce-4bf3-b041-72806394a13f"
      },
      "source": [
        "# Let's export this to folder on my PC\n",
        "predict.to_csv(r'C:\\PANDAS\\export_predict.csv', index=False, header=True)\n",
        "print(predict)"
      ],
      "execution_count": null,
      "outputs": [
        {
          "output_type": "stream",
          "text": [
            "          id  status_group\n",
            "0      69572             0\n",
            "1       8776             0\n",
            "2      34310             0\n",
            "3      67743             1\n",
            "4      19728             0\n",
            "...      ...           ...\n",
            "59395  60739             0\n",
            "59396  27263             0\n",
            "59397  37057             0\n",
            "59398  31282             0\n",
            "59399  26348             0\n",
            "\n",
            "[59400 rows x 2 columns]\n"
          ],
          "name": "stdout"
        }
      ]
    }
  ]
}