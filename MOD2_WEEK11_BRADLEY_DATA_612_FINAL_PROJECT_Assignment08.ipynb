{
  "nbformat": 4,
  "nbformat_minor": 0,
  "metadata": {
    "colab": {
      "name": "MOD2_WEEK11_BRADLEY_DATA_612_FINAL_PROJECT_Assignment08.ipynb",
      "provenance": [],
      "collapsed_sections": []
    },
    "kernelspec": {
      "name": "python3",
      "display_name": "Python 3"
    }
  },
  "cells": [
    {
      "cell_type": "markdown",
      "metadata": {
        "id": "dtHA0E5FR3wy",
        "colab_type": "text"
      },
      "source": [
        "# Assignment for Week 8"
      ]
    },
    {
      "cell_type": "markdown",
      "metadata": {
        "id": "Rh6DhpigRvSp",
        "colab_type": "text"
      },
      "source": [
        "## Final Project     \n",
        "\n",
        "Week's 8 assignment will be work towards the final project.    "
      ]
    },
    {
      "cell_type": "markdown",
      "metadata": {
        "id": "OHLcl_GnR39u",
        "colab_type": "text"
      },
      "source": [
        "### About Final Project     \n"
      ]
    },
    {
      "cell_type": "markdown",
      "metadata": {
        "id": "iIARxSvxSfef",
        "colab_type": "text"
      },
      "source": [
        "The final project will be a competition submission to any of the platforms available such as Kaggle. The competition will require to either build a Linear Regression or Logistic Regression model. \n",
        "\n",
        "The instructor will notify students by week 7 on the competition and the submissions.  This competition will include some or all the material and skills learned in the course.\n",
        "\n",
        "Students are required to submit the final version of work/codes as a Jupyter Notebook via colab as submitted to the competition along with the link to their account pointing to their score on the competition's board. This will be evaluated and graded for the entire project for the duration of week 8-12. \n",
        "\n"
      ]
    },
    {
      "cell_type": "markdown",
      "metadata": {
        "id": "v-WaBit5oAld",
        "colab_type": "text"
      },
      "source": [
        "## Tasks\n",
        "\n",
        "**Required:**    \n",
        "\n",
        "*   Open an account to the decided competition's platform and download the data sets (train, test, etc) needed to compete.    \n",
        "*   Start working with your data, get to know the data. Read all the competition information provided to the hosting platform. Try to get familiar with the data, topic, etc.      \n",
        "*   Submit the link of your competition's account via BlueQuill. "
      ]
    },
    {
      "cell_type": "markdown",
      "metadata": {
        "id": "dT8UOmgTU056",
        "colab_type": "text"
      },
      "source": [
        "**Pump-it Up Water Project - Tanzanian Ministry of Water**\n",
        "\n",
        "Competition Challenge - using data from \"Taarifa\" and the Tanzanian Ministry of Water, can you predict which pumps are functional, which need some repairs, and which don't work at all? This is an intermediate-level practice competition.\n",
        "\n",
        "Predict one of these three classes based on several variables about what kind of pump is operating, when it was installed, and how it is managed. A smart understanding of which water points will fail can improve maintenance operaations and ensure that clean, potable water is available to communities across Tanzania.\n",
        "\n",
        "A training dataset with information of nearly sixty thousand water points across Tanzania is provided its use is expected to build a model that will be able to predict which water points are functional, nonfunctional, and functional but need repair on a test dataset."
      ]
    },
    {
      "cell_type": "code",
      "metadata": {
        "id": "8YJa6vC2bQwe",
        "colab_type": "code",
        "colab": {
          "base_uri": "https://localhost:8080/",
          "height": 411
        },
        "outputId": "b97696d1-721d-462f-a194-60deabc4ef79"
      },
      "source": [
        "# Let's load pandas and see the first few rows of data of the Pump-it Up dataset.\n",
        "import pandas as pd\n",
        "import os\n",
        "import sys\n",
        "water = pd.read_csv('https://raw.githubusercontent.com/bradley1958/DATA612_FINAL_PROJECT/master/Well_Water_19K_Mod.csv')\n",
        "water.head(5)\n",
        "\n"
      ],
      "execution_count": 72,
      "outputs": [
        {
          "output_type": "execute_result",
          "data": {
            "text/html": [
              "<div>\n",
              "<style scoped>\n",
              "    .dataframe tbody tr th:only-of-type {\n",
              "        vertical-align: middle;\n",
              "    }\n",
              "\n",
              "    .dataframe tbody tr th {\n",
              "        vertical-align: top;\n",
              "    }\n",
              "\n",
              "    .dataframe thead th {\n",
              "        text-align: right;\n",
              "    }\n",
              "</style>\n",
              "<table border=\"1\" class=\"dataframe\">\n",
              "  <thead>\n",
              "    <tr style=\"text-align: right;\">\n",
              "      <th></th>\n",
              "      <th>id</th>\n",
              "      <th>amount_tsh</th>\n",
              "      <th>date_recorded</th>\n",
              "      <th>funder</th>\n",
              "      <th>gps_height</th>\n",
              "      <th>installer</th>\n",
              "      <th>longitude</th>\n",
              "      <th>latitude</th>\n",
              "      <th>wpt_name</th>\n",
              "      <th>num_private</th>\n",
              "      <th>basin</th>\n",
              "      <th>subvillage</th>\n",
              "      <th>region</th>\n",
              "      <th>region_code</th>\n",
              "      <th>district_code</th>\n",
              "      <th>lga</th>\n",
              "      <th>ward</th>\n",
              "      <th>population</th>\n",
              "      <th>public_meeting</th>\n",
              "      <th>recorded_by</th>\n",
              "      <th>scheme_management</th>\n",
              "      <th>scheme_name</th>\n",
              "      <th>permit</th>\n",
              "      <th>construction_year</th>\n",
              "      <th>extraction_type</th>\n",
              "      <th>extraction_type_group</th>\n",
              "      <th>extraction_type_class</th>\n",
              "      <th>management</th>\n",
              "      <th>management_group</th>\n",
              "      <th>payment</th>\n",
              "      <th>payment_type</th>\n",
              "      <th>water_quality</th>\n",
              "      <th>quality_group</th>\n",
              "      <th>quantity</th>\n",
              "      <th>quantity_group</th>\n",
              "      <th>source</th>\n",
              "      <th>source_type</th>\n",
              "      <th>source_class</th>\n",
              "      <th>waterpoint_type</th>\n",
              "      <th>waterpoint_type_group</th>\n",
              "      <th>status_group</th>\n",
              "      <th>status_group_name</th>\n",
              "      <th>source_type_name</th>\n",
              "      <th>quality_group_name</th>\n",
              "    </tr>\n",
              "  </thead>\n",
              "  <tbody>\n",
              "    <tr>\n",
              "      <th>0</th>\n",
              "      <td>69572</td>\n",
              "      <td>6000.0</td>\n",
              "      <td>3/14/2011</td>\n",
              "      <td>Roman</td>\n",
              "      <td>1390</td>\n",
              "      <td>Roman</td>\n",
              "      <td>34.938093</td>\n",
              "      <td>-9.856322</td>\n",
              "      <td>none</td>\n",
              "      <td>0</td>\n",
              "      <td>Lake Nyasa</td>\n",
              "      <td>Mnyusi B</td>\n",
              "      <td>Iringa</td>\n",
              "      <td>11</td>\n",
              "      <td>5</td>\n",
              "      <td>Ludewa</td>\n",
              "      <td>Mundindi</td>\n",
              "      <td>109</td>\n",
              "      <td>True</td>\n",
              "      <td>GeoData Consultants Ltd</td>\n",
              "      <td>VWC</td>\n",
              "      <td>Roman</td>\n",
              "      <td>False</td>\n",
              "      <td>1999</td>\n",
              "      <td>gravity</td>\n",
              "      <td>gravity</td>\n",
              "      <td>1</td>\n",
              "      <td>vwc</td>\n",
              "      <td>user-group</td>\n",
              "      <td>pay annually</td>\n",
              "      <td>annually</td>\n",
              "      <td>soft</td>\n",
              "      <td>1</td>\n",
              "      <td>1</td>\n",
              "      <td>enough</td>\n",
              "      <td>spring</td>\n",
              "      <td>1</td>\n",
              "      <td>groundwater</td>\n",
              "      <td>1</td>\n",
              "      <td>communal standpipe</td>\n",
              "      <td>1</td>\n",
              "      <td>functional</td>\n",
              "      <td>spring</td>\n",
              "      <td>good</td>\n",
              "    </tr>\n",
              "    <tr>\n",
              "      <th>1</th>\n",
              "      <td>8776</td>\n",
              "      <td>0.0</td>\n",
              "      <td>3/6/2013</td>\n",
              "      <td>Grumeti</td>\n",
              "      <td>1399</td>\n",
              "      <td>GRUMETI</td>\n",
              "      <td>34.698766</td>\n",
              "      <td>-2.147466</td>\n",
              "      <td>Zahanati</td>\n",
              "      <td>0</td>\n",
              "      <td>Lake Victoria</td>\n",
              "      <td>Nyamara</td>\n",
              "      <td>Mara</td>\n",
              "      <td>20</td>\n",
              "      <td>2</td>\n",
              "      <td>Serengeti</td>\n",
              "      <td>Natta</td>\n",
              "      <td>280</td>\n",
              "      <td>NaN</td>\n",
              "      <td>GeoData Consultants Ltd</td>\n",
              "      <td>Other</td>\n",
              "      <td>NaN</td>\n",
              "      <td>True</td>\n",
              "      <td>2010</td>\n",
              "      <td>gravity</td>\n",
              "      <td>gravity</td>\n",
              "      <td>1</td>\n",
              "      <td>wug</td>\n",
              "      <td>user-group</td>\n",
              "      <td>never pay</td>\n",
              "      <td>never pay</td>\n",
              "      <td>soft</td>\n",
              "      <td>1</td>\n",
              "      <td>2</td>\n",
              "      <td>insufficient</td>\n",
              "      <td>rainwater harvesting</td>\n",
              "      <td>2</td>\n",
              "      <td>surface</td>\n",
              "      <td>1</td>\n",
              "      <td>communal standpipe</td>\n",
              "      <td>1</td>\n",
              "      <td>functional</td>\n",
              "      <td>rainwater harvesting</td>\n",
              "      <td>good</td>\n",
              "    </tr>\n",
              "    <tr>\n",
              "      <th>2</th>\n",
              "      <td>34310</td>\n",
              "      <td>25.0</td>\n",
              "      <td>2/25/2013</td>\n",
              "      <td>Lottery Club</td>\n",
              "      <td>686</td>\n",
              "      <td>World vision</td>\n",
              "      <td>37.460664</td>\n",
              "      <td>-3.821329</td>\n",
              "      <td>Kwa Mahundi</td>\n",
              "      <td>0</td>\n",
              "      <td>Pangani</td>\n",
              "      <td>Majengo</td>\n",
              "      <td>Manyara</td>\n",
              "      <td>21</td>\n",
              "      <td>4</td>\n",
              "      <td>Simanjiro</td>\n",
              "      <td>Ngorika</td>\n",
              "      <td>250</td>\n",
              "      <td>True</td>\n",
              "      <td>GeoData Consultants Ltd</td>\n",
              "      <td>VWC</td>\n",
              "      <td>Nyumba ya mungu pipe scheme</td>\n",
              "      <td>True</td>\n",
              "      <td>2009</td>\n",
              "      <td>gravity</td>\n",
              "      <td>gravity</td>\n",
              "      <td>1</td>\n",
              "      <td>vwc</td>\n",
              "      <td>user-group</td>\n",
              "      <td>pay per bucket</td>\n",
              "      <td>per bucket</td>\n",
              "      <td>soft</td>\n",
              "      <td>1</td>\n",
              "      <td>1</td>\n",
              "      <td>enough</td>\n",
              "      <td>dam</td>\n",
              "      <td>3</td>\n",
              "      <td>surface</td>\n",
              "      <td>4</td>\n",
              "      <td>communal standpipe</td>\n",
              "      <td>1</td>\n",
              "      <td>functional</td>\n",
              "      <td>dam</td>\n",
              "      <td>good</td>\n",
              "    </tr>\n",
              "    <tr>\n",
              "      <th>3</th>\n",
              "      <td>67743</td>\n",
              "      <td>0.0</td>\n",
              "      <td>1/28/2013</td>\n",
              "      <td>Unicef</td>\n",
              "      <td>263</td>\n",
              "      <td>UNICEF</td>\n",
              "      <td>38.486161</td>\n",
              "      <td>-11.155298</td>\n",
              "      <td>Zahanati Ya Nanyumbu</td>\n",
              "      <td>0</td>\n",
              "      <td>Ruvuma / Southern Coast</td>\n",
              "      <td>Mahakamani</td>\n",
              "      <td>Mtwara</td>\n",
              "      <td>90</td>\n",
              "      <td>63</td>\n",
              "      <td>Nanyumbu</td>\n",
              "      <td>Nanyumbu</td>\n",
              "      <td>58</td>\n",
              "      <td>True</td>\n",
              "      <td>GeoData Consultants Ltd</td>\n",
              "      <td>VWC</td>\n",
              "      <td>NaN</td>\n",
              "      <td>True</td>\n",
              "      <td>1986</td>\n",
              "      <td>submersible</td>\n",
              "      <td>submersible</td>\n",
              "      <td>5</td>\n",
              "      <td>vwc</td>\n",
              "      <td>user-group</td>\n",
              "      <td>never pay</td>\n",
              "      <td>never pay</td>\n",
              "      <td>soft</td>\n",
              "      <td>1</td>\n",
              "      <td>0</td>\n",
              "      <td>dry</td>\n",
              "      <td>machine dbh</td>\n",
              "      <td>4</td>\n",
              "      <td>groundwater</td>\n",
              "      <td>4</td>\n",
              "      <td>communal standpipe</td>\n",
              "      <td>0</td>\n",
              "      <td>non functional</td>\n",
              "      <td>borehole</td>\n",
              "      <td>good</td>\n",
              "    </tr>\n",
              "    <tr>\n",
              "      <th>4</th>\n",
              "      <td>19728</td>\n",
              "      <td>0.0</td>\n",
              "      <td>7/13/2011</td>\n",
              "      <td>Action In A</td>\n",
              "      <td>0</td>\n",
              "      <td>Artisan</td>\n",
              "      <td>31.130847</td>\n",
              "      <td>-1.825359</td>\n",
              "      <td>Shuleni</td>\n",
              "      <td>0</td>\n",
              "      <td>Lake Victoria</td>\n",
              "      <td>Kyanyamisa</td>\n",
              "      <td>Kagera</td>\n",
              "      <td>18</td>\n",
              "      <td>1</td>\n",
              "      <td>Karagwe</td>\n",
              "      <td>Nyakasimbi</td>\n",
              "      <td>0</td>\n",
              "      <td>True</td>\n",
              "      <td>GeoData Consultants Ltd</td>\n",
              "      <td>NaN</td>\n",
              "      <td>NaN</td>\n",
              "      <td>True</td>\n",
              "      <td>0</td>\n",
              "      <td>gravity</td>\n",
              "      <td>gravity</td>\n",
              "      <td>1</td>\n",
              "      <td>other</td>\n",
              "      <td>other</td>\n",
              "      <td>never pay</td>\n",
              "      <td>never pay</td>\n",
              "      <td>soft</td>\n",
              "      <td>1</td>\n",
              "      <td>3</td>\n",
              "      <td>seasonal</td>\n",
              "      <td>rainwater harvesting</td>\n",
              "      <td>2</td>\n",
              "      <td>surface</td>\n",
              "      <td>1</td>\n",
              "      <td>communal standpipe</td>\n",
              "      <td>1</td>\n",
              "      <td>functional</td>\n",
              "      <td>rainwater harvesting</td>\n",
              "      <td>good</td>\n",
              "    </tr>\n",
              "  </tbody>\n",
              "</table>\n",
              "</div>"
            ],
            "text/plain": [
              "      id  amount_tsh  ...      source_type_name quality_group_name\n",
              "0  69572      6000.0  ...                spring               good\n",
              "1   8776         0.0  ...  rainwater harvesting               good\n",
              "2  34310        25.0  ...                   dam               good\n",
              "3  67743         0.0  ...              borehole               good\n",
              "4  19728         0.0  ...  rainwater harvesting               good\n",
              "\n",
              "[5 rows x 44 columns]"
            ]
          },
          "metadata": {
            "tags": []
          },
          "execution_count": 72
        }
      ]
    },
    {
      "cell_type": "code",
      "metadata": {
        "id": "ewKPfAe-XQA3",
        "colab_type": "code",
        "colab": {}
      },
      "source": [
        "# Let's load additional pandas features\n",
        "import time\n",
        "import seaborn as sns\n",
        "import warnings\n",
        "import itertools\n",
        "import matplotlib.pyplot as plt\n",
        "import matplotlib.ticker as ticker\n",
        "from matplotlib.ticker import NullFormatter\n",
        "import matplotlib.image as mpimg\n",
        "import numpy as np\n",
        "import pydotplus\n",
        "from sklearn import preprocessing\n",
        "from sklearn.model_selection import train_test_split, GridSearchCV\n",
        "from sklearn.tree import DecisionTreeClassifier\n",
        "from sklearn.ensemble import RandomForestClassifier\n",
        "from sklearn import metrics\n",
        "from sklearn.metrics import classification_report, confusion_matrix\n",
        "from sklearn.externals.six import StringIO\n",
        "from sklearn import tree\n",
        "import scipy.stats as stats\n",
        "from pandas import set_option\n",
        "from sklearn.linear_model import LogisticRegression\n",
        "from sklearn.svm import SVC\n",
        "from sklearn.pipeline import make_pipeline\n",
        "from sklearn.model_selection import cross_val_score\n",
        "from sklearn.neighbors import KNeighborsClassifier\n",
        "from sklearn.preprocessing import StandardScaler\n",
        "import xgboost as xgb\n",
        "from xgboost import XGBClassifier\n",
        "from datetime import datetime\n",
        "import sys\n",
        "\n",
        "\n"
      ],
      "execution_count": 73,
      "outputs": []
    },
    {
      "cell_type": "code",
      "metadata": {
        "id": "tYHFR-_uz9YV",
        "colab_type": "code",
        "colab": {
          "base_uri": "https://localhost:8080/",
          "height": 884
        },
        "outputId": "17aaa316-4883-43e5-89ba-25334dfa6236"
      },
      "source": [
        "# Let's see our Dtype information\n",
        "water.info()"
      ],
      "execution_count": 74,
      "outputs": [
        {
          "output_type": "stream",
          "text": [
            "<class 'pandas.core.frame.DataFrame'>\n",
            "RangeIndex: 59400 entries, 0 to 59399\n",
            "Data columns (total 44 columns):\n",
            " #   Column                 Non-Null Count  Dtype  \n",
            "---  ------                 --------------  -----  \n",
            " 0   id                     59400 non-null  int64  \n",
            " 1   amount_tsh             59400 non-null  float64\n",
            " 2   date_recorded          59400 non-null  object \n",
            " 3   funder                 55765 non-null  object \n",
            " 4   gps_height             59400 non-null  int64  \n",
            " 5   installer              55745 non-null  object \n",
            " 6   longitude              59400 non-null  float64\n",
            " 7   latitude               59400 non-null  float64\n",
            " 8   wpt_name               59400 non-null  object \n",
            " 9   num_private            59400 non-null  int64  \n",
            " 10  basin                  59400 non-null  object \n",
            " 11  subvillage             59029 non-null  object \n",
            " 12  region                 59400 non-null  object \n",
            " 13  region_code            59400 non-null  int64  \n",
            " 14  district_code          59400 non-null  int64  \n",
            " 15  lga                    59400 non-null  object \n",
            " 16  ward                   59400 non-null  object \n",
            " 17  population             59400 non-null  int64  \n",
            " 18  public_meeting         56066 non-null  object \n",
            " 19  recorded_by            59400 non-null  object \n",
            " 20  scheme_management      55523 non-null  object \n",
            " 21  scheme_name            31234 non-null  object \n",
            " 22  permit                 56344 non-null  object \n",
            " 23  construction_year      59400 non-null  int64  \n",
            " 24  extraction_type        59400 non-null  object \n",
            " 25  extraction_type_group  59400 non-null  object \n",
            " 26  extraction_type_class  59400 non-null  object \n",
            " 27  management             59400 non-null  object \n",
            " 28  management_group       59400 non-null  object \n",
            " 29  payment                59400 non-null  object \n",
            " 30  payment_type           59400 non-null  object \n",
            " 31  water_quality          59400 non-null  object \n",
            " 32  quality_group          59400 non-null  object \n",
            " 33  quantity               59400 non-null  int64  \n",
            " 34  quantity_group         59400 non-null  object \n",
            " 35  source                 59400 non-null  object \n",
            " 36  source_type            59400 non-null  int64  \n",
            " 37  source_class           59400 non-null  object \n",
            " 38  waterpoint_type        59400 non-null  int64  \n",
            " 39  waterpoint_type_group  59400 non-null  object \n",
            " 40  status_group           59400 non-null  int64  \n",
            " 41  status_group_name      59400 non-null  object \n",
            " 42  source_type_name       59400 non-null  object \n",
            " 43  quality_group_name     59400 non-null  object \n",
            "dtypes: float64(3), int64(11), object(30)\n",
            "memory usage: 19.9+ MB\n"
          ],
          "name": "stdout"
        }
      ]
    },
    {
      "cell_type": "code",
      "metadata": {
        "id": "b0sxHq8jb26i",
        "colab_type": "code",
        "colab": {
          "base_uri": "https://localhost:8080/",
          "height": 794
        },
        "outputId": "ca7ea0c4-e983-4f62-a884-e44387e10df9"
      },
      "source": [
        "# Let's do a Correlation Matrix \n",
        "corr = water.corr()\n",
        "f, ax = plt.subplots(figsize=(17, 17))\n",
        "sns.heatmap(corr, square=True, cbar=True, annot=True, fmt='.2f',\n",
        "            xticklabels=True, yticklabels=True, \n",
        "            cmap=\"coolwarm\", linewidth=1, ax=ax)\n",
        "plt.title('PUMP IT UP - HEATMAP', size=17);\n",
        "\n"
      ],
      "execution_count": 76,
      "outputs": [
        {
          "output_type": "display_data",
          "data": {
            "image/png": "[encoded data removed]",
            "text/plain": [
              "<Figure size 1224x1224 with 2 Axes>"
            ]
          },
          "metadata": {
            "tags": [],
            "needs_background": "light"
          }
        }
      ]
    },
    {
      "cell_type": "code",
      "metadata": {
        "id": "XWzUMen7aQ1y",
        "colab_type": "code",
        "colab": {
          "base_uri": "https://localhost:8080/",
          "height": 153
        },
        "outputId": "aee46e5d-f6ce-4f38-fc56-93292e6521d8"
      },
      "source": [
        "# Let's create a count of Status Group values by Waterpoint Type with a Bar Chart\n",
        "water_type = water.groupby('waterpoint_type_group')[['status_group']].count()\n",
        "print(water_type)\n",
        "\n"
      ],
      "execution_count": 77,
      "outputs": [
        {
          "output_type": "stream",
          "text": [
            "                       status_group\n",
            "waterpoint_type_group              \n",
            "cattle trough                   116\n",
            "communal standpipe            34625\n",
            "dam                               7\n",
            "hand pump                     17488\n",
            "improved spring                 784\n",
            "other                          6380\n"
          ],
          "name": "stdout"
        }
      ]
    },
    {
      "cell_type": "code",
      "metadata": {
        "id": "naC3welB0k8S",
        "colab_type": "code",
        "colab": {
          "base_uri": "https://localhost:8080/",
          "height": 170
        },
        "outputId": "1b3a74e2-7fcf-4504-c47f-bae0b20768d1"
      },
      "source": [
        "# Let's see the Numeric Coding for the Waterpoint Type\n",
        "water_type = water.groupby('waterpoint_type')[['status_group']].count()\n",
        "print(water_type)"
      ],
      "execution_count": 78,
      "outputs": [
        {
          "output_type": "stream",
          "text": [
            "                 status_group\n",
            "waterpoint_type              \n",
            "0                         116\n",
            "1                       28522\n",
            "2                       17488\n",
            "3                        6380\n",
            "4                        6103\n",
            "5                         784\n",
            "7                           7\n"
          ],
          "name": "stdout"
        }
      ]
    },
    {
      "cell_type": "code",
      "metadata": {
        "id": "5q-fTnpPv_zu",
        "colab_type": "code",
        "colab": {
          "base_uri": "https://localhost:8080/",
          "height": 51
        },
        "outputId": "d0fc6c0c-6f95-42b0-9474-2ad34601f9bd"
      },
      "source": [
        "# Let's see the above sum of the Waterpoint Type\n",
        "water_type = water.groupby('waterpoint_type_group')[['status_group']].count().sum()\n",
        "print(water_type)"
      ],
      "execution_count": 79,
      "outputs": [
        {
          "output_type": "stream",
          "text": [
            "status_group    59400\n",
            "dtype: int64\n"
          ],
          "name": "stdout"
        }
      ]
    },
    {
      "cell_type": "code",
      "metadata": {
        "id": "T3HbTPiSqL6X",
        "colab_type": "code",
        "colab": {
          "base_uri": "https://localhost:8080/",
          "height": 250
        },
        "outputId": "df8b0d55-8236-4060-e5d8-52d51ed1f4b9"
      },
      "source": [
        "pump_count = water['waterpoint_type_group'].value_counts()\n",
        "pump_count = pump_count[:7,]\n",
        "plt.figure(figsize=(20,5))\n",
        "sns.barplot(pump_count.index, pump_count.values, alpha=0.5)\n",
        "plt.title('Functional Status/Pump Count vs. Waterpoint Type')\n",
        "plt.ylabel('Pump Count')\n",
        "plt.xlabel('Waterpoint Type')\n",
        "plt.show()"
      ],
      "execution_count": 69,
      "outputs": [
        {
          "output_type": "display_data",
          "data": {
            "image/png": "[encoded data removed]",
            "text/plain": [
              "<Figure size 1440x360 with 1 Axes>"
            ]
          },
          "metadata": {
            "tags": [],
            "needs_background": "light"
          }
        }
      ]
    },
    {
      "cell_type": "code",
      "metadata": {
        "id": "0oDFtn8InbY3",
        "colab_type": "code",
        "colab": {
          "base_uri": "https://localhost:8080/",
          "height": 282
        },
        "outputId": "64eb27bc-88db-48e3-ef36-b88a5bef76df"
      },
      "source": [
        "# Let's create a count of Status Group values by Region with a Bar Chart\n",
        "region = water.groupby('region')[['status_group']].count()\n",
        "region.plot(kind='barh')\n"
      ],
      "execution_count": 47,
      "outputs": [
        {
          "output_type": "execute_result",
          "data": {
            "text/plain": [
              "<matplotlib.axes._subplots.AxesSubplot at 0x7efc6fc48390>"
            ]
          },
          "metadata": {
            "tags": []
          },
          "execution_count": 47
        },
        {
          "output_type": "display_data",
          "data": {
            "image/png": "[encoded data removed]",
            "text/plain": [
              "<Figure size 432x288 with 1 Axes>"
            ]
          },
          "metadata": {
            "tags": [],
            "needs_background": "light"
          }
        }
      ]
    },
    {
      "cell_type": "code",
      "metadata": {
        "id": "NLe0su4fyDga",
        "colab_type": "code",
        "colab": {
          "base_uri": "https://localhost:8080/",
          "height": 247
        },
        "outputId": "4f947ee3-9c8d-4ccc-9a27-c58c2c553470"
      },
      "source": [
        "region_count = water['region'].value_counts()\n",
        "region_count = region_count[:21,]\n",
        "plt.figure(figsize=(20,5))\n",
        "sns.barplot(region_count.index, region_count.values, alpha=0.5)\n",
        "plt.title('Functional Status/Pump Count vs. Tanzaian Region')\n",
        "plt.ylabel('Pump Status Count')\n",
        "plt.xlabel('Region')\n",
        "plt.show()\n",
        "\n",
        "\n",
        "\n"
      ],
      "execution_count": 80,
      "outputs": [
        {
          "output_type": "display_data",
          "data": {
            "image/png": "[encoded data removed]",
            "text/plain": [
              "<Figure size 1440x360 with 1 Axes>"
            ]
          },
          "metadata": {
            "tags": [],
            "needs_background": "light"
          }
        }
      ]
    },
    {
      "cell_type": "code",
      "metadata": {
        "id": "Tuw70fYW8C6G",
        "colab_type": "code",
        "colab": {
          "base_uri": "https://localhost:8080/",
          "height": 408
        },
        "outputId": "274e5b99-5ea7-47a0-8fe6-8ebb64aeea60"
      },
      "source": [
        "# Let's reverse the above chart to look at functional well status in the region\n",
        "region = water.groupby('region')[['status_group_name']].count()\n",
        "print(region)\n"
      ],
      "execution_count": 81,
      "outputs": [
        {
          "output_type": "stream",
          "text": [
            "               status_group_name\n",
            "region                          \n",
            "Arusha                      3350\n",
            "Dar es Salaam                805\n",
            "Dodoma                      2201\n",
            "Iringa                      5294\n",
            "Kagera                      3316\n",
            "Kigoma                      2816\n",
            "Kilimanjaro                 4379\n",
            "Lindi                       1546\n",
            "Manyara                     1583\n",
            "Mara                        1969\n",
            "Mbeya                       4639\n",
            "Morogoro                    4006\n",
            "Mtwara                      1730\n",
            "Mwanza                      3102\n",
            "Pwani                       2635\n",
            "Rukwa                       1808\n",
            "Ruvuma                      2640\n",
            "Shinyanga                   4982\n",
            "Singida                     2093\n",
            "Tabora                      1959\n",
            "Tanga                       2547\n"
          ],
          "name": "stdout"
        }
      ]
    },
    {
      "cell_type": "code",
      "metadata": {
        "id": "7jPVCOuJnyTv",
        "colab_type": "code",
        "colab": {
          "base_uri": "https://localhost:8080/",
          "height": 309
        },
        "outputId": "9ff26b67-ffa8-465a-aa8f-823fa02b2d46"
      },
      "source": [
        "# Let's try and convert our Column \"date_recorded\" to a pandas \"datatime\" column called \"Date\"\n",
        "water['Date'] = pd.to_datetime(water['date_recorded'], format='%m/%d/%Y')\n",
        "water.head()"
      ],
      "execution_count": 70,
      "outputs": [
        {
          "output_type": "execute_result",
          "data": {
            "text/html": [
              "<div>\n",
              "<style scoped>\n",
              "    .dataframe tbody tr th:only-of-type {\n",
              "        vertical-align: middle;\n",
              "    }\n",
              "\n",
              "    .dataframe tbody tr th {\n",
              "        vertical-align: top;\n",
              "    }\n",
              "\n",
              "    .dataframe thead th {\n",
              "        text-align: right;\n",
              "    }\n",
              "</style>\n",
              "<table border=\"1\" class=\"dataframe\">\n",
              "  <thead>\n",
              "    <tr style=\"text-align: right;\">\n",
              "      <th></th>\n",
              "      <th>amount_tsh</th>\n",
              "      <th>date_recorded</th>\n",
              "      <th>gps_height</th>\n",
              "      <th>installer</th>\n",
              "      <th>longitude</th>\n",
              "      <th>latitude</th>\n",
              "      <th>num_private</th>\n",
              "      <th>region</th>\n",
              "      <th>region_code</th>\n",
              "      <th>district_code</th>\n",
              "      <th>population</th>\n",
              "      <th>construction_year</th>\n",
              "      <th>extraction_type</th>\n",
              "      <th>extraction_type_group</th>\n",
              "      <th>extraction_type_class</th>\n",
              "      <th>water_quality</th>\n",
              "      <th>quality_group</th>\n",
              "      <th>quantity</th>\n",
              "      <th>quantity_group</th>\n",
              "      <th>source</th>\n",
              "      <th>source_type</th>\n",
              "      <th>source_class</th>\n",
              "      <th>waterpoint_type</th>\n",
              "      <th>waterpoint_type_group</th>\n",
              "      <th>status_group</th>\n",
              "      <th>status_group_name</th>\n",
              "      <th>source_type_name</th>\n",
              "      <th>quality_group_name</th>\n",
              "      <th>Date</th>\n",
              "    </tr>\n",
              "  </thead>\n",
              "  <tbody>\n",
              "    <tr>\n",
              "      <th>0</th>\n",
              "      <td>6000.0</td>\n",
              "      <td>3/14/2011</td>\n",
              "      <td>1390</td>\n",
              "      <td>Roman</td>\n",
              "      <td>34.938093</td>\n",
              "      <td>-9.856322</td>\n",
              "      <td>0</td>\n",
              "      <td>Iringa</td>\n",
              "      <td>11</td>\n",
              "      <td>5</td>\n",
              "      <td>109</td>\n",
              "      <td>1999</td>\n",
              "      <td>gravity</td>\n",
              "      <td>gravity</td>\n",
              "      <td>1</td>\n",
              "      <td>soft</td>\n",
              "      <td>1</td>\n",
              "      <td>1</td>\n",
              "      <td>enough</td>\n",
              "      <td>spring</td>\n",
              "      <td>1</td>\n",
              "      <td>groundwater</td>\n",
              "      <td>1</td>\n",
              "      <td>communal standpipe</td>\n",
              "      <td>1</td>\n",
              "      <td>functional</td>\n",
              "      <td>spring</td>\n",
              "      <td>good</td>\n",
              "      <td>2011-03-14</td>\n",
              "    </tr>\n",
              "    <tr>\n",
              "      <th>1</th>\n",
              "      <td>0.0</td>\n",
              "      <td>3/6/2013</td>\n",
              "      <td>1399</td>\n",
              "      <td>GRUMETI</td>\n",
              "      <td>34.698766</td>\n",
              "      <td>-2.147466</td>\n",
              "      <td>0</td>\n",
              "      <td>Mara</td>\n",
              "      <td>20</td>\n",
              "      <td>2</td>\n",
              "      <td>280</td>\n",
              "      <td>2010</td>\n",
              "      <td>gravity</td>\n",
              "      <td>gravity</td>\n",
              "      <td>1</td>\n",
              "      <td>soft</td>\n",
              "      <td>1</td>\n",
              "      <td>2</td>\n",
              "      <td>insufficient</td>\n",
              "      <td>rainwater harvesting</td>\n",
              "      <td>2</td>\n",
              "      <td>surface</td>\n",
              "      <td>1</td>\n",
              "      <td>communal standpipe</td>\n",
              "      <td>1</td>\n",
              "      <td>functional</td>\n",
              "      <td>rainwater harvesting</td>\n",
              "      <td>good</td>\n",
              "      <td>2013-03-06</td>\n",
              "    </tr>\n",
              "    <tr>\n",
              "      <th>2</th>\n",
              "      <td>25.0</td>\n",
              "      <td>2/25/2013</td>\n",
              "      <td>686</td>\n",
              "      <td>World vision</td>\n",
              "      <td>37.460664</td>\n",
              "      <td>-3.821329</td>\n",
              "      <td>0</td>\n",
              "      <td>Manyara</td>\n",
              "      <td>21</td>\n",
              "      <td>4</td>\n",
              "      <td>250</td>\n",
              "      <td>2009</td>\n",
              "      <td>gravity</td>\n",
              "      <td>gravity</td>\n",
              "      <td>1</td>\n",
              "      <td>soft</td>\n",
              "      <td>1</td>\n",
              "      <td>1</td>\n",
              "      <td>enough</td>\n",
              "      <td>dam</td>\n",
              "      <td>3</td>\n",
              "      <td>surface</td>\n",
              "      <td>4</td>\n",
              "      <td>communal standpipe</td>\n",
              "      <td>1</td>\n",
              "      <td>functional</td>\n",
              "      <td>dam</td>\n",
              "      <td>good</td>\n",
              "      <td>2013-02-25</td>\n",
              "    </tr>\n",
              "    <tr>\n",
              "      <th>3</th>\n",
              "      <td>0.0</td>\n",
              "      <td>1/28/2013</td>\n",
              "      <td>263</td>\n",
              "      <td>UNICEF</td>\n",
              "      <td>38.486161</td>\n",
              "      <td>-11.155298</td>\n",
              "      <td>0</td>\n",
              "      <td>Mtwara</td>\n",
              "      <td>90</td>\n",
              "      <td>63</td>\n",
              "      <td>58</td>\n",
              "      <td>1986</td>\n",
              "      <td>submersible</td>\n",
              "      <td>submersible</td>\n",
              "      <td>5</td>\n",
              "      <td>soft</td>\n",
              "      <td>1</td>\n",
              "      <td>0</td>\n",
              "      <td>dry</td>\n",
              "      <td>machine dbh</td>\n",
              "      <td>4</td>\n",
              "      <td>groundwater</td>\n",
              "      <td>4</td>\n",
              "      <td>communal standpipe</td>\n",
              "      <td>0</td>\n",
              "      <td>non functional</td>\n",
              "      <td>borehole</td>\n",
              "      <td>good</td>\n",
              "      <td>2013-01-28</td>\n",
              "    </tr>\n",
              "    <tr>\n",
              "      <th>4</th>\n",
              "      <td>0.0</td>\n",
              "      <td>7/13/2011</td>\n",
              "      <td>0</td>\n",
              "      <td>Artisan</td>\n",
              "      <td>31.130847</td>\n",
              "      <td>-1.825359</td>\n",
              "      <td>0</td>\n",
              "      <td>Kagera</td>\n",
              "      <td>18</td>\n",
              "      <td>1</td>\n",
              "      <td>0</td>\n",
              "      <td>1986</td>\n",
              "      <td>gravity</td>\n",
              "      <td>gravity</td>\n",
              "      <td>1</td>\n",
              "      <td>soft</td>\n",
              "      <td>1</td>\n",
              "      <td>3</td>\n",
              "      <td>seasonal</td>\n",
              "      <td>rainwater harvesting</td>\n",
              "      <td>2</td>\n",
              "      <td>surface</td>\n",
              "      <td>1</td>\n",
              "      <td>communal standpipe</td>\n",
              "      <td>1</td>\n",
              "      <td>functional</td>\n",
              "      <td>rainwater harvesting</td>\n",
              "      <td>good</td>\n",
              "      <td>2011-07-13</td>\n",
              "    </tr>\n",
              "  </tbody>\n",
              "</table>\n",
              "</div>"
            ],
            "text/plain": [
              "   amount_tsh date_recorded  ...  quality_group_name       Date\n",
              "0      6000.0     3/14/2011  ...                good 2011-03-14\n",
              "1         0.0      3/6/2013  ...                good 2013-03-06\n",
              "2        25.0     2/25/2013  ...                good 2013-02-25\n",
              "3         0.0     1/28/2013  ...                good 2013-01-28\n",
              "4         0.0     7/13/2011  ...                good 2011-07-13\n",
              "\n",
              "[5 rows x 29 columns]"
            ]
          },
          "metadata": {
            "tags": []
          },
          "execution_count": 70
        }
      ]
    },
    {
      "cell_type": "code",
      "metadata": {
        "id": "IEt3z6Ibpq1g",
        "colab_type": "code",
        "colab": {
          "base_uri": "https://localhost:8080/",
          "height": 884
        },
        "outputId": "771505a0-299c-4945-db0b-24b33bf16eb9"
      },
      "source": [
        "# Let's see Dtypes again\n",
        "water.info()"
      ],
      "execution_count": 82,
      "outputs": [
        {
          "output_type": "stream",
          "text": [
            "<class 'pandas.core.frame.DataFrame'>\n",
            "RangeIndex: 59400 entries, 0 to 59399\n",
            "Data columns (total 44 columns):\n",
            " #   Column                 Non-Null Count  Dtype  \n",
            "---  ------                 --------------  -----  \n",
            " 0   id                     59400 non-null  int64  \n",
            " 1   amount_tsh             59400 non-null  float64\n",
            " 2   date_recorded          59400 non-null  object \n",
            " 3   funder                 55765 non-null  object \n",
            " 4   gps_height             59400 non-null  int64  \n",
            " 5   installer              55745 non-null  object \n",
            " 6   longitude              59400 non-null  float64\n",
            " 7   latitude               59400 non-null  float64\n",
            " 8   wpt_name               59400 non-null  object \n",
            " 9   num_private            59400 non-null  int64  \n",
            " 10  basin                  59400 non-null  object \n",
            " 11  subvillage             59029 non-null  object \n",
            " 12  region                 59400 non-null  object \n",
            " 13  region_code            59400 non-null  int64  \n",
            " 14  district_code          59400 non-null  int64  \n",
            " 15  lga                    59400 non-null  object \n",
            " 16  ward                   59400 non-null  object \n",
            " 17  population             59400 non-null  int64  \n",
            " 18  public_meeting         56066 non-null  object \n",
            " 19  recorded_by            59400 non-null  object \n",
            " 20  scheme_management      55523 non-null  object \n",
            " 21  scheme_name            31234 non-null  object \n",
            " 22  permit                 56344 non-null  object \n",
            " 23  construction_year      59400 non-null  int64  \n",
            " 24  extraction_type        59400 non-null  object \n",
            " 25  extraction_type_group  59400 non-null  object \n",
            " 26  extraction_type_class  59400 non-null  object \n",
            " 27  management             59400 non-null  object \n",
            " 28  management_group       59400 non-null  object \n",
            " 29  payment                59400 non-null  object \n",
            " 30  payment_type           59400 non-null  object \n",
            " 31  water_quality          59400 non-null  object \n",
            " 32  quality_group          59400 non-null  object \n",
            " 33  quantity               59400 non-null  int64  \n",
            " 34  quantity_group         59400 non-null  object \n",
            " 35  source                 59400 non-null  object \n",
            " 36  source_type            59400 non-null  int64  \n",
            " 37  source_class           59400 non-null  object \n",
            " 38  waterpoint_type        59400 non-null  int64  \n",
            " 39  waterpoint_type_group  59400 non-null  object \n",
            " 40  status_group           59400 non-null  int64  \n",
            " 41  status_group_name      59400 non-null  object \n",
            " 42  source_type_name       59400 non-null  object \n",
            " 43  quality_group_name     59400 non-null  object \n",
            "dtypes: float64(3), int64(11), object(30)\n",
            "memory usage: 19.9+ MB\n"
          ],
          "name": "stdout"
        }
      ]
    },
    {
      "cell_type": "code",
      "metadata": {
        "id": "aFOwUoRKFucs",
        "colab_type": "code",
        "colab": {
          "base_uri": "https://localhost:8080/",
          "height": 34
        },
        "outputId": "bafa0b9a-bc23-47dd-cd92-82987c0dd29c"
      },
      "source": [
        "# Let's try and replace our zero's in the Construction Year Column with the \"median value\" for that Column\n",
        "print(water['construction_year'].median())\n"
      ],
      "execution_count": 83,
      "outputs": [
        {
          "output_type": "stream",
          "text": [
            "1986.0\n"
          ],
          "name": "stdout"
        }
      ]
    },
    {
      "cell_type": "code",
      "metadata": {
        "id": "9wD6l4VaGd7G",
        "colab_type": "code",
        "colab": {
          "base_uri": "https://localhost:8080/",
          "height": 411
        },
        "outputId": "b997787b-76d3-417e-9f2e-3eb331667abe"
      },
      "source": [
        "water['construction_year'] = water['construction_year'].replace(0, 1986.0)\n",
        "water.head(5)"
      ],
      "execution_count": 84,
      "outputs": [
        {
          "output_type": "execute_result",
          "data": {
            "text/html": [
              "<div>\n",
              "<style scoped>\n",
              "    .dataframe tbody tr th:only-of-type {\n",
              "        vertical-align: middle;\n",
              "    }\n",
              "\n",
              "    .dataframe tbody tr th {\n",
              "        vertical-align: top;\n",
              "    }\n",
              "\n",
              "    .dataframe thead th {\n",
              "        text-align: right;\n",
              "    }\n",
              "</style>\n",
              "<table border=\"1\" class=\"dataframe\">\n",
              "  <thead>\n",
              "    <tr style=\"text-align: right;\">\n",
              "      <th></th>\n",
              "      <th>id</th>\n",
              "      <th>amount_tsh</th>\n",
              "      <th>date_recorded</th>\n",
              "      <th>funder</th>\n",
              "      <th>gps_height</th>\n",
              "      <th>installer</th>\n",
              "      <th>longitude</th>\n",
              "      <th>latitude</th>\n",
              "      <th>wpt_name</th>\n",
              "      <th>num_private</th>\n",
              "      <th>basin</th>\n",
              "      <th>subvillage</th>\n",
              "      <th>region</th>\n",
              "      <th>region_code</th>\n",
              "      <th>district_code</th>\n",
              "      <th>lga</th>\n",
              "      <th>ward</th>\n",
              "      <th>population</th>\n",
              "      <th>public_meeting</th>\n",
              "      <th>recorded_by</th>\n",
              "      <th>scheme_management</th>\n",
              "      <th>scheme_name</th>\n",
              "      <th>permit</th>\n",
              "      <th>construction_year</th>\n",
              "      <th>extraction_type</th>\n",
              "      <th>extraction_type_group</th>\n",
              "      <th>extraction_type_class</th>\n",
              "      <th>management</th>\n",
              "      <th>management_group</th>\n",
              "      <th>payment</th>\n",
              "      <th>payment_type</th>\n",
              "      <th>water_quality</th>\n",
              "      <th>quality_group</th>\n",
              "      <th>quantity</th>\n",
              "      <th>quantity_group</th>\n",
              "      <th>source</th>\n",
              "      <th>source_type</th>\n",
              "      <th>source_class</th>\n",
              "      <th>waterpoint_type</th>\n",
              "      <th>waterpoint_type_group</th>\n",
              "      <th>status_group</th>\n",
              "      <th>status_group_name</th>\n",
              "      <th>source_type_name</th>\n",
              "      <th>quality_group_name</th>\n",
              "    </tr>\n",
              "  </thead>\n",
              "  <tbody>\n",
              "    <tr>\n",
              "      <th>0</th>\n",
              "      <td>69572</td>\n",
              "      <td>6000.0</td>\n",
              "      <td>3/14/2011</td>\n",
              "      <td>Roman</td>\n",
              "      <td>1390</td>\n",
              "      <td>Roman</td>\n",
              "      <td>34.938093</td>\n",
              "      <td>-9.856322</td>\n",
              "      <td>none</td>\n",
              "      <td>0</td>\n",
              "      <td>Lake Nyasa</td>\n",
              "      <td>Mnyusi B</td>\n",
              "      <td>Iringa</td>\n",
              "      <td>11</td>\n",
              "      <td>5</td>\n",
              "      <td>Ludewa</td>\n",
              "      <td>Mundindi</td>\n",
              "      <td>109</td>\n",
              "      <td>True</td>\n",
              "      <td>GeoData Consultants Ltd</td>\n",
              "      <td>VWC</td>\n",
              "      <td>Roman</td>\n",
              "      <td>False</td>\n",
              "      <td>1999</td>\n",
              "      <td>gravity</td>\n",
              "      <td>gravity</td>\n",
              "      <td>1</td>\n",
              "      <td>vwc</td>\n",
              "      <td>user-group</td>\n",
              "      <td>pay annually</td>\n",
              "      <td>annually</td>\n",
              "      <td>soft</td>\n",
              "      <td>1</td>\n",
              "      <td>1</td>\n",
              "      <td>enough</td>\n",
              "      <td>spring</td>\n",
              "      <td>1</td>\n",
              "      <td>groundwater</td>\n",
              "      <td>1</td>\n",
              "      <td>communal standpipe</td>\n",
              "      <td>1</td>\n",
              "      <td>functional</td>\n",
              "      <td>spring</td>\n",
              "      <td>good</td>\n",
              "    </tr>\n",
              "    <tr>\n",
              "      <th>1</th>\n",
              "      <td>8776</td>\n",
              "      <td>0.0</td>\n",
              "      <td>3/6/2013</td>\n",
              "      <td>Grumeti</td>\n",
              "      <td>1399</td>\n",
              "      <td>GRUMETI</td>\n",
              "      <td>34.698766</td>\n",
              "      <td>-2.147466</td>\n",
              "      <td>Zahanati</td>\n",
              "      <td>0</td>\n",
              "      <td>Lake Victoria</td>\n",
              "      <td>Nyamara</td>\n",
              "      <td>Mara</td>\n",
              "      <td>20</td>\n",
              "      <td>2</td>\n",
              "      <td>Serengeti</td>\n",
              "      <td>Natta</td>\n",
              "      <td>280</td>\n",
              "      <td>NaN</td>\n",
              "      <td>GeoData Consultants Ltd</td>\n",
              "      <td>Other</td>\n",
              "      <td>NaN</td>\n",
              "      <td>True</td>\n",
              "      <td>2010</td>\n",
              "      <td>gravity</td>\n",
              "      <td>gravity</td>\n",
              "      <td>1</td>\n",
              "      <td>wug</td>\n",
              "      <td>user-group</td>\n",
              "      <td>never pay</td>\n",
              "      <td>never pay</td>\n",
              "      <td>soft</td>\n",
              "      <td>1</td>\n",
              "      <td>2</td>\n",
              "      <td>insufficient</td>\n",
              "      <td>rainwater harvesting</td>\n",
              "      <td>2</td>\n",
              "      <td>surface</td>\n",
              "      <td>1</td>\n",
              "      <td>communal standpipe</td>\n",
              "      <td>1</td>\n",
              "      <td>functional</td>\n",
              "      <td>rainwater harvesting</td>\n",
              "      <td>good</td>\n",
              "    </tr>\n",
              "    <tr>\n",
              "      <th>2</th>\n",
              "      <td>34310</td>\n",
              "      <td>25.0</td>\n",
              "      <td>2/25/2013</td>\n",
              "      <td>Lottery Club</td>\n",
              "      <td>686</td>\n",
              "      <td>World vision</td>\n",
              "      <td>37.460664</td>\n",
              "      <td>-3.821329</td>\n",
              "      <td>Kwa Mahundi</td>\n",
              "      <td>0</td>\n",
              "      <td>Pangani</td>\n",
              "      <td>Majengo</td>\n",
              "      <td>Manyara</td>\n",
              "      <td>21</td>\n",
              "      <td>4</td>\n",
              "      <td>Simanjiro</td>\n",
              "      <td>Ngorika</td>\n",
              "      <td>250</td>\n",
              "      <td>True</td>\n",
              "      <td>GeoData Consultants Ltd</td>\n",
              "      <td>VWC</td>\n",
              "      <td>Nyumba ya mungu pipe scheme</td>\n",
              "      <td>True</td>\n",
              "      <td>2009</td>\n",
              "      <td>gravity</td>\n",
              "      <td>gravity</td>\n",
              "      <td>1</td>\n",
              "      <td>vwc</td>\n",
              "      <td>user-group</td>\n",
              "      <td>pay per bucket</td>\n",
              "      <td>per bucket</td>\n",
              "      <td>soft</td>\n",
              "      <td>1</td>\n",
              "      <td>1</td>\n",
              "      <td>enough</td>\n",
              "      <td>dam</td>\n",
              "      <td>3</td>\n",
              "      <td>surface</td>\n",
              "      <td>4</td>\n",
              "      <td>communal standpipe</td>\n",
              "      <td>1</td>\n",
              "      <td>functional</td>\n",
              "      <td>dam</td>\n",
              "      <td>good</td>\n",
              "    </tr>\n",
              "    <tr>\n",
              "      <th>3</th>\n",
              "      <td>67743</td>\n",
              "      <td>0.0</td>\n",
              "      <td>1/28/2013</td>\n",
              "      <td>Unicef</td>\n",
              "      <td>263</td>\n",
              "      <td>UNICEF</td>\n",
              "      <td>38.486161</td>\n",
              "      <td>-11.155298</td>\n",
              "      <td>Zahanati Ya Nanyumbu</td>\n",
              "      <td>0</td>\n",
              "      <td>Ruvuma / Southern Coast</td>\n",
              "      <td>Mahakamani</td>\n",
              "      <td>Mtwara</td>\n",
              "      <td>90</td>\n",
              "      <td>63</td>\n",
              "      <td>Nanyumbu</td>\n",
              "      <td>Nanyumbu</td>\n",
              "      <td>58</td>\n",
              "      <td>True</td>\n",
              "      <td>GeoData Consultants Ltd</td>\n",
              "      <td>VWC</td>\n",
              "      <td>NaN</td>\n",
              "      <td>True</td>\n",
              "      <td>1986</td>\n",
              "      <td>submersible</td>\n",
              "      <td>submersible</td>\n",
              "      <td>5</td>\n",
              "      <td>vwc</td>\n",
              "      <td>user-group</td>\n",
              "      <td>never pay</td>\n",
              "      <td>never pay</td>\n",
              "      <td>soft</td>\n",
              "      <td>1</td>\n",
              "      <td>0</td>\n",
              "      <td>dry</td>\n",
              "      <td>machine dbh</td>\n",
              "      <td>4</td>\n",
              "      <td>groundwater</td>\n",
              "      <td>4</td>\n",
              "      <td>communal standpipe</td>\n",
              "      <td>0</td>\n",
              "      <td>non functional</td>\n",
              "      <td>borehole</td>\n",
              "      <td>good</td>\n",
              "    </tr>\n",
              "    <tr>\n",
              "      <th>4</th>\n",
              "      <td>19728</td>\n",
              "      <td>0.0</td>\n",
              "      <td>7/13/2011</td>\n",
              "      <td>Action In A</td>\n",
              "      <td>0</td>\n",
              "      <td>Artisan</td>\n",
              "      <td>31.130847</td>\n",
              "      <td>-1.825359</td>\n",
              "      <td>Shuleni</td>\n",
              "      <td>0</td>\n",
              "      <td>Lake Victoria</td>\n",
              "      <td>Kyanyamisa</td>\n",
              "      <td>Kagera</td>\n",
              "      <td>18</td>\n",
              "      <td>1</td>\n",
              "      <td>Karagwe</td>\n",
              "      <td>Nyakasimbi</td>\n",
              "      <td>0</td>\n",
              "      <td>True</td>\n",
              "      <td>GeoData Consultants Ltd</td>\n",
              "      <td>NaN</td>\n",
              "      <td>NaN</td>\n",
              "      <td>True</td>\n",
              "      <td>1986</td>\n",
              "      <td>gravity</td>\n",
              "      <td>gravity</td>\n",
              "      <td>1</td>\n",
              "      <td>other</td>\n",
              "      <td>other</td>\n",
              "      <td>never pay</td>\n",
              "      <td>never pay</td>\n",
              "      <td>soft</td>\n",
              "      <td>1</td>\n",
              "      <td>3</td>\n",
              "      <td>seasonal</td>\n",
              "      <td>rainwater harvesting</td>\n",
              "      <td>2</td>\n",
              "      <td>surface</td>\n",
              "      <td>1</td>\n",
              "      <td>communal standpipe</td>\n",
              "      <td>1</td>\n",
              "      <td>functional</td>\n",
              "      <td>rainwater harvesting</td>\n",
              "      <td>good</td>\n",
              "    </tr>\n",
              "  </tbody>\n",
              "</table>\n",
              "</div>"
            ],
            "text/plain": [
              "      id  amount_tsh  ...      source_type_name quality_group_name\n",
              "0  69572      6000.0  ...                spring               good\n",
              "1   8776         0.0  ...  rainwater harvesting               good\n",
              "2  34310        25.0  ...                   dam               good\n",
              "3  67743         0.0  ...              borehole               good\n",
              "4  19728         0.0  ...  rainwater harvesting               good\n",
              "\n",
              "[5 rows x 44 columns]"
            ]
          },
          "metadata": {
            "tags": []
          },
          "execution_count": 84
        }
      ]
    },
    {
      "cell_type": "markdown",
      "metadata": {
        "id": "p719Lfy2G8_X",
        "colab_type": "text"
      },
      "source": [
        "So, we can see that we have replaced all the zero's in the water dataframe with the value of (1986). "
      ]
    },
    {
      "cell_type": "code",
      "metadata": {
        "id": "hhrkf8k7rBUC",
        "colab_type": "code",
        "colab": {
          "base_uri": "https://localhost:8080/",
          "height": 379
        },
        "outputId": "73a8dde3-ac6d-42ed-8917-009d086aff8e"
      },
      "source": [
        "# let's create a subset for our water project\n",
        "# We will pull the most important categorical variables along with our target variable \"status_group\"\n",
        "subset_water = water[['amount_tsh', 'region_code','population','gps_height','construction_year','quantity', 'waterpoint_type', 'status_group', 'source_type', 'district_code', 'num_private', 'id']]\n",
        "subset_water.head(10)"
      ],
      "execution_count": 85,
      "outputs": [
        {
          "output_type": "execute_result",
          "data": {
            "text/html": [
              "<div>\n",
              "<style scoped>\n",
              "    .dataframe tbody tr th:only-of-type {\n",
              "        vertical-align: middle;\n",
              "    }\n",
              "\n",
              "    .dataframe tbody tr th {\n",
              "        vertical-align: top;\n",
              "    }\n",
              "\n",
              "    .dataframe thead th {\n",
              "        text-align: right;\n",
              "    }\n",
              "</style>\n",
              "<table border=\"1\" class=\"dataframe\">\n",
              "  <thead>\n",
              "    <tr style=\"text-align: right;\">\n",
              "      <th></th>\n",
              "      <th>amount_tsh</th>\n",
              "      <th>region_code</th>\n",
              "      <th>population</th>\n",
              "      <th>gps_height</th>\n",
              "      <th>construction_year</th>\n",
              "      <th>quantity</th>\n",
              "      <th>waterpoint_type</th>\n",
              "      <th>status_group</th>\n",
              "      <th>source_type</th>\n",
              "      <th>district_code</th>\n",
              "      <th>num_private</th>\n",
              "      <th>id</th>\n",
              "    </tr>\n",
              "  </thead>\n",
              "  <tbody>\n",
              "    <tr>\n",
              "      <th>0</th>\n",
              "      <td>6000.0</td>\n",
              "      <td>11</td>\n",
              "      <td>109</td>\n",
              "      <td>1390</td>\n",
              "      <td>1999</td>\n",
              "      <td>1</td>\n",
              "      <td>1</td>\n",
              "      <td>1</td>\n",
              "      <td>1</td>\n",
              "      <td>5</td>\n",
              "      <td>0</td>\n",
              "      <td>69572</td>\n",
              "    </tr>\n",
              "    <tr>\n",
              "      <th>1</th>\n",
              "      <td>0.0</td>\n",
              "      <td>20</td>\n",
              "      <td>280</td>\n",
              "      <td>1399</td>\n",
              "      <td>2010</td>\n",
              "      <td>2</td>\n",
              "      <td>1</td>\n",
              "      <td>1</td>\n",
              "      <td>2</td>\n",
              "      <td>2</td>\n",
              "      <td>0</td>\n",
              "      <td>8776</td>\n",
              "    </tr>\n",
              "    <tr>\n",
              "      <th>2</th>\n",
              "      <td>25.0</td>\n",
              "      <td>21</td>\n",
              "      <td>250</td>\n",
              "      <td>686</td>\n",
              "      <td>2009</td>\n",
              "      <td>1</td>\n",
              "      <td>4</td>\n",
              "      <td>1</td>\n",
              "      <td>3</td>\n",
              "      <td>4</td>\n",
              "      <td>0</td>\n",
              "      <td>34310</td>\n",
              "    </tr>\n",
              "    <tr>\n",
              "      <th>3</th>\n",
              "      <td>0.0</td>\n",
              "      <td>90</td>\n",
              "      <td>58</td>\n",
              "      <td>263</td>\n",
              "      <td>1986</td>\n",
              "      <td>0</td>\n",
              "      <td>4</td>\n",
              "      <td>0</td>\n",
              "      <td>4</td>\n",
              "      <td>63</td>\n",
              "      <td>0</td>\n",
              "      <td>67743</td>\n",
              "    </tr>\n",
              "    <tr>\n",
              "      <th>4</th>\n",
              "      <td>0.0</td>\n",
              "      <td>18</td>\n",
              "      <td>0</td>\n",
              "      <td>0</td>\n",
              "      <td>1986</td>\n",
              "      <td>3</td>\n",
              "      <td>1</td>\n",
              "      <td>1</td>\n",
              "      <td>2</td>\n",
              "      <td>1</td>\n",
              "      <td>0</td>\n",
              "      <td>19728</td>\n",
              "    </tr>\n",
              "    <tr>\n",
              "      <th>5</th>\n",
              "      <td>20.0</td>\n",
              "      <td>4</td>\n",
              "      <td>1</td>\n",
              "      <td>0</td>\n",
              "      <td>2009</td>\n",
              "      <td>1</td>\n",
              "      <td>4</td>\n",
              "      <td>1</td>\n",
              "      <td>5</td>\n",
              "      <td>8</td>\n",
              "      <td>0</td>\n",
              "      <td>9944</td>\n",
              "    </tr>\n",
              "    <tr>\n",
              "      <th>6</th>\n",
              "      <td>0.0</td>\n",
              "      <td>17</td>\n",
              "      <td>0</td>\n",
              "      <td>0</td>\n",
              "      <td>1986</td>\n",
              "      <td>1</td>\n",
              "      <td>2</td>\n",
              "      <td>0</td>\n",
              "      <td>4</td>\n",
              "      <td>3</td>\n",
              "      <td>0</td>\n",
              "      <td>19816</td>\n",
              "    </tr>\n",
              "    <tr>\n",
              "      <th>7</th>\n",
              "      <td>0.0</td>\n",
              "      <td>17</td>\n",
              "      <td>0</td>\n",
              "      <td>0</td>\n",
              "      <td>1986</td>\n",
              "      <td>1</td>\n",
              "      <td>2</td>\n",
              "      <td>0</td>\n",
              "      <td>6</td>\n",
              "      <td>3</td>\n",
              "      <td>0</td>\n",
              "      <td>54551</td>\n",
              "    </tr>\n",
              "    <tr>\n",
              "      <th>8</th>\n",
              "      <td>0.0</td>\n",
              "      <td>14</td>\n",
              "      <td>0</td>\n",
              "      <td>0</td>\n",
              "      <td>1986</td>\n",
              "      <td>3</td>\n",
              "      <td>2</td>\n",
              "      <td>0</td>\n",
              "      <td>4</td>\n",
              "      <td>6</td>\n",
              "      <td>0</td>\n",
              "      <td>53934</td>\n",
              "    </tr>\n",
              "    <tr>\n",
              "      <th>9</th>\n",
              "      <td>0.0</td>\n",
              "      <td>18</td>\n",
              "      <td>0</td>\n",
              "      <td>0</td>\n",
              "      <td>1986</td>\n",
              "      <td>1</td>\n",
              "      <td>2</td>\n",
              "      <td>1</td>\n",
              "      <td>6</td>\n",
              "      <td>1</td>\n",
              "      <td>0</td>\n",
              "      <td>46144</td>\n",
              "    </tr>\n",
              "  </tbody>\n",
              "</table>\n",
              "</div>"
            ],
            "text/plain": [
              "   amount_tsh  region_code  population  ...  district_code  num_private     id\n",
              "0      6000.0           11         109  ...              5            0  69572\n",
              "1         0.0           20         280  ...              2            0   8776\n",
              "2        25.0           21         250  ...              4            0  34310\n",
              "3         0.0           90          58  ...             63            0  67743\n",
              "4         0.0           18           0  ...              1            0  19728\n",
              "5        20.0            4           1  ...              8            0   9944\n",
              "6         0.0           17           0  ...              3            0  19816\n",
              "7         0.0           17           0  ...              3            0  54551\n",
              "8         0.0           14           0  ...              6            0  53934\n",
              "9         0.0           18           0  ...              1            0  46144\n",
              "\n",
              "[10 rows x 12 columns]"
            ]
          },
          "metadata": {
            "tags": []
          },
          "execution_count": 85
        }
      ]
    },
    {
      "cell_type": "code",
      "metadata": {
        "id": "8NrfCUoAjk0e",
        "colab_type": "code",
        "colab": {
          "base_uri": "https://localhost:8080/",
          "height": 34
        },
        "outputId": "37dbf1ac-d844-4ac4-9a4b-04644eaed2a5"
      },
      "source": [
        "subset_water['status_group'].unique()"
      ],
      "execution_count": 88,
      "outputs": [
        {
          "output_type": "execute_result",
          "data": {
            "text/plain": [
              "array([1, 0, 2])"
            ]
          },
          "metadata": {
            "tags": []
          },
          "execution_count": 88
        }
      ]
    },
    {
      "cell_type": "markdown",
      "metadata": {
        "id": "1PFPU8H8wa1N",
        "colab_type": "text"
      },
      "source": [
        "From the array above we see that we have three codes associated with \"status_group\". I porpose to combine code 2 (Functional Needs Repair) with code 0 (Non Functional). Basically, the pump is working or it is not, if it is not working then it needs repaired and put into service."
      ]
    },
    {
      "cell_type": "code",
      "metadata": {
        "id": "NrxDVwPQxJ9V",
        "colab_type": "code",
        "colab": {
          "base_uri": "https://localhost:8080/",
          "height": 156
        },
        "outputId": "e376fa87-0998-49ca-e8f1-121e133c0ca5"
      },
      "source": [
        "# Let's combine 'status_group' codes\n",
        "subset_water['status_group'] = np.where(subset_water['status_group']==2, 0, subset_water['status_group'])\n",
        "subset_water['status_group'].unique()"
      ],
      "execution_count": 89,
      "outputs": [
        {
          "output_type": "stream",
          "text": [
            "/usr/local/lib/python3.6/dist-packages/ipykernel_launcher.py:2: SettingWithCopyWarning: \n",
            "A value is trying to be set on a copy of a slice from a DataFrame.\n",
            "Try using .loc[row_indexer,col_indexer] = value instead\n",
            "\n",
            "See the caveats in the documentation: https://pandas.pydata.org/pandas-docs/stable/user_guide/indexing.html#returning-a-view-versus-a-copy\n",
            "  \n"
          ],
          "name": "stderr"
        },
        {
          "output_type": "execute_result",
          "data": {
            "text/plain": [
              "array([1, 0])"
            ]
          },
          "metadata": {
            "tags": []
          },
          "execution_count": 89
        }
      ]
    },
    {
      "cell_type": "markdown",
      "metadata": {
        "id": "r64DsRqJxw8u",
        "colab_type": "text"
      },
      "source": [
        "As you can see we no only have two codes 0 for Non Functional and 1 for Functional."
      ]
    },
    {
      "cell_type": "code",
      "metadata": {
        "id": "3IIxAPrjBqGn",
        "colab_type": "code",
        "colab": {
          "base_uri": "https://localhost:8080/",
          "height": 340
        },
        "outputId": "d4f75d49-00df-45c1-e1c1-224ea4b05ebe"
      },
      "source": [
        "# Let's check for null values\n",
        "subset_water.info()"
      ],
      "execution_count": 90,
      "outputs": [
        {
          "output_type": "stream",
          "text": [
            "<class 'pandas.core.frame.DataFrame'>\n",
            "RangeIndex: 59400 entries, 0 to 59399\n",
            "Data columns (total 12 columns):\n",
            " #   Column             Non-Null Count  Dtype  \n",
            "---  ------             --------------  -----  \n",
            " 0   amount_tsh         59400 non-null  float64\n",
            " 1   region_code        59400 non-null  int64  \n",
            " 2   population         59400 non-null  int64  \n",
            " 3   gps_height         59400 non-null  int64  \n",
            " 4   construction_year  59400 non-null  int64  \n",
            " 5   quantity           59400 non-null  int64  \n",
            " 6   waterpoint_type    59400 non-null  int64  \n",
            " 7   status_group       59400 non-null  int64  \n",
            " 8   source_type        59400 non-null  int64  \n",
            " 9   district_code      59400 non-null  int64  \n",
            " 10  num_private        59400 non-null  int64  \n",
            " 11  id                 59400 non-null  int64  \n",
            "dtypes: float64(1), int64(11)\n",
            "memory usage: 5.4 MB\n"
          ],
          "name": "stdout"
        }
      ]
    },
    {
      "cell_type": "markdown",
      "metadata": {
        "id": "bMFwNDmRVPRc",
        "colab_type": "text"
      },
      "source": [
        "All values are at 59,400 so we have no Null values in our data set."
      ]
    },
    {
      "cell_type": "code",
      "metadata": {
        "id": "mnKQ9fD8IFCF",
        "colab_type": "code",
        "colab": {
          "base_uri": "https://localhost:8080/",
          "height": 51
        },
        "outputId": "205a79ec-5e26-45bc-c646-36f4386c35e6"
      },
      "source": [
        "# Spliting the data into Train and Test Sets and looking at the shape of the Train/Test Sets\n",
        "X = subset_water.drop('status_group', axis=1)\n",
        "y = subset_water['status_group']\n",
        "X = preprocessing.StandardScaler().fit(X).transform(X.astype(float))\n",
        "X_train, X_test, y_train, y_test = train_test_split(X, y, test_size=0.2, stratify=y, random_state=123)\n",
        "print('Training Set: ', X_train.shape, y_train.shape)\n",
        "print('Testing Set: ', X_test.shape, y_test.shape)\n",
        "\n",
        "\n"
      ],
      "execution_count": 103,
      "outputs": [
        {
          "output_type": "stream",
          "text": [
            "Training Set:  (47520, 11) (47520,)\n",
            "Testing Set:  (11880, 11) (11880,)\n"
          ],
          "name": "stdout"
        }
      ]
    },
    {
      "cell_type": "code",
      "metadata": {
        "id": "idf5hc0DNZ4b",
        "colab_type": "code",
        "colab": {
          "base_uri": "https://localhost:8080/",
          "height": 559
        },
        "outputId": "56248945-a066-4a6b-8fc3-255c4facd317"
      },
      "source": [
        "# Let's try Logistic Regression\n",
        "LR = LogisticRegression(C=0.00008, random_state=123)\n",
        "LR.fit(X_train, y_train)\n",
        "y_pred = LR.predict(X_test)\n",
        "print('Accuarcy:', metrics.accuracy_score(y_pred, y_test))\n",
        "\n",
        "## 5-Fold Cross Validation\n",
        "cv_scores = cross_val_score(LR, X, y, cv=5)\n",
        "\n",
        "# Print the 5-Fold Cross Validation Scores\n",
        "print()\n",
        "print(classification_report(y_test, y_pred))\n",
        "print()\n",
        "print(\"Average 5-Fold CV Score: {}\".format(round(np.mean(cv_scores),4)),\n",
        "      \", Standard Deviation: {}\".format(round(np.std(cv_scores),4)))\n",
        "plt.figure(figsize=(4,3))\n",
        "ConfMatrix = confusion_matrix(y_test,LR.predict(X_test))\n",
        "sns.heatmap(ConfMatrix, annot=True, cmap=\"Blues\", fmt='d',\n",
        "            xticklabels = ['Non Functional', 'Functional', 'Repair'],\n",
        "            yticklabels = ['Non Functional', 'Functional', 'Repair'])\n",
        "\n",
        "plt.ylabel('True Label - Pump Status')\n",
        "plt.xlabel('Predicted Label - Tanzanian Water Pump Status')\n",
        "plt.title(\"Confusion Matrix/Logistic Regression - Tanzanian Water Pump Data\");\n"
      ],
      "execution_count": 104,
      "outputs": [
        {
          "output_type": "stream",
          "text": [
            "Accuarcy: 0.6178451178451179\n",
            "\n",
            "              precision    recall  f1-score   support\n",
            "\n",
            "           0       0.62      0.44      0.51      5428\n",
            "           1       0.62      0.77      0.69      6452\n",
            "\n",
            "    accuracy                           0.62     11880\n",
            "   macro avg       0.62      0.60      0.60     11880\n",
            "weighted avg       0.62      0.62      0.61     11880\n",
            "\n",
            "\n",
            "Average 5-Fold CV Score: 0.6164 , Standard Deviation: 0.0028\n"
          ],
          "name": "stdout"
        },
        {
          "output_type": "display_data",
          "data": {
            "image/png": "[encoded data removed]",
            "text/plain": [
              "<Figure size 288x216 with 2 Axes>"
            ]
          },
          "metadata": {
            "tags": [],
            "needs_background": "light"
          }
        }
      ]
    },
    {
      "cell_type": "code",
      "metadata": {
        "id": "LllqLdQchzSM",
        "colab_type": "code",
        "colab": {
          "base_uri": "https://localhost:8080/",
          "height": 119
        },
        "outputId": "005fc4c3-36b9-4d5e-af88-6a96aeb0761a"
      },
      "source": [
        "# Let's see if we can get a Decision Tree Classification Model to run\n",
        "dtc = DecisionTreeClassifier(criterion='entropy', max_depth=5).fit(X_train, y_train)\n",
        "dtc"
      ],
      "execution_count": 93,
      "outputs": [
        {
          "output_type": "execute_result",
          "data": {
            "text/plain": [
              "DecisionTreeClassifier(ccp_alpha=0.0, class_weight=None, criterion='entropy',\n",
              "                       max_depth=5, max_features=None, max_leaf_nodes=None,\n",
              "                       min_impurity_decrease=0.0, min_impurity_split=None,\n",
              "                       min_samples_leaf=1, min_samples_split=2,\n",
              "                       min_weight_fraction_leaf=0.0, presort='deprecated',\n",
              "                       random_state=None, splitter='best')"
            ]
          },
          "metadata": {
            "tags": []
          },
          "execution_count": 93
        }
      ]
    },
    {
      "cell_type": "code",
      "metadata": {
        "id": "fzjLLeMMXXz0",
        "colab_type": "code",
        "colab": {}
      },
      "source": [
        "## 5-Fold Cross Validation\n",
        "cv_scores = cross_val_score(dtc, X, y, cv=5)"
      ],
      "execution_count": null,
      "outputs": []
    },
    {
      "cell_type": "code",
      "metadata": {
        "id": "5hQ7jsU-Xtwa",
        "colab_type": "code",
        "colab": {
          "base_uri": "https://localhost:8080/",
          "height": 542
        },
        "outputId": "819b0288-5513-43ad-ad4c-140b2b02908f"
      },
      "source": [
        "# Let's print the 5-Fold Cross Validation Scores\n",
        "print()\n",
        "print(classification_report(y_test, y_pred))\n",
        "print()\n",
        "print(\"Average 5-Fold CV Score: {}\". format(round(np.mean(cv_scores),4)),\n",
        "      \", Standard Devation: {}\".format(round(np.std(cv_scores),4)))\n",
        "\n",
        "plt.figure(figsize=(4,3))\n",
        "ConfMatrix = confusion_matrix(y_test,dtc.predict(X_test))\n",
        "sns.heatmap(ConfMatrix, annot=True, cmap=\"Blues\", fmt='d',\n",
        "            xticklabels = ['Non Functional', 'Functional', 'Repair'],\n",
        "            yticklabels = ['Non Functional', 'Functional', 'Repair'])\n",
        "plt.ylabel('True Label')\n",
        "plt.xlabel('Predicted Label')\n",
        "plt.title(\"Confusion Matric/Decision Tree - Tanzaanian Water Pump Data\");"
      ],
      "execution_count": 94,
      "outputs": [
        {
          "output_type": "stream",
          "text": [
            "\n",
            "              precision    recall  f1-score   support\n",
            "\n",
            "           0       0.62      0.44      0.51      5428\n",
            "           1       0.62      0.77      0.69      6452\n",
            "\n",
            "    accuracy                           0.62     11880\n",
            "   macro avg       0.62      0.60      0.60     11880\n",
            "weighted avg       0.62      0.62      0.61     11880\n",
            "\n",
            "\n",
            "Average 5-Fold CV Score: 0.6164 , Standard Devation: 0.0028\n"
          ],
          "name": "stdout"
        },
        {
          "output_type": "display_data",
          "data": {
            "image/png": "[encoded data removed]",
            "text/plain": [
              "<Figure size 288x216 with 2 Axes>"
            ]
          },
          "metadata": {
            "tags": [],
            "needs_background": "light"
          }
        }
      ]
    },
    {
      "cell_type": "code",
      "metadata": {
        "id": "7uMQscLfiP6P",
        "colab_type": "code",
        "colab": {
          "base_uri": "https://localhost:8080/",
          "height": 51
        },
        "outputId": "4a9925cd-547b-4b86-e0ed-7a723dacfc57"
      },
      "source": [
        "# Let's Predict with Accuracy Evaluation\n",
        "yhat= dtc.predict(X_test)\n",
        "print('Training Set Accuracy: ', metrics.accuracy_score(y_train, dtc.predict(X_train)))\n",
        "print('Test Set Accuracy: ', metrics.accuracy_score(y_test, yhat))\n"
      ],
      "execution_count": 105,
      "outputs": [
        {
          "output_type": "stream",
          "text": [
            "Training Set Accuracy:  0.7235690235690235\n",
            "Test Set Accuracy:  0.7248316498316498\n"
          ],
          "name": "stdout"
        }
      ]
    },
    {
      "cell_type": "markdown",
      "metadata": {
        "id": "4oZbsBEIi3yx",
        "colab_type": "text"
      },
      "source": [
        "Ok, running a Decision Tree Classifer got us an 12.4 point jump in the accuracy score from 59.6% to 72% that is a good increase in the model's accuracy."
      ]
    },
    {
      "cell_type": "markdown",
      "metadata": {
        "id": "vysvaZQ-tOQ9",
        "colab_type": "text"
      },
      "source": [
        "Next, Let's try an build a Random Forest Classifier, and then fold in with Grid Search/Cross Validation Model."
      ]
    },
    {
      "cell_type": "code",
      "metadata": {
        "id": "1UN4PLhatb6l",
        "colab_type": "code",
        "colab": {
          "base_uri": "https://localhost:8080/",
          "height": 51
        },
        "outputId": "234de7ea-34a4-493b-c2b1-28b99a5e141c"
      },
      "source": [
        "rfc = RandomForestClassifier(criterion='entropy', max_depth=7).fit(X_train, y_train)\n",
        "yhatRF = rfc.predict(X_test)\n",
        "print('Training Set Accuracy: ', metrics.accuracy_score(y_train, rfc.predict(X_train)))\n",
        "print('Testing Set Accuracy: ', metrics.accuracy_score(y_test, yhatRF))\n"
      ],
      "execution_count": 106,
      "outputs": [
        {
          "output_type": "stream",
          "text": [
            "Training Set Accuracy:  0.7430345117845117\n",
            "Testing Set Accuracy:  0.7432659932659933\n"
          ],
          "name": "stdout"
        }
      ]
    },
    {
      "cell_type": "markdown",
      "metadata": {
        "id": "jm4uexm-uchd",
        "colab_type": "text"
      },
      "source": [
        "The Accuracy went up to 74.32% on the Training Set, and 74.22% on the Testing Set."
      ]
    },
    {
      "cell_type": "code",
      "metadata": {
        "id": "qWnGd6mVuvKp",
        "colab_type": "code",
        "colab": {
          "base_uri": "https://localhost:8080/",
          "height": 51
        },
        "outputId": "e1221a12-3df2-45c2-9387-22e74e4d2e16"
      },
      "source": [
        "# RFC with Grid Search and Cross Validation\n",
        "rfc_params = {'n_estimators':[2,5,10,20,50,75,150],\n",
        "              'criterion':['gini', 'entropy'],\n",
        "              'max_depth':[2,5,10,20,50,None],\n",
        "              'min_samples_split':[2,5,10,20]}\n",
        "\n",
        "grid_rfc = GridSearchCV(RandomForestClassifier(),\n",
        "                        rfc_params, \n",
        "                        cv=5,\n",
        "                        scoring='accuracy').fit(X_train, y_train)\n",
        "\n",
        "yhatGS = grid_rfc.predict(X_test)\n",
        "\n",
        "print('Training Set Accuracy: ', metrics.accuracy_score(y_train, grid_rfc.predict(X_train)))\n",
        "print('Testing Set Accuracy: ', metrics.accuracy_score(y_test, yhatGS))\n"
      ],
      "execution_count": 109,
      "outputs": [
        {
          "output_type": "stream",
          "text": [
            "Training Set Accuracy:  0.8933922558922559\n",
            "Testing Set Accuracy:  0.7992424242424242\n"
          ],
          "name": "stdout"
        }
      ]
    },
    {
      "cell_type": "code",
      "metadata": {
        "id": "1DJTx6GK7WaX",
        "colab_type": "code",
        "colab": {
          "base_uri": "https://localhost:8080/",
          "height": 534
        },
        "outputId": "6d3ee104-378b-4dc1-cfc5-6713b9f0de9e"
      },
      "source": [
        "## 5-Fold Cross-Validation\n",
        "cv_scores = cross_val_score(rfc, X, y, cv=5)\n",
        "\n",
        "# Print the 5-Fold Cross-Validation Scores\n",
        "print()\n",
        "print(classification_report(y_test, y_pred))\n",
        "print()\n",
        "print(\"Average 5-Fold CV Scores: {}\".format(round(np.mean(cv_scores),4)),\n",
        "      \", Standard Deviation: {}\".format(round(np.std(cv_scores),4)))\n",
        "plt.figure(figsize=(4,3))\n",
        "ConfMatrix = confusion_matrix(y_test,rfc.predict(X_test))\n",
        "sns.heatmap(ConfMatrix,annot=True, cmap=\"Blues\", fmt='d',\n",
        "            xticklabels = ['Non Funtional', 'Functional', 'Repair'],\n",
        "            yticklabels = ['Non Functional', 'Functional', 'Repair'])\n",
        "plt.ylabel('True Label')\n",
        "plt.xlabel('Predicted Label')\n",
        "plt.title(\"Confusion Matrix/Random Forest - Tanzanian Water Pump Data\");\n",
        "\n",
        "         "
      ],
      "execution_count": 107,
      "outputs": [
        {
          "output_type": "stream",
          "text": [
            "\n",
            "              precision    recall  f1-score   support\n",
            "\n",
            "           0       0.62      0.44      0.51      5428\n",
            "           1       0.62      0.77      0.69      6452\n",
            "\n",
            "    accuracy                           0.62     11880\n",
            "   macro avg       0.62      0.60      0.60     11880\n",
            "weighted avg       0.62      0.62      0.61     11880\n",
            "\n",
            "\n",
            "Average 5-Fold CV Scores: 0.7421 , Standard Deviation: 0.0051\n"
          ],
          "name": "stdout"
        },
        {
          "output_type": "display_data",
          "data": {
            "image/png": "[encoded data removed]",
            "text/plain": [
              "<Figure size 288x216 with 2 Axes>"
            ]
          },
          "metadata": {
            "tags": [],
            "needs_background": "light"
          }
        }
      ]
    },
    {
      "cell_type": "markdown",
      "metadata": {
        "id": "dUlcpxYh-HD3",
        "colab_type": "text"
      },
      "source": [
        "Next, let's run a comparision of the varioius model's performance using a ROC graph."
      ]
    },
    {
      "cell_type": "code",
      "metadata": {
        "id": "zCioelGt-VOj",
        "colab_type": "code",
        "colab": {
          "base_uri": "https://localhost:8080/",
          "height": 470
        },
        "outputId": "288e5a5e-9be6-4bc5-d96d-05acb5dd5d5c"
      },
      "source": [
        "y_pred_proba_log = LR.predict_proba(X_test)[::,1]\n",
        "fpr1, tpr1, _ = metrics.roc_curve(y_test, y_pred_proba_log)\n",
        "auc1 = metrics.roc_auc_score(y_test, y_pred_proba_log)\n",
        "\n",
        "y_pred_proba_dtc = dtc.predict_proba(X_test)[::,1]\n",
        "fpr2, tpr2, _ = metrics.roc_curve(y_test, y_pred_proba_dtc)\n",
        "auc2 = metrics.roc_auc_score(y_test, y_pred_proba_dtc)\n",
        "\n",
        "y_pred_proba_rfc = rfc.predict_proba(X_test)[::,1]\n",
        "fpr3, tpr3, _ = metrics.roc_curve(y_test, y_pred_proba_rfc)\n",
        "auc3 = metrics.roc_auc_score(y_test, y_pred_proba_rfc)\n",
        "\n",
        "\n",
        "plt.figure(figsize=(10,7))\n",
        "plt.plot([0,1], [0,1], 'k--')\n",
        "plt.plot(fpr1,tpr1,label=\"Logistic Regression, auc=\"+str(round(auc1,2)))\n",
        "plt.plot(fpr2,tpr2,label=\"Decision Tree, auc=\"+str(round(auc2,2)))\n",
        "plt.plot(fpr3,tpr3,label=\"Random Forest, auc=\"+str(round(auc3,2)))\n",
        "plt.legend(loc=4, title='Models', facecolor='white')\n",
        "plt.xlabel('False Positive Rate')\n",
        "plt.ylabel('True Positive Rate')\n",
        "plt.title('ROC Graph Comparison', size=15)\n",
        "plt.box(True)\n",
        "plt.savefig('ImageName', format='png', dpi=200, transparent=False);"
      ],
      "execution_count": 110,
      "outputs": [
        {
          "output_type": "display_data",
          "data": {
            "image/png": "[encoded data removed]",
            "text/plain": [
              "<Figure size 720x504 with 1 Axes>"
            ]
          },
          "metadata": {
            "tags": [],
            "needs_background": "light"
          }
        }
      ]
    },
    {
      "cell_type": "markdown",
      "metadata": {
        "id": "WFmo1WEpF-Nq",
        "colab_type": "text"
      },
      "source": [
        "Next, let's run the test data through the model and make predictions."
      ]
    },
    {
      "cell_type": "code",
      "metadata": {
        "id": "FJEaDEhlGGcP",
        "colab_type": "code",
        "colab": {
          "base_uri": "https://localhost:8080/",
          "height": 204
        },
        "outputId": "60ef5395-440d-4d67-ce9b-23133e689b77"
      },
      "source": [
        "X2 = subset_water.drop(columns = ['id']).values\n",
        "yhat2 = grid_rfc.predict(X2)\n",
        "preds = pd.DataFrame(yhat2)\n",
        "preds.head()"
      ],
      "execution_count": 111,
      "outputs": [
        {
          "output_type": "execute_result",
          "data": {
            "text/html": [
              "<div>\n",
              "<style scoped>\n",
              "    .dataframe tbody tr th:only-of-type {\n",
              "        vertical-align: middle;\n",
              "    }\n",
              "\n",
              "    .dataframe tbody tr th {\n",
              "        vertical-align: top;\n",
              "    }\n",
              "\n",
              "    .dataframe thead th {\n",
              "        text-align: right;\n",
              "    }\n",
              "</style>\n",
              "<table border=\"1\" class=\"dataframe\">\n",
              "  <thead>\n",
              "    <tr style=\"text-align: right;\">\n",
              "      <th></th>\n",
              "      <th>0</th>\n",
              "    </tr>\n",
              "  </thead>\n",
              "  <tbody>\n",
              "    <tr>\n",
              "      <th>0</th>\n",
              "      <td>1</td>\n",
              "    </tr>\n",
              "    <tr>\n",
              "      <th>1</th>\n",
              "      <td>0</td>\n",
              "    </tr>\n",
              "    <tr>\n",
              "      <th>2</th>\n",
              "      <td>1</td>\n",
              "    </tr>\n",
              "    <tr>\n",
              "      <th>3</th>\n",
              "      <td>1</td>\n",
              "    </tr>\n",
              "    <tr>\n",
              "      <th>4</th>\n",
              "      <td>0</td>\n",
              "    </tr>\n",
              "  </tbody>\n",
              "</table>\n",
              "</div>"
            ],
            "text/plain": [
              "   0\n",
              "0  1\n",
              "1  0\n",
              "2  1\n",
              "3  1\n",
              "4  0"
            ]
          },
          "metadata": {
            "tags": []
          },
          "execution_count": 111
        }
      ]
    },
    {
      "cell_type": "code",
      "metadata": {
        "id": "U-hDqiD_YvWj",
        "colab_type": "code",
        "colab": {
          "base_uri": "https://localhost:8080/",
          "height": 34
        },
        "outputId": "43ab0997-f1c1-4812-d726-879964b4dbb8"
      },
      "source": [
        "subset_water.shape, preds.shape"
      ],
      "execution_count": 112,
      "outputs": [
        {
          "output_type": "execute_result",
          "data": {
            "text/plain": [
              "((59400, 12), (59400, 1))"
            ]
          },
          "metadata": {
            "tags": []
          },
          "execution_count": 112
        }
      ]
    },
    {
      "cell_type": "markdown",
      "metadata": {
        "id": "fqcMM7-UY3Vt",
        "colab_type": "text"
      },
      "source": [
        "So, we have two dataframes, the next step is to combine them into one dataframe. We will use the \"concat\" syntax to complete this action and combine the \"id\" column with the \"status_group\" colum. Afterward, the next step is to export the prediction to a CSV file."
      ]
    },
    {
      "cell_type": "code",
      "metadata": {
        "id": "o23GsNDZZRjs",
        "colab_type": "code",
        "colab": {
          "base_uri": "https://localhost:8080/",
          "height": 34
        },
        "outputId": "12854af0-5ebd-4aa9-924f-4e56f797b29e"
      },
      "source": [
        "predict = pd.concat((subset_water['id'], preds), axis=1)\n",
        "predict.columns=['id', 'status_group']\n",
        "predict['status_group'].unique()\n"
      ],
      "execution_count": 113,
      "outputs": [
        {
          "output_type": "execute_result",
          "data": {
            "text/plain": [
              "array([1, 0])"
            ]
          },
          "metadata": {
            "tags": []
          },
          "execution_count": 113
        }
      ]
    },
    {
      "cell_type": "code",
      "metadata": {
        "id": "vCS4Lbi5ZxFm",
        "colab_type": "code",
        "colab": {
          "base_uri": "https://localhost:8080/",
          "height": 204
        },
        "outputId": "8c6acf21-1b0a-4c2d-83c8-f6d2c8f74191"
      },
      "source": [
        "predict.head(5)"
      ],
      "execution_count": 114,
      "outputs": [
        {
          "output_type": "execute_result",
          "data": {
            "text/html": [
              "<div>\n",
              "<style scoped>\n",
              "    .dataframe tbody tr th:only-of-type {\n",
              "        vertical-align: middle;\n",
              "    }\n",
              "\n",
              "    .dataframe tbody tr th {\n",
              "        vertical-align: top;\n",
              "    }\n",
              "\n",
              "    .dataframe thead th {\n",
              "        text-align: right;\n",
              "    }\n",
              "</style>\n",
              "<table border=\"1\" class=\"dataframe\">\n",
              "  <thead>\n",
              "    <tr style=\"text-align: right;\">\n",
              "      <th></th>\n",
              "      <th>id</th>\n",
              "      <th>status_group</th>\n",
              "    </tr>\n",
              "  </thead>\n",
              "  <tbody>\n",
              "    <tr>\n",
              "      <th>0</th>\n",
              "      <td>69572</td>\n",
              "      <td>1</td>\n",
              "    </tr>\n",
              "    <tr>\n",
              "      <th>1</th>\n",
              "      <td>8776</td>\n",
              "      <td>0</td>\n",
              "    </tr>\n",
              "    <tr>\n",
              "      <th>2</th>\n",
              "      <td>34310</td>\n",
              "      <td>1</td>\n",
              "    </tr>\n",
              "    <tr>\n",
              "      <th>3</th>\n",
              "      <td>67743</td>\n",
              "      <td>1</td>\n",
              "    </tr>\n",
              "    <tr>\n",
              "      <th>4</th>\n",
              "      <td>19728</td>\n",
              "      <td>0</td>\n",
              "    </tr>\n",
              "  </tbody>\n",
              "</table>\n",
              "</div>"
            ],
            "text/plain": [
              "      id  status_group\n",
              "0  69572             1\n",
              "1   8776             0\n",
              "2  34310             1\n",
              "3  67743             1\n",
              "4  19728             0"
            ]
          },
          "metadata": {
            "tags": []
          },
          "execution_count": 114
        }
      ]
    },
    {
      "cell_type": "code",
      "metadata": {
        "id": "sKFtnow-Z2gq",
        "colab_type": "code",
        "colab": {
          "base_uri": "https://localhost:8080/",
          "height": 204
        },
        "outputId": "fc3047cc-be95-4a26-feda-67a7f68abefc"
      },
      "source": [
        "predict.tail(5)"
      ],
      "execution_count": 115,
      "outputs": [
        {
          "output_type": "execute_result",
          "data": {
            "text/html": [
              "<div>\n",
              "<style scoped>\n",
              "    .dataframe tbody tr th:only-of-type {\n",
              "        vertical-align: middle;\n",
              "    }\n",
              "\n",
              "    .dataframe tbody tr th {\n",
              "        vertical-align: top;\n",
              "    }\n",
              "\n",
              "    .dataframe thead th {\n",
              "        text-align: right;\n",
              "    }\n",
              "</style>\n",
              "<table border=\"1\" class=\"dataframe\">\n",
              "  <thead>\n",
              "    <tr style=\"text-align: right;\">\n",
              "      <th></th>\n",
              "      <th>id</th>\n",
              "      <th>status_group</th>\n",
              "    </tr>\n",
              "  </thead>\n",
              "  <tbody>\n",
              "    <tr>\n",
              "      <th>59395</th>\n",
              "      <td>60739</td>\n",
              "      <td>1</td>\n",
              "    </tr>\n",
              "    <tr>\n",
              "      <th>59396</th>\n",
              "      <td>27263</td>\n",
              "      <td>1</td>\n",
              "    </tr>\n",
              "    <tr>\n",
              "      <th>59397</th>\n",
              "      <td>37057</td>\n",
              "      <td>0</td>\n",
              "    </tr>\n",
              "    <tr>\n",
              "      <th>59398</th>\n",
              "      <td>31282</td>\n",
              "      <td>0</td>\n",
              "    </tr>\n",
              "    <tr>\n",
              "      <th>59399</th>\n",
              "      <td>26348</td>\n",
              "      <td>1</td>\n",
              "    </tr>\n",
              "  </tbody>\n",
              "</table>\n",
              "</div>"
            ],
            "text/plain": [
              "          id  status_group\n",
              "59395  60739             1\n",
              "59396  27263             1\n",
              "59397  37057             0\n",
              "59398  31282             0\n",
              "59399  26348             1"
            ]
          },
          "metadata": {
            "tags": []
          },
          "execution_count": 115
        }
      ]
    },
    {
      "cell_type": "code",
      "metadata": {
        "id": "qpjMgfOAZ8YG",
        "colab_type": "code",
        "colab": {
          "base_uri": "https://localhost:8080/",
          "height": 255
        },
        "outputId": "6bab532d-dac6-4805-acff-de494db2bda5"
      },
      "source": [
        "# let's export this to a folder on my PC\n",
        "predict.to_csv(r'C:\\PANDAS\\export2_predict.csv', index=False, header=True)\n",
        "print(predict)"
      ],
      "execution_count": 116,
      "outputs": [
        {
          "output_type": "stream",
          "text": [
            "          id  status_group\n",
            "0      69572             1\n",
            "1       8776             0\n",
            "2      34310             1\n",
            "3      67743             1\n",
            "4      19728             0\n",
            "...      ...           ...\n",
            "59395  60739             1\n",
            "59396  27263             1\n",
            "59397  37057             0\n",
            "59398  31282             0\n",
            "59399  26348             1\n",
            "\n",
            "[59400 rows x 2 columns]\n"
          ],
          "name": "stdout"
        }
      ]
    }
  ]
}